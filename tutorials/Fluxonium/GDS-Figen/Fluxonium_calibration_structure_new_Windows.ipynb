{
 "cells": [
  {
   "cell_type": "markdown",
   "id": "955dc593",
   "metadata": {},
   "source": [
    "# JJ chain calibration"
   ]
  },
  {
   "cell_type": "code",
   "execution_count": 3,
   "id": "464ee252",
   "metadata": {},
   "outputs": [
    {
     "name": "stdout",
     "output_type": "stream",
     "text": [
      "(-5000, 5000)\n",
      "(5000, 5000)\n",
      "(-5000, -5000)\n",
      "(5000, -5000)\n",
      "2.583673469387755\n"
     ]
    }
   ],
   "source": [
    "import gdspy\n",
    "from importlib import reload\n",
    "from itertools import product\n",
    "\n",
    "reload(gdspy)\n",
    "\n",
    "lib = gdspy.GdsLibrary()\n",
    "\n",
    "#######################################################################################\n",
    "\n",
    "#create base layer with main ground and markers\n",
    "main_cell = lib.new_cell('main_cell')\n",
    "\n",
    "\n",
    "\n",
    "unground = gdspy.Rectangle((-4750,-4750), (4750, 4750), layer=2)\n",
    "main_cell.add(unground)\n",
    "\n",
    "\n",
    "delta_cell = 9 / 4\n",
    "\n",
    "delta_small_cell = 9 / 4 / 3\n",
    "x_direction = (-3/2, -1/2, 1/2, 3/2)\n",
    "y_direction = (-3/2, -1/2, 1/2, 3/2)\n",
    "a = list(product(x_direction, y_direction)) + [(0., 0.)]\n",
    "d = 200\n",
    "x_ = 550\n",
    "y_ = 315\n",
    "for i in a:\n",
    "    start_x = (0 + i[0] * delta_cell) *1000 - x_\n",
    "    start_y = (0 + i[1] * delta_cell) *1000 - y_\n",
    "    num = gdspy.Text(str(d), 70, (start_x, start_y), layer=71)\n",
    "    d += 25\n",
    "    main_cell.add(num)\n",
    "    \n",
    "\n",
    "#create markers\n",
    "id_ = [(-1, 1), (1, 1), (-1, -1), (1, -1)]\n",
    "\n",
    "length_sq = 1000\n",
    "\n",
    "for i in id_:\n",
    "    corner = (i[0]*4750 - i[0]*250, i[1]*4750 - i[1]*250)\n",
    "    center = (i[0]*4750 + i[0]*250, i[1]*4750 + i[1]*250)\n",
    "    print(center)\n",
    "    \n",
    "    gr =  gdspy.Rectangle((corner[0] + i[0]*length_sq, corner[1]), (corner[0], corner[1] + i[1]*length_sq), layer=2)\n",
    "    main_cell.add(gr)\n",
    "    \n",
    "    for j in id_:\n",
    "        w = 20\n",
    "        marker = gdspy.Rectangle((center[0] + j[0]*100 - w, center[1]+ j[1]*100 - w),\n",
    "                                   (center[0] + j[0]*100 + w, center[1]+ j[1]*100 + w),  layer=3)\n",
    "        \n",
    "        main_cell.add(marker)\n",
    "        \n",
    "        \n",
    "#logo\n",
    "logo = gdspy.Text(\"Andersen L/QuTech\", 400, (-1800, -5400), layer=2)\n",
    "main_cell.add(logo)\n",
    "\n",
    "\n",
    "# add arrows for deposition\n",
    "\n",
    "arrow1_part1 = gdspy.Rectangle((-3400+700, 5300 - 500), (-3400+700+3700, 5300 + 500), layer=100)\n",
    "main_cell.add(arrow1_part1)\n",
    "\n",
    "arrow1_part2 = gdspy.Rectangle((-3400+700+3700+1100, 5300 - 500), (-3400+700+3700+1100+1000, 5300 + 500), layer=100)\n",
    "main_cell.add(arrow1_part2)\n",
    "\n",
    "\n",
    "arrow2_part1 = gdspy.Rectangle((5300 - 500, -2000+700), (5300 + 500, 2400), layer=100)\n",
    "main_cell.add(arrow2_part1)\n",
    "\n",
    "arrow2_part2 = gdspy.Rectangle((5300 - 500, -3400), (5300 + 500, -2400), layer=100)\n",
    "main_cell.add(arrow2_part2)\n",
    "\n",
    "# create orientation arrow\n",
    "op_arrow_part1 = gdspy.Rectangle((4380 - 30, -3800+250), (4380 + 30, -3800-700+250), layer=70)\n",
    "op_arrow_part2 = gdspy.Polygon([(4380-60, -3800-700+250), (4380, -3800-700-40+250), (4380+60, -3800-700+250)], layer=70)\n",
    "main_cell.add(op_arrow_part1)\n",
    "main_cell.add(op_arrow_part2)\n",
    "\n",
    "\n",
    "#######################################################################################\n",
    "\n",
    "##### N SHOULD BE EVEN!!!!!!!!!!\n",
    "# N is a number of JJ in the chain\n",
    "N = 100\n",
    "\n",
    "if int(N / 2) % 2 != 0:\n",
    "    raise ValueError('N / 2 should be even!!!')\n",
    "\n",
    "delta_x = 0.5\n",
    "# delta_x_base = 1.5\n",
    "delta_x_base = 1.5\n",
    "# nanowire_length is  the length between nanowire's pads\n",
    "nanowire_length = 130 + 3\n",
    "real_nanowire_length = nanowire_length - delta_x * 2 - delta_x_base * 2\n",
    "\n",
    "# very important shift at x direction\n",
    "SHIFT = - nanowire_length / 2\n",
    "nanowire_width = 1.3\n",
    "\n",
    "delta = 0.200  # initial width of pad\n",
    "\n",
    "\n",
    "nu_cell = 0\n",
    "\n",
    "\n",
    "start_x = 0\n",
    "start_y = 0\n",
    "\n",
    "stop_x = start_x + nanowire_length\n",
    "stop_y = start_y\n",
    "\n",
    "# for vertical and horizontallines\n",
    "step = 1.2\n",
    "delta_W = (real_nanowire_length - 2 * step) / (N / 2 - 1)\n",
    "delta_H = 3\n",
    "print(delta_W)\n",
    "\n",
    "corr1 = 1.4\n",
    "corr2 = 1\n",
    "\n",
    "u = 1\n",
    "\n",
    "while delta < 0.610:\n",
    "    cell = lib.new_cell('jj_chain' + str(nu_cell))\n",
    "    \n",
    "#     # add extra metal\n",
    "#     left_extra_pad = gdspy.Rectangle(\n",
    "#         (start_x+SHIFT, start_y - nanowire_width / 2),\n",
    "#         (start_x + delta_x_base+SHIFT, start_y + nanowire_width / 2),\n",
    "#         layer=53)\n",
    "\n",
    "#     right_extra_pad = gdspy.Rectangle(\n",
    "#         (stop_x+SHIFT, stop_y - nanowire_width / 2),\n",
    "#         (stop_x - delta_x_base+SHIFT, stop_y + nanowire_width / 2),\n",
    "#         layer=53)\n",
    "\n",
    "#     cell.add(left_extra_pad)\n",
    "#     cell.add(right_extra_pad)\n",
    "\n",
    "    # left extra pad\n",
    "    point_left_extra_pad = [\n",
    "        (start_x + delta_x_base - 1.5 + SHIFT, start_y + 0.7 / 2),\n",
    "        (start_x + delta_x_base + delta_x - 0.2 + SHIFT, start_y + 0.7 / 2),\n",
    "        (start_x + delta_x_base + delta_x+SHIFT, start_y + delta / 2),\n",
    "        (start_x + delta_x_base + delta_x+SHIFT, start_y - delta / 2),\n",
    "        (start_x + delta_x_base + delta_x - 0.2 + SHIFT, start_y - 0.7 / 2),\n",
    "        (start_x + delta_x_base - 1.5 + SHIFT, start_y - 0.7 / 2)\n",
    "    ]\n",
    "\n",
    "    left_extra_pad = gdspy.Polygon(point_left_extra_pad, layer=54)\n",
    "    cell.add(left_extra_pad)\n",
    "    \n",
    "    ban1 = gdspy.Rectangle((start_x + delta_x_base - 1.5 + SHIFT - 0.2, start_y - 0.7 / 2 - 0.2),\n",
    "                           (start_x + delta_x_base + delta_x + SHIFT + 0.2, start_y + 0.7 / 2 + 0.2),\n",
    "                          layer=56)\n",
    "    \n",
    "    cell.add(ban1)\n",
    "    \n",
    "    # left line\n",
    "    \n",
    "    left_line = gdspy.Rectangle((start_x + delta_x_base + delta_x+SHIFT, start_y - delta / 2),\n",
    "                                (start_x + delta_x_base + delta_x + step + delta+corr2+SHIFT, start_y + delta / 2), layer=54)\n",
    "    cell.add(left_line)\n",
    "    \n",
    "    undercut_left_line = gdspy.Rectangle((start_x + delta_x_base + delta_x + step + delta+corr2+SHIFT, start_y - delta / 2),\n",
    "                                         (start_x + delta_x_base + delta_x + step + delta+corr2+0.7+SHIFT, start_y + delta / 2),\n",
    "                                         layer=55)\n",
    "    cell.add(undercut_left_line)\n",
    "    \n",
    "    \n",
    "    # right extra pad\n",
    "    \n",
    "    sm_sh = (1.5 - 0.7) / 2 + 0.7\n",
    "    \n",
    "    point_right_extra_pad = [\n",
    "        (stop_x + SHIFT - sm_sh, stop_y - 1),\n",
    "        (stop_x + SHIFT - sm_sh, stop_y - 1 + delta_x_base+ delta_x - 0.2),\n",
    "        (stop_x + SHIFT - sm_sh + 0.7 / 2 - delta / 2, stop_y - 1 + delta_x_base+ delta_x - 0.2 + 0.2),\n",
    "        (stop_x + SHIFT - sm_sh + 0.7 / 2 + delta / 2, stop_y - 1 + delta_x_base+ delta_x - 0.2 + 0.2),\n",
    "        (stop_x + SHIFT - sm_sh + 0.7, stop_y - 1 + delta_x_base+ delta_x - 0.2),\n",
    "        (stop_x + SHIFT - sm_sh + 0.7, stop_y - 1),\n",
    "        \n",
    "    ]\n",
    "    \n",
    "    right_extra_pad = gdspy.Polygon(point_right_extra_pad, layer=54)\n",
    "    cell.add(right_extra_pad)\n",
    "    \n",
    "    ban2 = gdspy.Rectangle((stop_x + SHIFT - sm_sh -0.2, stop_y - 1-0.2),\n",
    "                           (stop_x + SHIFT - sm_sh + 0.7 +0.2, stop_y - 1 + delta_x_base+ delta_x - 0.2 + 0.2+0.2), \n",
    "                          layer=56)\n",
    "    cell.add(ban2)\n",
    "    \n",
    "    \n",
    "    # right vertical line \n",
    "    right_vertical_line = gdspy.Rectangle((stop_x + SHIFT - sm_sh + 0.7 / 2 - delta / 2, stop_y - 1 + delta_x_base+ delta_x - 0.2 + 0.2),\n",
    "                                          (stop_x + SHIFT - sm_sh + 0.7 / 2 + delta / 2, start_y + 6), layer=54)\n",
    "    \n",
    "    cell.add(right_vertical_line)\n",
    "    \n",
    "    \n",
    "    undercut_right_vertical_line  = gdspy.Rectangle(\n",
    "            (stop_x + SHIFT - sm_sh + 0.7 / 2 - delta / 2,\n",
    "             start_y + 6),\n",
    "            (stop_x + SHIFT - sm_sh + 0.7 / 2 + delta / 2,\n",
    "             start_y + 6 + u),\n",
    "            \n",
    "            layer=55)\n",
    "    \n",
    "    \n",
    "    cell.add(undercut_right_vertical_line)\n",
    "\n",
    "#     # right extra pad\n",
    "#     point_right_extra_pad = [\n",
    "#         (stop_x - delta_x_base + 1.5+SHIFT, stop_y + 0.7 / 2),\n",
    "#         (stop_x - delta_x_base - delta_x + 0.2+SHIFT, stop_y + 0.7 / 2),\n",
    "#         (stop_x - delta_x_base - delta_x+SHIFT, stop_y + delta / 2),\n",
    "#         (stop_x - delta_x_base - delta_x+SHIFT, stop_y - delta / 2),\n",
    "#         (stop_x - delta_x_base - delta_x + 0.2+SHIFT, stop_y - 0.7 / 2),\n",
    "#         (stop_x - delta_x_base + 1.5+SHIFT, stop_y - 0.7 / 2)\n",
    "#     ]\n",
    "\n",
    "#     right_extra_pad = gdspy.Polygon(point_right_extra_pad, layer=54)\n",
    "#     cell.add(right_extra_pad)\n",
    "    \n",
    "    \n",
    "#     # right line\n",
    "    \n",
    "#     right_line = gdspy.Rectangle((stop_x - delta_x_base - delta_x+SHIFT, stop_y + delta / 2),\n",
    "#                                 (stop_x - delta_x_base - delta_x - step - corr2+SHIFT, stop_y - delta / 2), layer=54)\n",
    "#     cell.add(right_line)\n",
    "    \n",
    "\n",
    "    \n",
    "    chain_JJ = None\n",
    "    k = 0 #  center\n",
    "    p = 0 #  down \n",
    "    for i in range(int(N / 2)):\n",
    "        \n",
    "        \n",
    "\n",
    "        vertical_pad = gdspy.Rectangle(\n",
    "            (start_x + delta_x_base + delta_x + step + delta_W * i+SHIFT,\n",
    "             start_y - 6),\n",
    "            (start_x + delta_x_base + delta_x + step + delta_W * i + delta+SHIFT,\n",
    "             start_y + 6),\n",
    "            layer=54)\n",
    "        \n",
    "        \n",
    "        undercut_vertical = gdspy.Rectangle(\n",
    "            (start_x + delta_x_base + delta_x + step + delta_W * i+SHIFT,\n",
    "             start_y + 6),\n",
    "            (start_x + delta_x_base + delta_x + step + delta_W * i + delta+SHIFT,\n",
    "             start_y + 6 + u),\n",
    "            \n",
    "            layer=55)\n",
    "\n",
    "        chain_JJ = gdspy.boolean(chain_JJ, vertical_pad, 'or')\n",
    "\n",
    "        cell.add(vertical_pad)\n",
    "        cell.add(undercut_vertical)\n",
    "\n",
    "        if i % 2 != 0: #and i != int(N / 2) - 1:\n",
    "            \n",
    "            if k % 2 == 0:\n",
    "                horizonatal_center = gdspy.Rectangle(\n",
    "                (start_x + delta_x_base + delta_x + step + delta_W * i - corr1+SHIFT,\n",
    "                 start_y - delta / 2+ 3),\n",
    "                (start_x + delta_x_base + delta_x + step + delta_W *\n",
    "                 (i + 1) + corr2+SHIFT, start_y + delta / 2+ 3),\n",
    "                layer=54)\n",
    "                \n",
    "                undercut_horizontal_center = gdspy.Rectangle(\n",
    "                (start_x + delta_x_base + delta_x + step + delta_W *\n",
    "                 (i + 1) + corr2+SHIFT, start_y - delta / 2+ 3),\n",
    "                (start_x + delta_x_base + delta_x + step + delta_W *\n",
    "                 (i + 1) + corr2 + u+SHIFT, start_y + delta / 2+ 3),\n",
    "                layer=55)\n",
    "                \n",
    "            else:\n",
    "                horizonatal_center = gdspy.Rectangle(\n",
    "                (start_x + delta_x_base + delta_x + step + delta_W * i - corr1+SHIFT,\n",
    "                 start_y - delta / 2+1),\n",
    "                (start_x + delta_x_base + delta_x + step + delta_W *\n",
    "                 (i + 1) + corr2+SHIFT, start_y + delta / 2+1),\n",
    "                layer=54)\n",
    "                \n",
    "                undercut_horizontal_center = gdspy.Rectangle(\n",
    "                (start_x + delta_x_base + delta_x + step + delta_W *\n",
    "                 (i + 1) + corr2+SHIFT, start_y - delta / 2 +1),\n",
    "                (start_x + delta_x_base + delta_x + step + delta_W *\n",
    "                 (i + 1) + corr2 + u+SHIFT, start_y + delta / 2+1),\n",
    "                layer=55)\n",
    "                \n",
    "                \n",
    "            k +=1\n",
    "        \n",
    "               \n",
    "\n",
    "            chain_JJ = gdspy.boolean(chain_JJ, horizonatal_center, 'or')\n",
    "\n",
    "            cell.add(horizonatal_center)\n",
    "\n",
    "            \n",
    "\n",
    "            cell.add(undercut_horizontal_center)\n",
    "\n",
    "        if i % 2 == 0:\n",
    "            \n",
    "            if p % 2 == 0:\n",
    "                \n",
    "                horizonatal_down = gdspy.Rectangle(\n",
    "                (start_x + delta_x_base + delta_x + step + delta_W * i - corr1+SHIFT,\n",
    "                 start_y - delta_H - delta),\n",
    "                (start_x + delta_x_base + delta_x + step + delta_W *\n",
    "                 (i + 1) + corr2+SHIFT, start_y - delta_H),\n",
    "                layer=54)\n",
    "                \n",
    "                undercut_horizontal_center = gdspy.Rectangle(\n",
    "                (start_x + delta_x_base + delta_x + step + delta_W *\n",
    "                 (i + 1) + corr2+SHIFT, start_y - delta_H),\n",
    "                (start_x + delta_x_base + delta_x + step + delta_W *\n",
    "                 (i + 1) + corr2 +u+SHIFT, start_y - delta_H - delta),\n",
    "                layer=55)\n",
    "                \n",
    "            else:\n",
    "                horizonatal_down = gdspy.Rectangle(\n",
    "                (start_x + delta_x_base + delta_x + step + delta_W * i - corr1+SHIFT,\n",
    "                 start_y - delta_H - delta + 1.5),\n",
    "                (start_x + delta_x_base + delta_x + step + delta_W *\n",
    "                 (i + 1) + corr2+SHIFT, start_y - delta_H + 1.5),\n",
    "                layer=54)\n",
    "                \n",
    "                undercut_horizontal_center = gdspy.Rectangle(\n",
    "                (start_x + delta_x_base + delta_x + step + delta_W *\n",
    "                 (i + 1) + corr2+SHIFT, start_y - delta_H+1.5),\n",
    "                (start_x + delta_x_base + delta_x + step + delta_W *\n",
    "                 (i + 1) + corr2 +u+SHIFT, start_y - delta_H - delta+1.5),\n",
    "                layer=55)\n",
    "                \n",
    "            p += 1\n",
    "\n",
    "            \n",
    "\n",
    "            chain_JJ = gdspy.boolean(chain_JJ, horizonatal_down, 'or')\n",
    "\n",
    "            cell.add(horizonatal_down)\n",
    "\n",
    "            \n",
    "\n",
    "            cell.add(undercut_horizontal_center)\n",
    "\n",
    "    # cell.add(chain_JJ)\n",
    "\n",
    "    delta += 0.025\n",
    "    nu_cell += 1"
   ]
  },
  {
   "cell_type": "code",
   "execution_count": 5,
   "id": "3f771402",
   "metadata": {},
   "outputs": [
    {
     "name": "stderr",
     "output_type": "stream",
     "text": [
      "C:\\Users\\figenyilmaz\\AppData\\Local\\Temp\\ipykernel_19256\\1312026100.py:1: DeprecationWarning: [GDSPY] Use of the global library is deprecated.  Pass LayoutViewer a GdsLibrary instance.\n",
      "  gdspy.LayoutViewer()\n"
     ]
    },
    {
     "data": {
      "text/plain": [
       "<gdspy.viewer.LayoutViewer object .!layoutviewer>"
      ]
     },
     "execution_count": 5,
     "metadata": {},
     "output_type": "execute_result"
    }
   ],
   "source": [
    "gdspy.LayoutViewer()"
   ]
  },
  {
   "cell_type": "code",
   "execution_count": 23,
   "id": "d5116f79",
   "metadata": {},
   "outputs": [],
   "source": [
    "lib.write_gds('JJ_chain_150mu_m_101_jj_new.gds')"
   ]
  },
  {
   "cell_type": "markdown",
   "id": "b7dd6671",
   "metadata": {},
   "source": [
    "# Create file with calibration structures (JJ) "
   ]
  },
  {
   "cell_type": "code",
   "execution_count": 13,
   "id": "6aa3d49c",
   "metadata": {
    "ExecuteTime": {
     "end_time": "2022-01-24T09:54:54.883547Z",
     "start_time": "2022-01-24T09:54:54.869454Z"
    }
   },
   "outputs": [],
   "source": [
    "import gdspy\n",
    "from importlib import reload\n",
    "reload(gdspy)\n",
    "\n",
    "delta = 0.04 # initial width of pad\n",
    "pad_length_left = 2.4\n",
    "pad_length_right = 1.7\n",
    "\n",
    "nu_cell = 0\n",
    "lib = gdspy.GdsLibrary()\n",
    "\n",
    "while delta < 0.210:\n",
    "    cell = lib.new_cell('junction_' + str(nu_cell))\n",
    "\n",
    "    left_big = gdspy.Rectangle((-15., -1.5), (-2., 1.5), layer=53)\n",
    "    right_big = gdspy.Rectangle((2., -1.5), (15., 1.5), layer=53)\n",
    "    \n",
    "\n",
    "    left_small = gdspy.Rectangle((-2., 0.5), (-0.2, 1.5), layer=53)\n",
    "    right_small = gdspy.Rectangle((0.2, -1.5), (2., -0.5), layer=53)\n",
    "    \n",
    "    # Pads of junctions\n",
    "    left_pad = gdspy.Rectangle((-0.6, 1 - pad_length_left + 0.2), (-0.6 + delta, 1.5), layer=54)\n",
    "    \n",
    "    right_pad = gdspy.Rectangle((0.7 - pad_length_right + 0.2, -1.0), (1.2, -1.0 + delta), layer=54)\n",
    "    \n",
    "    # parts for undercuts\n",
    "    undercut_left_pad = gdspy.Rectangle((-0.6, 1 - pad_length_left), (-0.6 + delta, 1 - pad_length_left + 0.2), layer=55)\n",
    "    \n",
    "    undercut_right_pad = gdspy.Rectangle((0.7 - pad_length_right, -1.0), (0.7 - pad_length_right + 0.2, -1.0 + delta), layer=55)\n",
    "\n",
    "    cell.add(left_big)\n",
    "    cell.add(right_big)\n",
    "\n",
    "    cell.add(left_small)\n",
    "    cell.add(right_small)\n",
    "\n",
    "    cell.add(left_pad)\n",
    "    cell.add(right_pad)\n",
    "    \n",
    "    cell.add(undercut_left_pad)\n",
    "    cell.add(undercut_right_pad)\n",
    "    \n",
    "    nu_cell += 1\n",
    "    delta += 0.01"
   ]
  },
  {
   "cell_type": "code",
   "execution_count": 14,
   "id": "2fcab827",
   "metadata": {
    "ExecuteTime": {
     "end_time": "2022-01-24T10:47:30.147767Z",
     "start_time": "2022-01-24T09:54:55.981517Z"
    }
   },
   "outputs": [
    {
     "name": "stderr",
     "output_type": "stream",
     "text": [
      "C:\\Users\\figenyilmaz\\AppData\\Local\\Temp\\ipykernel_15400\\1312026100.py:1: DeprecationWarning: [GDSPY] Use of the global library is deprecated.  Pass LayoutViewer a GdsLibrary instance.\n",
      "  gdspy.LayoutViewer()\n"
     ]
    },
    {
     "data": {
      "text/plain": [
       "<gdspy.viewer.LayoutViewer object .!layoutviewer>"
      ]
     },
     "execution_count": 14,
     "metadata": {},
     "output_type": "execute_result"
    }
   ],
   "source": [
    "gdspy.LayoutViewer()"
   ]
  },
  {
   "cell_type": "code",
   "execution_count": 15,
   "id": "3a6255a5",
   "metadata": {
    "ExecuteTime": {
     "end_time": "2022-01-24T09:15:00.892228Z",
     "start_time": "2022-01-24T09:15:00.877305Z"
    }
   },
   "outputs": [],
   "source": [
    "lib.write_gds('fluxonium_junctions.gds')"
   ]
  },
  {
   "cell_type": "markdown",
   "id": "fba7df04",
   "metadata": {},
   "source": [
    "# Create file with calibration structure with gradual narrowing"
   ]
  },
  {
   "cell_type": "code",
   "execution_count": 32,
   "id": "d1bceeca",
   "metadata": {},
   "outputs": [
    {
     "name": "stdout",
     "output_type": "stream",
     "text": [
      "(-5000, 5000)\n",
      "(5000, 5000)\n",
      "(-5000, -5000)\n",
      "(5000, -5000)\n"
     ]
    }
   ],
   "source": [
    "import gdspy\n",
    "from importlib import reload\n",
    "\n",
    "from itertools import product\n",
    "reload(gdspy)\n",
    "\n",
    "delta = 0.04 # initial width of pad\n",
    "pad_length_left = 2.8\n",
    "pad_length_right = 2.2+0.4\n",
    "\n",
    "nu_cell = 0\n",
    "lib = gdspy.GdsLibrary()\n",
    "\n",
    "#create base layer with main ground and markers\n",
    "main_cell = lib.new_cell('main_cell')\n",
    "\n",
    "\n",
    "\n",
    "unground = gdspy.Rectangle((-4750,-4750), (4750, 4750), layer=2)\n",
    "main_cell.add(unground)\n",
    "#######################################################################################\n",
    "\n",
    "delta_cell = 9 / 4\n",
    "\n",
    "delta_small_cell = 9 / 4 / 3\n",
    "x_direction = (-3/2, -1/2, 1/2, 3/2)\n",
    "y_direction = (-3/2, -1/2, 1/2, 3/2)\n",
    "a = list(product(x_direction, y_direction)) + [(0., 0.)]\n",
    "d = 40\n",
    "x_ = 550\n",
    "y_ = 315\n",
    "for i in a:\n",
    "    start_x = (0 + i[0] * delta_cell) *1000 - x_\n",
    "    start_y = (0 + i[1] * delta_cell) *1000 - y_\n",
    "    num = gdspy.Text(str(d), 70, (start_x, start_y), layer=71)\n",
    "    d += 10\n",
    "    main_cell.add(num)\n",
    "    \n",
    "\n",
    "#create markers\n",
    "id_ = [(-1, 1), (1, 1), (-1, -1), (1, -1)]\n",
    "\n",
    "length_sq = 1000\n",
    "\n",
    "for i in id_:\n",
    "    corner = (i[0]*4750 - i[0]*250, i[1]*4750 - i[1]*250)\n",
    "    center = (i[0]*4750 + i[0]*250, i[1]*4750 + i[1]*250)\n",
    "    print(center)\n",
    "    \n",
    "    gr =  gdspy.Rectangle((corner[0] + i[0]*length_sq, corner[1]), (corner[0], corner[1] + i[1]*length_sq), layer=2)\n",
    "    main_cell.add(gr)\n",
    "    \n",
    "    for j in id_:\n",
    "        w = 20\n",
    "        marker = gdspy.Rectangle((center[0] + j[0]*100 - w, center[1]+ j[1]*100 - w),\n",
    "                                   (center[0] + j[0]*100 + w, center[1]+ j[1]*100 + w),  layer=3)\n",
    "        \n",
    "        main_cell.add(marker)\n",
    "        \n",
    "        \n",
    "#logo\n",
    "logo = gdspy.Text(\"Andersen L/ QuTech\", 400, (-1800, -5400), layer=2)\n",
    "main_cell.add(logo)\n",
    "\n",
    "\n",
    "# add arrows for deposition\n",
    "\n",
    "arrow1_part1 = gdspy.Rectangle((-3400+700, 5300 - 500), (-3400+700+3700, 5300 + 500), layer=100)\n",
    "main_cell.add(arrow1_part1)\n",
    "\n",
    "arrow1_part2 = gdspy.Rectangle((-3400+700+3700+1100, 5300 - 500), (-3400+700+3700+1100+1000, 5300 + 500), layer=100)\n",
    "main_cell.add(arrow1_part2)\n",
    "\n",
    "\n",
    "arrow2_part1 = gdspy.Rectangle((5300 - 500, -2000+700), (5300 + 500, 2400), layer=100)\n",
    "main_cell.add(arrow2_part1)\n",
    "\n",
    "arrow2_part2 = gdspy.Rectangle((5300 - 500, -3400), (5300 + 500, -2400), layer=100)\n",
    "main_cell.add(arrow2_part2)\n",
    "\n",
    "# create orientation arrow\n",
    "op_arrow_part1 = gdspy.Rectangle((4380 - 30, -3800+250), (4380 + 30, -3800-700+250), layer=70)\n",
    "op_arrow_part2 = gdspy.Polygon([(4380-60, -3800-700+250), (4380, -3800-700-40+250), (4380+60, -3800-700+250)], layer=70)\n",
    "main_cell.add(op_arrow_part1)\n",
    "main_cell.add(op_arrow_part2)\n",
    "\n",
    "    \n",
    "############# NEW JUNCTIONS ##################################################################################################  \n",
    "\n",
    "while delta < 0.210:\n",
    "    cell = lib.new_cell('Junction_' + str(nu_cell))\n",
    "    \n",
    "#     left_big_points = [(-15., -1.5), (-10, -1.5), (-2., 0.5), (-2., 1.5), (-15, 1.5)]\n",
    "#     right_big_points = [(2., -1.5), (15, -1.5), (15., 1.5), (10, 1.5), (2., -0.5)]\n",
    "    \n",
    "    left_big_points = [(-15., 0), (-10, 0), (-2., 1.5), (-2., 3), (-15, 3)]\n",
    "    right_big_points = [(2., -1.5), (15, -1.5), (15., 1.5), (10, 1.5), (2., 0)]\n",
    "\n",
    "    left_big = gdspy.Polygon(left_big_points, layer=53)\n",
    "    right_big = gdspy.Polygon(right_big_points, layer=53)\n",
    "    \n",
    "#     left_small = gdspy.Rectangle((-2., 0.5), (-0.2, 1.5), layer=53)\n",
    "    \n",
    "#     right_small = gdspy.Rectangle((0.2, -1.5), (2., -0.5), layer=53)\n",
    "\n",
    "    left_small = gdspy.Rectangle((-2., 1.5), (-0.2, 3), layer=53)\n",
    "    \n",
    "    right_small = gdspy.Rectangle((0.2, -1.5), (2., 0), layer=53)\n",
    "    \n",
    "    \n",
    "    \n",
    "    # Pads of junctions\n",
    "    left_pad = gdspy.Rectangle((-1.1 - 0.4 - delta / 2, 0.75 - pad_length_left + 0.2), (-1.1 - 0.4 + delta/2, 1), layer=54)\n",
    "    \n",
    "    right_pad = gdspy.Rectangle((-0.2 - pad_length_right + 0.2, -0.75-delta/2), (-0.2, -0.75 + delta/2), layer=54)\n",
    "    \n",
    "    \n",
    "    \n",
    "    left_extra_points = [(-1.1 - 0.4 - delta / 2, 1), (-1.5 -0.4 , 1.2) ,  (-1.5-0.4, 3.5),\n",
    "                         (-0.7-0.4, 3.5),  (-0.7-0.4 , 1.2),  (-1.1 -0.4  + delta / 2, 1)]\n",
    "    \n",
    "    right_extra_points = [(-0.2, -0.75 + delta / 2), (0., -0.4),  (2.5, -0.4),\n",
    "                          (2.5, -1.1), (0., -1.1), (-0.2, -0.75 - delta / 2)]\n",
    "    \n",
    "    \n",
    "    left_pad_extra = gdspy.Polygon(left_extra_points, layer=54)\n",
    "    right_pad_extra = gdspy.Polygon(right_extra_points, layer=54)\n",
    "    \n",
    "    \n",
    "    #bandages\n",
    "    ban1 = gdspy.Rectangle((-1.5 -0.4 -0.2, 1.2-0.35),  (-0.7-0.4+0.2, 3.5+0.2), layer=56)\n",
    "    ban2 = gdspy.Rectangle((0. - 0.35, -0.4+0.2),  (2.5+0.2, -1.1-0.2), layer=56)\n",
    "    \n",
    "    \n",
    "#     left_pad_extra = gdspy.Rectangle((-1.5, 1), (-0.7, 3.5), layer=54)\n",
    "    \n",
    "#     right_pad_extra = gdspy.Rectangle((-0.2, 0-0.4), (1.5, -1.5+0.4), layer=54)\n",
    "   \n",
    "    \n",
    "\n",
    "    # parts for undercuts\n",
    "    undercut_left_pad = gdspy.Rectangle((-1.1 - 0.4- delta / 2, 0.75 - pad_length_left + 0.2 - 0.55),\n",
    "                                        (-1.1 -0.4  + delta/2, 0.75 - pad_length_left + 0.2), layer=55)\n",
    "    \n",
    "    undercut_right_pad = gdspy.Rectangle((-0.2 - pad_length_right + 0.2-0.55, -0.75-delta/2),\n",
    "                                         (-0.2 - pad_length_right + 0.2,-0.75+delta/2), layer=55)\n",
    "    \n",
    "   \n",
    "\n",
    "    cell.add(left_big)\n",
    "    cell.add(right_big)\n",
    "\n",
    "    cell.add(left_small)\n",
    "    cell.add(right_small)\n",
    "\n",
    "    cell.add(left_pad)\n",
    "    cell.add(right_pad)\n",
    "    \n",
    "    cell.add(left_pad_extra)\n",
    "    cell.add(right_pad_extra)\n",
    "    \n",
    "    \n",
    "    cell.add(ban1)\n",
    "    \n",
    "    cell.add(ban2)\n",
    "    \n",
    "    cell.add(undercut_left_pad)\n",
    "    cell.add(undercut_right_pad)\n",
    "    \n",
    "    nu_cell += 1\n",
    "    delta += 0.01\n",
    "############# OLD JUNCTIONS ##################################################################################################   \n",
    "nu_cell=0 \n",
    "delta = 0.04 # initial width of pad\n",
    "while delta < 0.210:\n",
    "    cell = lib.new_cell('Junction_old' + str(nu_cell))\n",
    "    \n",
    "    left_big_points = [(-15., 0), (-10, 0), (-2., 1.5), (-2., 3), (-15, 3)]\n",
    "    right_big_points = [(2., -1.5), (15, -1.5), (15., 1.5), (10, 1.5), (2., 0)]\n",
    "\n",
    "    left_big = gdspy.Polygon(left_big_points, layer=53)\n",
    "    right_big = gdspy.Polygon(right_big_points, layer=53)\n",
    "\n",
    "    left_small = gdspy.Rectangle((-2., 1.5), (-0.2, 3), layer=53)\n",
    "    \n",
    "    right_small = gdspy.Rectangle((0.2, -1.5), (2., 0), layer=53)\n",
    "    \n",
    "    #bandages\n",
    "    ban1 = gdspy.Rectangle((-1.5 -0.4 -0.2, 1.2-0.35),  (-0.7-0.4+0.2, 3.5+0.2), layer=56)\n",
    "    ban2 = gdspy.Rectangle((0. - 0.35, -0.4+0.2),  (2.5+0.2, -1.1-0.2), layer=56)\n",
    "    \n",
    "    \n",
    "    \n",
    "    # Pads of junctions\n",
    "    \n",
    "    left_pad = gdspy.Rectangle((-1.1 - 0.4 - delta / 2, 0.75 - pad_length_left + 0.2), (-1.1 - 0.4  + delta/2, 2.5+0.5), layer=54)\n",
    "    \n",
    "    right_pad = gdspy.Rectangle((-0.2 - pad_length_right + 0.2, -0.75-delta/2), (1.5+0.5, -0.75 + delta/2), layer=54)\n",
    "    \n",
    " \n",
    "    # parts for undercuts\n",
    "    undercut_left_pad = gdspy.Rectangle((-1.1 - 0.4 - delta / 2, 0.75 - pad_length_left + 0.2 - 0.55),\n",
    "                                        (-1.1 - 0.4 + delta/2, 0.75 - pad_length_left + 0.2), layer=55)\n",
    "    \n",
    "    undercut_right_pad = gdspy.Rectangle((-0.2 - pad_length_right + 0.2-0.55, -0.75-delta/2),\n",
    "                                         (-0.2 - pad_length_right + 0.2,-0.75+delta/2), layer=55)\n",
    "    \n",
    "    \n",
    "   \n",
    "\n",
    "    cell.add(left_big)\n",
    "    cell.add(right_big)\n",
    "\n",
    "    cell.add(left_small)\n",
    "    cell.add(right_small)\n",
    "\n",
    "    cell.add(left_pad)\n",
    "    cell.add(right_pad)\n",
    "    \n",
    "    cell.add(ban1)\n",
    "    cell.add(ban2)\n",
    "    \n",
    "    cell.add(undercut_left_pad)\n",
    "    cell.add(undercut_right_pad)\n",
    "    \n",
    "    nu_cell += 1\n",
    "    delta += 0.01\n",
    "    \n",
    "    "
   ]
  },
  {
   "cell_type": "code",
   "execution_count": 33,
   "id": "ab732d8e",
   "metadata": {},
   "outputs": [
    {
     "name": "stderr",
     "output_type": "stream",
     "text": [
      "WARNING:py.warnings:C:\\Users\\figenyilmaz\\AppData\\Local\\Temp\\ipykernel_7072\\1312026100.py:1: DeprecationWarning: [GDSPY] Use of the global library is deprecated.  Pass LayoutViewer a GdsLibrary instance.\n",
      "  gdspy.LayoutViewer()\n",
      "\n"
     ]
    },
    {
     "data": {
      "text/plain": [
       "<gdspy.viewer.LayoutViewer object .!layoutviewer>"
      ]
     },
     "execution_count": 33,
     "metadata": {},
     "output_type": "execute_result"
    }
   ],
   "source": [
    "gdspy.LayoutViewer()"
   ]
  },
  {
   "cell_type": "code",
   "execution_count": 34,
   "id": "2ce325e9",
   "metadata": {},
   "outputs": [],
   "source": [
    "lib.write_gds('fluxonium_junctions_gradual.gds')"
   ]
  },
  {
   "cell_type": "markdown",
   "id": "f0262381",
   "metadata": {},
   "source": [
    "# Create geometry of a chip"
   ]
  },
  {
   "cell_type": "code",
   "execution_count": 35,
   "id": "725182f6",
   "metadata": {
    "ExecuteTime": {
     "end_time": "2022-05-25T13:02:03.227218Z",
     "start_time": "2022-05-25T13:02:00.613187Z"
    }
   },
   "outputs": [
    {
     "name": "stdout",
     "output_type": "stream",
     "text": [
      "The autoreload extension is already loaded. To reload it, use:\n",
      "  %reload_ext autoreload\n"
     ]
    }
   ],
   "source": [
    "%load_ext autoreload\n",
    "%autoreload 2\n",
    "\n",
    "import numpy as np\n",
    "from collections import OrderedDict\n",
    "\n",
    "import qiskit_metal as metal\n",
    "from qiskit_metal import designs, draw\n",
    "from qiskit_metal import MetalGUI, Dict, open_docs\n",
    "import matplotlib.pyplot as plt\n",
    "\n",
    "from qiskit_metal.toolbox_metal import math_and_overrides\n",
    "\n",
    "from qiskit_metal.qlibrary.core import QComponent\n",
    "\n",
    "from qiskit_metal.qlibrary.tlines.meandered import RouteMeander\n",
    "from qiskit_metal.qlibrary.tlines.pathfinder import RoutePathfinder\n",
    "from qiskit_metal.qlibrary.tlines.anchored_path import RouteAnchors\n",
    "\n",
    "from qiskit_metal.qlibrary.qubits.fluxoniumEPR import FluxoniumPocket\n",
    "\n",
    "from qiskit_metal.qlibrary.terminations.launchpad_wb import LaunchpadWirebond\n",
    "\n",
    "# from qiskit_metal.qlibrary.terminations.open_to_ground_v2 import OpenToGround\n",
    "from itertools import product"
   ]
  },
  {
   "cell_type": "code",
   "execution_count": 36,
   "id": "dada21e4",
   "metadata": {
    "ExecuteTime": {
     "end_time": "2022-05-25T13:02:04.046196Z",
     "start_time": "2022-05-25T13:02:03.229321Z"
    }
   },
   "outputs": [],
   "source": [
    "design = designs.DesignPlanar()\n",
    "design.chips.main.material = 'silicon'\n",
    "design.variables['cpw_width'] = '15 um'\n",
    "design.variables['cpw_gap'] = '8.733 um'\n",
    "design._chips['main']['size']['size_x'] = '9mm'\n",
    "design._chips['main']['size']['size_y'] = '9mm'\n",
    "design.overwrite_enabled = True\n",
    "\n",
    "gui = MetalGUI(design)"
   ]
  },
  {
   "cell_type": "markdown",
   "id": "ded8fd7e",
   "metadata": {},
   "source": [
    "## Test"
   ]
  },
  {
   "cell_type": "code",
   "execution_count": 37,
   "id": "aaa14407",
   "metadata": {
    "ExecuteTime": {
     "end_time": "2022-05-25T13:02:07.311859Z",
     "start_time": "2022-05-25T13:02:07.028757Z"
    }
   },
   "outputs": [
    {
     "name": "stderr",
     "output_type": "stream",
     "text": [
      "WARNING:py.warnings:C:\\Users\\figenyilmaz\\Anaconda3\\envs\\qiskit-metal\\lib\\site-packages\\shapely\\geometry\\base.py:250: ShapelyDeprecationWarning: Setting the 'coords' to mutate a Geometry in place is deprecated, and will not be possible any more in Shapely 2.0\n",
      "  super().__setattr__(name, value)\n",
      "\n",
      "WARNING:py.warnings:c:\\users\\figenyilmaz\\documents\\github\\qiskit-metal\\qiskit_metal\\qgeometries\\qgeometries_handler.py:528: FutureWarning: The frame.append method is deprecated and will be removed from pandas in a future version. Use pandas.concat instead.\n",
      "  self.tables[kind] = table.append(df, sort=False, ignore_index=True)\n",
      "\n",
      "WARNING:py.warnings:C:\\Users\\figenyilmaz\\Anaconda3\\envs\\qiskit-metal\\lib\\site-packages\\shapely\\geometry\\base.py:250: ShapelyDeprecationWarning: Setting the 'coords' to mutate a Geometry in place is deprecated, and will not be possible any more in Shapely 2.0\n",
      "  super().__setattr__(name, value)\n",
      "\n",
      "WARNING:py.warnings:c:\\users\\figenyilmaz\\documents\\github\\qiskit-metal\\qiskit_metal\\qgeometries\\qgeometries_handler.py:528: FutureWarning: The frame.append method is deprecated and will be removed from pandas in a future version. Use pandas.concat instead.\n",
      "  self.tables[kind] = table.append(df, sort=False, ignore_index=True)\n",
      "\n",
      "WARNING:py.warnings:C:\\Users\\figenyilmaz\\Anaconda3\\envs\\qiskit-metal\\lib\\site-packages\\shapely\\geometry\\base.py:250: ShapelyDeprecationWarning: Setting the 'coords' to mutate a Geometry in place is deprecated, and will not be possible any more in Shapely 2.0\n",
      "  super().__setattr__(name, value)\n",
      "\n",
      "WARNING:py.warnings:c:\\users\\figenyilmaz\\documents\\github\\qiskit-metal\\qiskit_metal\\qgeometries\\qgeometries_handler.py:528: FutureWarning: The frame.append method is deprecated and will be removed from pandas in a future version. Use pandas.concat instead.\n",
      "  self.tables[kind] = table.append(df, sort=False, ignore_index=True)\n",
      "\n",
      "WARNING:py.warnings:C:\\Users\\figenyilmaz\\Anaconda3\\envs\\qiskit-metal\\lib\\site-packages\\shapely\\geometry\\base.py:250: ShapelyDeprecationWarning: Setting the 'coords' to mutate a Geometry in place is deprecated, and will not be possible any more in Shapely 2.0\n",
      "  super().__setattr__(name, value)\n",
      "\n",
      "WARNING:py.warnings:c:\\users\\figenyilmaz\\documents\\github\\qiskit-metal\\qiskit_metal\\qgeometries\\qgeometries_handler.py:528: FutureWarning: The frame.append method is deprecated and will be removed from pandas in a future version. Use pandas.concat instead.\n",
      "  self.tables[kind] = table.append(df, sort=False, ignore_index=True)\n",
      "\n",
      "WARNING:py.warnings:C:\\Users\\figenyilmaz\\Anaconda3\\envs\\qiskit-metal\\lib\\site-packages\\shapely\\geometry\\base.py:250: ShapelyDeprecationWarning: Setting the 'coords' to mutate a Geometry in place is deprecated, and will not be possible any more in Shapely 2.0\n",
      "  super().__setattr__(name, value)\n",
      "\n",
      "WARNING:py.warnings:c:\\users\\figenyilmaz\\documents\\github\\qiskit-metal\\qiskit_metal\\qgeometries\\qgeometries_handler.py:528: FutureWarning: The frame.append method is deprecated and will be removed from pandas in a future version. Use pandas.concat instead.\n",
      "  self.tables[kind] = table.append(df, sort=False, ignore_index=True)\n",
      "\n",
      "WARNING:py.warnings:C:\\Users\\figenyilmaz\\Anaconda3\\envs\\qiskit-metal\\lib\\site-packages\\shapely\\geometry\\base.py:250: ShapelyDeprecationWarning: Setting the 'coords' to mutate a Geometry in place is deprecated, and will not be possible any more in Shapely 2.0\n",
      "  super().__setattr__(name, value)\n",
      "\n",
      "WARNING:py.warnings:c:\\users\\figenyilmaz\\documents\\github\\qiskit-metal\\qiskit_metal\\qgeometries\\qgeometries_handler.py:528: FutureWarning: The frame.append method is deprecated and will be removed from pandas in a future version. Use pandas.concat instead.\n",
      "  self.tables[kind] = table.append(df, sort=False, ignore_index=True)\n",
      "\n",
      "WARNING:py.warnings:C:\\Users\\figenyilmaz\\Anaconda3\\envs\\qiskit-metal\\lib\\site-packages\\shapely\\geometry\\base.py:250: ShapelyDeprecationWarning: Setting the 'coords' to mutate a Geometry in place is deprecated, and will not be possible any more in Shapely 2.0\n",
      "  super().__setattr__(name, value)\n",
      "\n",
      "WARNING:py.warnings:c:\\users\\figenyilmaz\\documents\\github\\qiskit-metal\\qiskit_metal\\qgeometries\\qgeometries_handler.py:528: FutureWarning: The frame.append method is deprecated and will be removed from pandas in a future version. Use pandas.concat instead.\n",
      "  self.tables[kind] = table.append(df, sort=False, ignore_index=True)\n",
      "\n",
      "WARNING:py.warnings:C:\\Users\\figenyilmaz\\Anaconda3\\envs\\qiskit-metal\\lib\\site-packages\\shapely\\geometry\\base.py:250: ShapelyDeprecationWarning: Setting the 'coords' to mutate a Geometry in place is deprecated, and will not be possible any more in Shapely 2.0\n",
      "  super().__setattr__(name, value)\n",
      "\n",
      "WARNING:py.warnings:c:\\users\\figenyilmaz\\documents\\github\\qiskit-metal\\qiskit_metal\\qgeometries\\qgeometries_handler.py:528: FutureWarning: The frame.append method is deprecated and will be removed from pandas in a future version. Use pandas.concat instead.\n",
      "  self.tables[kind] = table.append(df, sort=False, ignore_index=True)\n",
      "\n",
      "WARNING:py.warnings:C:\\Users\\figenyilmaz\\Anaconda3\\envs\\qiskit-metal\\lib\\site-packages\\descartes\\patch.py:62: ShapelyDeprecationWarning: The array interface is deprecated and will no longer work in Shapely 2.0. Convert the '.coords' to a numpy array instead.\n",
      "  vertices = concatenate([\n",
      "\n",
      "WARNING:py.warnings:C:\\Users\\figenyilmaz\\Anaconda3\\envs\\qiskit-metal\\lib\\site-packages\\descartes\\patch.py:62: ShapelyDeprecationWarning: The array interface is deprecated and will no longer work in Shapely 2.0. Convert the '.coords' to a numpy array instead.\n",
      "  vertices = concatenate([\n",
      "\n",
      "WARNING:py.warnings:C:\\Users\\figenyilmaz\\Anaconda3\\envs\\qiskit-metal\\lib\\site-packages\\descartes\\patch.py:62: ShapelyDeprecationWarning: The array interface is deprecated and will no longer work in Shapely 2.0. Convert the '.coords' to a numpy array instead.\n",
      "  vertices = concatenate([\n",
      "\n"
     ]
    },
    {
     "name": "stdout",
     "output_type": "stream",
     "text": [
      "Qubit-position: (0, 0)\n"
     ]
    }
   ],
   "source": [
    "from qiskit_metal.qlibrary.qubits.fluxoniumEPR import FluxoniumPocket\n",
    "pos_x_ = 0\n",
    "pos_y_ = 0\n",
    "gds_cell_name_jj = 'Junction_0'\n",
    "gds_cell_name_inductor = 'JJ_Array0'\n",
    "nu_qubit=1\n",
    "\n",
    "position = (pos_x_, pos_y_)\n",
    "print('Qubit-position:', position)\n",
    "\n",
    "options = dict(chip='main', nanowire = False,               \n",
    "               \n",
    "               gds_cell_name=gds_cell_name_jj,\n",
    "               gds_cell_inductor=gds_cell_name_inductor ,\n",
    "\n",
    "               flux_bias_line_options=Dict(make_fbl=False,\n",
    "                                                   fbl_sep='100um',\n",
    "                                           ),\n",
    "               charge_line_options=Dict(loc_H=-1, make_cl=False,\n",
    "                                        cl_sep='-10um',\n",
    "                                        ),\n",
    "               readout_line_options=Dict(loc_H=+1, make_rol=False,\n",
    "                                         pad_width='300um', pad_height='80um',\n",
    "                                         pad_sep='60um',\n",
    "                                         ))\n",
    "\n",
    "\n",
    "q = FluxoniumPocket(design, 'Q' + str(nu_qubit), options=dict(\n",
    "    **options))\n",
    "\n",
    "gui.rebuild()"
   ]
  },
  {
   "cell_type": "markdown",
   "id": "b49fc307",
   "metadata": {},
   "source": [
    "## Test GDS "
   ]
  },
  {
   "cell_type": "code",
   "execution_count": 38,
   "id": "6db666a5",
   "metadata": {
    "ExecuteTime": {
     "end_time": "2022-05-25T13:02:17.933273Z",
     "start_time": "2022-05-25T13:02:17.893552Z"
    }
   },
   "outputs": [
    {
     "data": {
      "text/plain": [
       "{'short_segments_to_not_fillet': 'True',\n",
       " 'check_short_segments_by_scaling_fillet': '2.0',\n",
       " 'gds_unit': 0.001,\n",
       " 'ground_plane': 'True',\n",
       " 'negative_mask': {'main': []},\n",
       " 'fabricate': 'False',\n",
       " 'corners': 'circular bend',\n",
       " 'tolerance': '0.00001',\n",
       " 'precision': '0.000000001',\n",
       " 'width_LineString': '10um',\n",
       " 'path_filename': '../resources/Fake_Junctions.GDS',\n",
       " 'junction_pad_overlap': '5um',\n",
       " 'max_points': '199',\n",
       " 'cheese': {'datatype': '100',\n",
       "  'shape': '0',\n",
       "  'cheese_0_x': '25um',\n",
       "  'cheese_0_y': '25um',\n",
       "  'cheese_1_radius': '100um',\n",
       "  'view_in_file': {'main': {1: True}},\n",
       "  'delta_x': '100um',\n",
       "  'delta_y': '100um',\n",
       "  'edge_nocheese': '200um'},\n",
       " 'no_cheese': {'datatype': '99',\n",
       "  'buffer': '25um',\n",
       "  'cap_style': '2',\n",
       "  'join_style': '2',\n",
       "  'view_in_file': {'main': {1: True}}},\n",
       " 'bounding_box_scale_x': '1.2',\n",
       " 'bounding_box_scale_y': '1.2'}"
      ]
     },
     "execution_count": 38,
     "metadata": {},
     "output_type": "execute_result"
    }
   ],
   "source": [
    "fluxonium_gds = design.renderers.gds\n",
    "fluxonium_gds.options"
   ]
  },
  {
   "cell_type": "code",
   "execution_count": 39,
   "id": "a279f53b",
   "metadata": {
    "ExecuteTime": {
     "end_time": "2022-05-25T13:02:18.450514Z",
     "start_time": "2022-05-25T13:02:18.406562Z"
    }
   },
   "outputs": [],
   "source": [
    "fluxonium_gds.options['path_filename'] = 'fluxonium_calibration_structure_jj_and_chains.gds'"
   ]
  },
  {
   "cell_type": "code",
   "execution_count": 40,
   "id": "faaea04b",
   "metadata": {
    "ExecuteTime": {
     "end_time": "2022-05-25T13:02:18.851294Z",
     "start_time": "2022-05-25T13:02:18.822138Z"
    }
   },
   "outputs": [],
   "source": [
    "fluxonium_gds.options['fabricate'] = True"
   ]
  },
  {
   "cell_type": "code",
   "execution_count": 41,
   "id": "b3f5b274",
   "metadata": {
    "ExecuteTime": {
     "end_time": "2022-05-25T13:02:19.568030Z",
     "start_time": "2022-05-25T13:02:19.524395Z"
    }
   },
   "outputs": [
    {
     "data": {
      "text/plain": [
       "{'short_segments_to_not_fillet': 'True',\n",
       " 'check_short_segments_by_scaling_fillet': '2.0',\n",
       " 'gds_unit': 0.001,\n",
       " 'ground_plane': 'True',\n",
       " 'negative_mask': {'main': []},\n",
       " 'fabricate': True,\n",
       " 'corners': 'circular bend',\n",
       " 'tolerance': '0.00001',\n",
       " 'precision': '0.000000001',\n",
       " 'width_LineString': '10um',\n",
       " 'path_filename': 'fluxonium_calibration_structure_jj_and_chains.gds',\n",
       " 'junction_pad_overlap': '5um',\n",
       " 'max_points': '199',\n",
       " 'cheese': {'datatype': '100',\n",
       "  'shape': '0',\n",
       "  'cheese_0_x': '25um',\n",
       "  'cheese_0_y': '25um',\n",
       "  'cheese_1_radius': '100um',\n",
       "  'view_in_file': {'main': {1: True}},\n",
       "  'delta_x': '100um',\n",
       "  'delta_y': '100um',\n",
       "  'edge_nocheese': '200um'},\n",
       " 'no_cheese': {'datatype': '99',\n",
       "  'buffer': '25um',\n",
       "  'cap_style': '2',\n",
       "  'join_style': '2',\n",
       "  'view_in_file': {'main': {1: True}}},\n",
       " 'bounding_box_scale_x': '1.2',\n",
       " 'bounding_box_scale_y': '1.2'}"
      ]
     },
     "execution_count": 41,
     "metadata": {},
     "output_type": "execute_result"
    }
   ],
   "source": [
    "fluxonium_gds.options"
   ]
  },
  {
   "cell_type": "code",
   "execution_count": 42,
   "id": "d8131045",
   "metadata": {
    "ExecuteTime": {
     "end_time": "2022-05-25T13:02:24.295694Z",
     "start_time": "2022-05-25T13:02:21.936807Z"
    }
   },
   "outputs": [
    {
     "name": "stderr",
     "output_type": "stream",
     "text": [
      "04:34PM 45s WARNING [_import_junctions_to_one_cell]: From the \"junction\" table, the cell named \"JJ_Array0\"\",  is not in file: fluxonium_calibration_structure_jj_and_chains.gds. The cell was not used.\n",
      "04:34PM 45s WARNING [_import_junctions_to_one_cell]: From the \"junction\" table, the cell named \"Junction_0\"\",  is not in file: fluxonium_calibration_structure_jj_and_chains.gds. The cell was not used.\n",
      "WARNING:py.warnings:c:\\users\\figenyilmaz\\documents\\github\\qiskit-metal\\qiskit_metal\\renderers\\renderer_gds\\gds_renderer.py:2172: ShapelyDeprecationWarning: __len__ for multi-part geometries is deprecated and will be removed in Shapely 2.0. Check the length of the `geoms` property instead to get the  number of parts of a multi-part geometry.\n",
      "  all_polys = list(multi_poly)\n",
      "\n",
      "WARNING:py.warnings:c:\\users\\figenyilmaz\\documents\\github\\qiskit-metal\\qiskit_metal\\renderers\\renderer_gds\\gds_renderer.py:2172: ShapelyDeprecationWarning: Iteration over multi-part geometries is deprecated and will be removed in Shapely 2.0. Use the `geoms` property to access the constituent parts of a multi-part geometry.\n",
      "  all_polys = list(multi_poly)\n",
      "\n"
     ]
    },
    {
     "data": {
      "text/plain": [
       "1"
      ]
     },
     "execution_count": 42,
     "metadata": {},
     "output_type": "execute_result"
    }
   ],
   "source": [
    "fluxonium_gds.export_to_gds('fluxonium_calibration_structure_TEST2.gds')"
   ]
  },
  {
   "cell_type": "code",
   "execution_count": 11,
   "id": "051431ba",
   "metadata": {
    "ExecuteTime": {
     "end_time": "2022-01-22T21:08:47.426265Z",
     "start_time": "2022-01-22T21:08:47.400360Z"
    }
   },
   "outputs": [],
   "source": [
    "# cell_start_x = str(0 + 2.5 + 2.5 / 2) + 'mm'\n",
    "# cell_start_y = str(0 - 2.5 + 2.5 / 2) + 'mm'\n",
    "\n",
    "# delta_cell_x = '2.5mm'\n",
    "# delta_cell_y = '2.5mm'\n",
    "\n"
   ]
  },
  {
   "cell_type": "code",
   "execution_count": 12,
   "id": "61c9c6dc",
   "metadata": {},
   "outputs": [
    {
     "data": {
      "text/plain": [
       "[(-1.5, -1.5),\n",
       " (-1.5, -0.5),\n",
       " (-1.5, 0.5),\n",
       " (-1.5, 1.5),\n",
       " (-0.5, -1.5),\n",
       " (-0.5, -0.5),\n",
       " (-0.5, 0.5),\n",
       " (-0.5, 1.5),\n",
       " (0.5, -1.5),\n",
       " (0.5, -0.5),\n",
       " (0.5, 0.5),\n",
       " (0.5, 1.5),\n",
       " (1.5, -1.5),\n",
       " (1.5, -0.5),\n",
       " (1.5, 0.5),\n",
       " (1.5, 1.5),\n",
       " (0.0, 0.0)]"
      ]
     },
     "execution_count": 12,
     "metadata": {},
     "output_type": "execute_result"
    }
   ],
   "source": [
    "delta_cell = 9 / 4\n",
    "\n",
    "delta_small_cell = 9 / 4 / 3\n",
    "x_direction = (-3/2, -1/2, 1/2, 3/2)\n",
    "y_direction = (-3/2, -1/2, 1/2, 3/2)\n",
    "a = list(product(x_direction, y_direction)) + [(0., 0.)]\n",
    "a"
   ]
  },
  {
   "cell_type": "code",
   "execution_count": 13,
   "id": "cb373b4b",
   "metadata": {},
   "outputs": [
    {
     "name": "stdout",
     "output_type": "stream",
     "text": [
      "-4075.0 -3860.0\n",
      "-4075.0 -1610.0\n",
      "-4075.0 640.0\n",
      "-4075.0 2890.0\n",
      "-1825.0 -3860.0\n",
      "-1825.0 -1610.0\n",
      "-1825.0 640.0\n",
      "-1825.0 2890.0\n",
      "425.0 -3860.0\n",
      "425.0 -1610.0\n",
      "425.0 640.0\n",
      "425.0 2890.0\n",
      "2675.0 -3860.0\n",
      "2675.0 -1610.0\n",
      "2675.0 640.0\n",
      "2675.0 2890.0\n",
      "-700.0 -485.0\n"
     ]
    }
   ],
   "source": [
    "for i in a:\n",
    "    x_ = 700\n",
    "    y_ = 485\n",
    "    cell_start_x = (0 + i[0] * delta_cell) *1000 - x_\n",
    "    cell_start_y = (0 + i[1] * delta_cell) *1000 - y_\n",
    "    print(cell_start_x, cell_start_y)"
   ]
  },
  {
   "cell_type": "code",
   "execution_count": 15,
   "id": "8d362168",
   "metadata": {
    "ExecuteTime": {
     "end_time": "2022-01-22T21:09:55.617559Z",
     "start_time": "2022-01-22T21:08:47.897807Z"
    }
   },
   "outputs": [
    {
     "name": "stdout",
     "output_type": "stream",
     "text": [
      "LABEL: (-1.5, -1.5)\n",
      "Qubit-position: ('-3.625mm', '-3.375mm')\n",
      "jj_chain0\n",
      "Qubit-position: ('-3.375mm', '-3.375mm')\n",
      "jj_chain0\n",
      "Qubit-position: ('-3.125mm', '-3.375mm')\n",
      "jj_chain0\n",
      "LABEL: (-1.5, -0.5)\n",
      "Qubit-position: ('-3.625mm', '-1.125mm')\n",
      "jj_chain1\n",
      "Qubit-position: ('-3.375mm', '-1.125mm')\n",
      "jj_chain1\n",
      "Qubit-position: ('-3.125mm', '-1.125mm')\n",
      "jj_chain1\n",
      "LABEL: (-1.5, 0.5)\n",
      "Qubit-position: ('-3.625mm', '1.125mm')\n",
      "jj_chain2\n",
      "Qubit-position: ('-3.375mm', '1.125mm')\n",
      "jj_chain2\n",
      "Qubit-position: ('-3.125mm', '1.125mm')\n",
      "jj_chain2\n",
      "LABEL: (-1.5, 1.5)\n",
      "Qubit-position: ('-3.625mm', '3.375mm')\n",
      "jj_chain3\n",
      "Qubit-position: ('-3.375mm', '3.375mm')\n",
      "jj_chain3\n",
      "Qubit-position: ('-3.125mm', '3.375mm')\n",
      "jj_chain3\n",
      "LABEL: (-0.5, -1.5)\n",
      "Qubit-position: ('-1.375mm', '-3.375mm')\n",
      "jj_chain4\n",
      "Qubit-position: ('-1.125mm', '-3.375mm')\n",
      "jj_chain4\n",
      "Qubit-position: ('-0.875mm', '-3.375mm')\n",
      "jj_chain4\n",
      "LABEL: (-0.5, -0.5)\n",
      "Qubit-position: ('-1.375mm', '-1.125mm')\n",
      "jj_chain5\n",
      "Qubit-position: ('-1.125mm', '-1.125mm')\n",
      "jj_chain5\n",
      "Qubit-position: ('-0.875mm', '-1.125mm')\n",
      "jj_chain5\n",
      "LABEL: (-0.5, 0.5)\n",
      "Qubit-position: ('-1.375mm', '1.125mm')\n",
      "jj_chain6\n",
      "Qubit-position: ('-1.125mm', '1.125mm')\n",
      "jj_chain6\n",
      "Qubit-position: ('-0.875mm', '1.125mm')\n",
      "jj_chain6\n",
      "LABEL: (-0.5, 1.5)\n",
      "Qubit-position: ('-1.375mm', '3.375mm')\n",
      "jj_chain7\n",
      "Qubit-position: ('-1.125mm', '3.375mm')\n",
      "jj_chain7\n",
      "Qubit-position: ('-0.875mm', '3.375mm')\n",
      "jj_chain7\n",
      "LABEL: (0.5, -1.5)\n",
      "Qubit-position: ('0.875mm', '-3.375mm')\n",
      "jj_chain8\n",
      "Qubit-position: ('1.125mm', '-3.375mm')\n",
      "jj_chain8\n",
      "Qubit-position: ('1.375mm', '-3.375mm')\n",
      "jj_chain8\n",
      "LABEL: (0.5, -0.5)\n",
      "Qubit-position: ('0.875mm', '-1.125mm')\n",
      "jj_chain9\n",
      "Qubit-position: ('1.125mm', '-1.125mm')\n",
      "jj_chain9\n",
      "Qubit-position: ('1.375mm', '-1.125mm')\n",
      "jj_chain9\n",
      "LABEL: (0.5, 0.5)\n",
      "Qubit-position: ('0.875mm', '1.125mm')\n",
      "jj_chain10\n",
      "Qubit-position: ('1.125mm', '1.125mm')\n",
      "jj_chain10\n",
      "Qubit-position: ('1.375mm', '1.125mm')\n",
      "jj_chain10\n",
      "LABEL: (0.5, 1.5)\n",
      "Qubit-position: ('0.875mm', '3.375mm')\n",
      "jj_chain11\n",
      "Qubit-position: ('1.125mm', '3.375mm')\n",
      "jj_chain11\n",
      "Qubit-position: ('1.375mm', '3.375mm')\n",
      "jj_chain11\n",
      "LABEL: (1.5, -1.5)\n",
      "Qubit-position: ('3.125mm', '-3.375mm')\n",
      "jj_chain12\n",
      "Qubit-position: ('3.375mm', '-3.375mm')\n",
      "jj_chain12\n",
      "Qubit-position: ('3.625mm', '-3.375mm')\n",
      "jj_chain12\n",
      "LABEL: (1.5, -0.5)\n",
      "Qubit-position: ('3.125mm', '-1.125mm')\n",
      "jj_chain13\n",
      "Qubit-position: ('3.375mm', '-1.125mm')\n",
      "jj_chain13\n",
      "Qubit-position: ('3.625mm', '-1.125mm')\n",
      "jj_chain13\n",
      "LABEL: (1.5, 0.5)\n",
      "Qubit-position: ('3.125mm', '1.125mm')\n",
      "jj_chain14\n",
      "Qubit-position: ('3.375mm', '1.125mm')\n",
      "jj_chain14\n",
      "Qubit-position: ('3.625mm', '1.125mm')\n",
      "jj_chain14\n",
      "LABEL: (1.5, 1.5)\n",
      "Qubit-position: ('3.125mm', '3.375mm')\n",
      "jj_chain15\n",
      "Qubit-position: ('3.375mm', '3.375mm')\n",
      "jj_chain15\n",
      "Qubit-position: ('3.625mm', '3.375mm')\n",
      "jj_chain15\n",
      "LABEL: (0.0, 0.0)\n",
      "Qubit-position: ('-0.25mm', '0.0mm')\n",
      "jj_chain16\n",
      "Qubit-position: ('0.0mm', '0.0mm')\n",
      "jj_chain16\n",
      "Qubit-position: ('0.25mm', '0.0mm')\n",
      "jj_chain16\n"
     ]
    }
   ],
   "source": [
    "# from itertools import product\n",
    "# x_direction = (-3/2, -1/2, 1/2, 3/2)\n",
    "# y_direction = (-3/2, -1/2, 1/2, 3/2)\n",
    "nu_qubit = 0\n",
    "nu_cell = 0\n",
    "all_qubits = []\n",
    "all_labels = []\n",
    "# cell_name = 'junction_'\n",
    "cell_name = 'jj_chain'\n",
    "for i in a:\n",
    "# for i in [(0, 0)]:\n",
    "    all_labels.append(i)\n",
    "    print('LABEL:', i)\n",
    "    gds_cell_name_ = cell_name + str(nu_cell)\n",
    "    for j in [-1, 0, 1]:\n",
    "        \n",
    "#         if j == 1:\n",
    "#             gds_cell_name_ = cell_name + 'old'+ str(nu_cell)\n",
    "#         else:\n",
    "#             gds_cell_name_ = cell_name + str(nu_cell)\n",
    "    \n",
    "        cell_start_x = str(0 + i[0] * delta_cell + j * (delta_small_cell - 0.5)) + 'mm'\n",
    "        cell_start_y = str(0 + i[1] * delta_cell) + 'mm'\n",
    "\n",
    "        pos_x_ = cell_start_x\n",
    "        pos_y_ = cell_start_y\n",
    "\n",
    "        position = (pos_x_, pos_y_)\n",
    "        print('Qubit-position:', position)\n",
    "\n",
    "        options = dict(chip='main',\n",
    "                       orientation=0, pos_x=pos_x_, pos_y=pos_y_,\n",
    "                       pocket_height='700um', pocket_width='700um',\n",
    "                       pad_width='15um',  pad_height='250um',\n",
    "                       pad_radius='70um',\n",
    "                       gds_cell_name=gds_cell_name_,\n",
    "\n",
    "                       flux_bias_line_options=Dict(make_fbl=False,\n",
    "                                                   fbl_sep='100um',\n",
    "                                                   ),\n",
    "                       charge_line_options=Dict(loc_H=-1, make_cl=False,\n",
    "                                                cl_sep='-10um',\n",
    "                                                ),\n",
    "                       readout_line_options=Dict(loc_H=+1, make_rol=False,\n",
    "                                                 pad_width='300um', pad_height='80um',\n",
    "                                                 pad_sep='60um',\n",
    "                                                 ))\n",
    "        \n",
    "        print(gds_cell_name_)\n",
    "\n",
    "        q = FluxoniumPocket(design, 'Q' + str(nu_qubit), options=dict(\n",
    "            **options))\n",
    "        \n",
    "        all_qubits.append(q)\n",
    "\n",
    "        gui.rebuild()\n",
    "        nu_qubit += 1\n",
    "    nu_cell += 1"
   ]
  },
  {
   "cell_type": "code",
   "execution_count": 29,
   "id": "8fdb4f51",
   "metadata": {
    "ExecuteTime": {
     "end_time": "2022-01-22T18:18:46.224954Z",
     "start_time": "2022-01-22T18:18:42.689483Z"
    }
   },
   "outputs": [
    {
     "data": {
      "text/plain": [
       "False"
      ]
     },
     "execution_count": 29,
     "metadata": {},
     "output_type": "execute_result"
    }
   ],
   "source": [
    "gui.main_window.close()"
   ]
  },
  {
   "cell_type": "markdown",
   "id": "99b0c44d",
   "metadata": {},
   "source": [
    "# GDS"
   ]
  },
  {
   "cell_type": "code",
   "execution_count": 78,
   "id": "0846b7e1",
   "metadata": {
    "ExecuteTime": {
     "end_time": "2022-01-22T21:10:13.760140Z",
     "start_time": "2022-01-22T21:10:13.732165Z"
    }
   },
   "outputs": [
    {
     "data": {
      "text/plain": [
       "{'short_segments_to_not_fillet': 'True',\n",
       " 'check_short_segments_by_scaling_fillet': '2.0',\n",
       " 'gds_unit': 0.001,\n",
       " 'ground_plane': 'True',\n",
       " 'negative_mask': {'main': []},\n",
       " 'fabricate': True,\n",
       " 'corners': 'circular bend',\n",
       " 'tolerance': '0.00001',\n",
       " 'precision': '0.000000001',\n",
       " 'width_LineString': '10um',\n",
       " 'path_filename': 'JJ_chain_150mu_m_101_jj_new.gds',\n",
       " 'junction_pad_overlap': '5um',\n",
       " 'max_points': '199',\n",
       " 'cheese': {'datatype': '100',\n",
       "  'shape': '0',\n",
       "  'cheese_0_x': '25um',\n",
       "  'cheese_0_y': '25um',\n",
       "  'cheese_1_radius': '100um',\n",
       "  'view_in_file': {'main': {1: True}},\n",
       "  'delta_x': '100um',\n",
       "  'delta_y': '100um',\n",
       "  'edge_nocheese': '200um'},\n",
       " 'no_cheese': {'datatype': '99',\n",
       "  'buffer': '25um',\n",
       "  'cap_style': '2',\n",
       "  'join_style': '2',\n",
       "  'view_in_file': {'main': {1: True}}},\n",
       " 'bounding_box_scale_x': '1.2',\n",
       " 'bounding_box_scale_y': '1.2'}"
      ]
     },
     "execution_count": 78,
     "metadata": {},
     "output_type": "execute_result"
    }
   ],
   "source": [
    "fluxonium_gds = design.renderers.gds\n",
    "fluxonium_gds.options"
   ]
  },
  {
   "cell_type": "code",
   "execution_count": 79,
   "id": "660fa06f",
   "metadata": {
    "ExecuteTime": {
     "end_time": "2022-01-22T21:10:46.595493Z",
     "start_time": "2022-01-22T21:10:46.559638Z"
    }
   },
   "outputs": [],
   "source": [
    "# Choose file (with gradual junctions or note)\n",
    "# fluxonium_gds.options['path_filename'] = 'fluxonium_junctions.gds'\n",
    "# fluxonium_gds.options['path_filename'] = 'fluxonium_junctions_gradual.gds'\n",
    "fluxonium_gds.options['path_filename'] = 'JJ_chain_150mu_m_101_jj_new.gds'"
   ]
  },
  {
   "cell_type": "code",
   "execution_count": 80,
   "id": "9d8e3f76",
   "metadata": {
    "ExecuteTime": {
     "end_time": "2022-01-22T21:10:49.777695Z",
     "start_time": "2022-01-22T21:10:49.738434Z"
    }
   },
   "outputs": [
    {
     "data": {
      "text/plain": [
       "{'short_segments_to_not_fillet': 'True',\n",
       " 'check_short_segments_by_scaling_fillet': '2.0',\n",
       " 'gds_unit': 0.001,\n",
       " 'ground_plane': 'True',\n",
       " 'negative_mask': {'main': []},\n",
       " 'fabricate': True,\n",
       " 'corners': 'circular bend',\n",
       " 'tolerance': '0.00001',\n",
       " 'precision': '0.000000001',\n",
       " 'width_LineString': '10um',\n",
       " 'path_filename': 'JJ_chain_150mu_m_101_jj_new.gds',\n",
       " 'junction_pad_overlap': '5um',\n",
       " 'max_points': '199',\n",
       " 'cheese': {'datatype': '100',\n",
       "  'shape': '0',\n",
       "  'cheese_0_x': '25um',\n",
       "  'cheese_0_y': '25um',\n",
       "  'cheese_1_radius': '100um',\n",
       "  'view_in_file': {'main': {1: True}},\n",
       "  'delta_x': '100um',\n",
       "  'delta_y': '100um',\n",
       "  'edge_nocheese': '200um'},\n",
       " 'no_cheese': {'datatype': '99',\n",
       "  'buffer': '25um',\n",
       "  'cap_style': '2',\n",
       "  'join_style': '2',\n",
       "  'view_in_file': {'main': {1: True}}},\n",
       " 'bounding_box_scale_x': '1.2',\n",
       " 'bounding_box_scale_y': '1.2'}"
      ]
     },
     "execution_count": 80,
     "metadata": {},
     "output_type": "execute_result"
    }
   ],
   "source": [
    "fluxonium_gds.options"
   ]
  },
  {
   "cell_type": "code",
   "execution_count": 81,
   "id": "c76cabe7",
   "metadata": {
    "ExecuteTime": {
     "end_time": "2022-01-22T21:10:56.406510Z",
     "start_time": "2022-01-22T21:10:54.507295Z"
    }
   },
   "outputs": [
    {
     "data": {
      "text/plain": [
       "1"
      ]
     },
     "execution_count": 81,
     "metadata": {},
     "output_type": "execute_result"
    }
   ],
   "source": [
    "# fluxonium_gds.export_to_gds('fluxonium_calibration_structure.gds')\n",
    "fluxonium_gds.export_to_gds('fluxonium_calibration_structure_Martinis_idea_JJ_chain.gds')"
   ]
  },
  {
   "cell_type": "code",
   "execution_count": 82,
   "id": "68ee8a44",
   "metadata": {},
   "outputs": [],
   "source": [
    "fluxonium_gds.options['fabricate'] = True"
   ]
  },
  {
   "cell_type": "code",
   "execution_count": 83,
   "id": "c8300d56",
   "metadata": {},
   "outputs": [
    {
     "data": {
      "text/plain": [
       "1"
      ]
     },
     "execution_count": 83,
     "metadata": {},
     "output_type": "execute_result"
    }
   ],
   "source": [
    "fluxonium_gds.export_to_gds('fluxonium_calibration_structure_Martinis_idea_JJ_chain_fab.gds')"
   ]
  },
  {
   "cell_type": "code",
   "execution_count": null,
   "id": "f82eb472",
   "metadata": {},
   "outputs": [],
   "source": []
  }
 ],
 "metadata": {
  "kernelspec": {
   "display_name": "Python 3 (ipykernel)",
   "language": "python",
   "name": "python3"
  },
  "language_info": {
   "codemirror_mode": {
    "name": "ipython",
    "version": 3
   },
   "file_extension": ".py",
   "mimetype": "text/x-python",
   "name": "python",
   "nbconvert_exporter": "python",
   "pygments_lexer": "ipython3",
   "version": "3.9.12"
  },
  "toc": {
   "base_numbering": 1,
   "nav_menu": {},
   "number_sections": true,
   "sideBar": true,
   "skip_h1_title": false,
   "title_cell": "Table of Contents",
   "title_sidebar": "Contents",
   "toc_cell": false,
   "toc_position": {
    "height": "calc(100% - 180px)",
    "left": "10px",
    "top": "150px",
    "width": "165px"
   },
   "toc_section_display": true,
   "toc_window_display": true
  }
 },
 "nbformat": 4,
 "nbformat_minor": 5
}
