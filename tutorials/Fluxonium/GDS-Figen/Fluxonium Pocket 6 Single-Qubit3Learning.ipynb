{
 "cells": [
  {
   "cell_type": "markdown",
   "metadata": {},
   "source": [
    "# Fluxonium Design with 6 single qubits NEW EVEN SIMPLER look\n",
    "\n",
    "## GDS file\n",
    "\n",
    "### Preparations"
   ]
  },
  {
   "cell_type": "code",
   "execution_count": 1,
   "metadata": {},
   "outputs": [],
   "source": [
    "# For convenience, let's begin by enabling\n",
    "# automatic reloading of modules when they change.\n",
    "%load_ext autoreload\n",
    "%autoreload 2\n",
    "\n",
    "import warnings\n",
    "warnings.filterwarnings('ignore')\n",
    "\n",
    "import numpy as np\n",
    "from collections import OrderedDict\n",
    "\n",
    "import qiskit_metal as metal\n",
    "from qiskit_metal import designs, draw\n",
    "from qiskit_metal import MetalGUI, Dict, open_docs\n",
    "import matplotlib.pyplot as plt\n",
    "\n",
    "from qiskit_metal.toolbox_metal import math_and_overrides\n",
    "\n",
    "from qiskit_metal.qlibrary.core import QComponent\n",
    "\n",
    "from qiskit_metal.qlibrary.tlines.meandered import RouteMeander\n",
    "from qiskit_metal.qlibrary.tlines.pathfinder import RoutePathfinder\n",
    "from qiskit_metal.qlibrary.tlines.anchored_path import RouteAnchors\n",
    "\n",
    "from qiskit_metal.qlibrary.qubits.fluxoniumEPR import FluxoniumPocket\n",
    "\n",
    "\n",
    "from itertools import product"
   ]
  },
  {
   "cell_type": "code",
   "execution_count": 2,
   "metadata": {},
   "outputs": [],
   "source": [
    "# Each time you create a new quantum circuit design,\n",
    "# you start by instantiating a QDesign class.\n",
    "\n",
    "# The design class `DesignPlanar` is best for 2D circuit designs.\n",
    "design = designs.DesignPlanar()\n",
    "design.chips.main.material = 'silicon'\n",
    "design.variables['cpw_width'] = '15 um'\n",
    "design.variables['cpw_gap'] = '8.733 um'\n",
    "design._chips['main']['size']['size_x'] = '9mm'\n",
    "design._chips['main']['size']['size_y'] = '9mm'\n",
    "\n",
    "# If you disable the next line with \"overwrite_enabled\", then you will need to\n",
    "# delete a component [<component>.delete()] before recreating it.\n",
    "design.overwrite_enabled = True\n",
    "\n",
    "gui = MetalGUI(design)"
   ]
  },
  {
   "cell_type": "code",
   "execution_count": null,
   "metadata": {},
   "outputs": [],
   "source": [
    "from qiskit_metal.qiskit_metal.designs.ManhattanJJ_design import FluxoniumPocket"
   ]
  },
  {
   "cell_type": "code",
   "execution_count": 10,
   "metadata": {},
   "outputs": [],
   "source": [
    "from qiskit_metal.qlibrary.qubits.fluxoniumEPR import FluxoniumPocket\n",
    "\n",
    "gds_cell_name_jj = 'junction_0'\n",
    "gds_cell_name_inductor = 'jj_chain0'\n",
    "\n",
    "# Q1 details\n",
    "\n",
    "options = dict(chip='main', nanowire = False, \n",
    "            orientation =90, pos_x = '-2.2mm', pos_y = '-2.3mm',\n",
    "            gds_cell_name=gds_cell_name_jj,\n",
    "            gds_cell_inductor=gds_cell_name_inductor ,\n",
    "            inductor_orientation='-1',\n",
    "            inductor_y_shift='-3.5um',\n",
    "               \n",
    "    flux_bias_line_options=Dict(make_fbl = True,\n",
    "                        fbl_sep='150um',), \n",
    "               \n",
    "    charge_line_options=Dict(loc_H = +1, make_cl = True,\n",
    "            cl_sep ='-10um'),\n",
    "    readout_line_options=Dict(loc_H = -1, make_rol = True, \n",
    "            pad_width = '300um', pad_height = '80um',\n",
    "            pad_sep='60um', \n",
    "              ) )\n",
    "               \n",
    "q1 = FluxoniumPocket(design,'Q1', options = dict(\n",
    "             **options))\n",
    "\n",
    "\n",
    "gui.rebuild()"
   ]
  },
  {
   "cell_type": "code",
   "execution_count": null,
   "metadata": {},
   "outputs": [],
   "source": [
    "# Lambda/2 resonator for Q1\n",
    "otg1 = OpenToGround(design, 'otg1s', options=dict(chip='main', \n",
    "                 pos_x='-37.733um', pos_y='-2.8mm', orientation='270'))\n",
    "rt_meander = RouteMeander(design, 'cavity1',  Dict(meander=Dict(spacing='200um'),\n",
    "        total_length='8.4mm',\n",
    "        hfss_wire_bonds = True,\n",
    "        fillet='99um',\n",
    "        lead = dict(start_straight='250um'),\n",
    "        pin_inputs=Dict(\n",
    "            start_pin=Dict(component='otg1s', pin='open'),\n",
    "            end_pin=Dict(component='Q1', pin='readout_line')), ))\n",
    "\n",
    "\n",
    "gui.rebuild()"
   ]
  },
  {
   "cell_type": "code",
   "execution_count": null,
   "metadata": {},
   "outputs": [],
   "source": [
    "# Lambda/2 resonator for Q6\n",
    "otg6 = OpenToGround(design, 'otg6s', options=dict(chip='main', pos_x='37.733um',  pos_y='-2.5mm', orientation='90'))\n",
    "rt_meander = RouteMeander(design, 'cavity6',  Dict(meander=Dict(spacing='200um'),\n",
    "        total_length='9.0mm',\n",
    "        hfss_wire_bonds = True,\n",
    "        fillet='99um',\n",
    "        lead = dict(start_straight='250um'),\n",
    "        pin_inputs=Dict(\n",
    "            start_pin=Dict(component='otg6s', pin='open'),\n",
    "            end_pin=Dict(component='Q6', pin='readout_line')), ))\n",
    "\n",
    "gui.rebuild()"
   ]
  },
  {
   "cell_type": "code",
   "execution_count": null,
   "metadata": {
    "scrolled": true
   },
   "outputs": [],
   "source": [
    "#Save screenshot as a .png formatted file.\n",
    "gui.screenshot()"
   ]
  },
  {
   "cell_type": "code",
   "execution_count": null,
   "metadata": {},
   "outputs": [],
   "source": [
    "q1 #print Q1 information\n"
   ]
  },
  {
   "cell_type": "code",
   "execution_count": null,
   "metadata": {},
   "outputs": [],
   "source": [
    "gui.main_window.close()"
   ]
  },
  {
   "cell_type": "markdown",
   "metadata": {},
   "source": [
    "## GDS"
   ]
  },
  {
   "cell_type": "code",
   "execution_count": 15,
   "metadata": {},
   "outputs": [
    {
     "data": {
      "text/plain": [
       "{'short_segments_to_not_fillet': 'True',\n",
       " 'check_short_segments_by_scaling_fillet': '2.0',\n",
       " 'gds_unit': 0.001,\n",
       " 'ground_plane': 'True',\n",
       " 'negative_mask': {'main': []},\n",
       " 'fabricate': True,\n",
       " 'corners': 'circular bend',\n",
       " 'tolerance': '0.00001',\n",
       " 'precision': '0.000000001',\n",
       " 'width_LineString': '10um',\n",
       " 'path_filename': 'fluxonium_JJandArry.gds',\n",
       " 'junction_pad_overlap': '5um',\n",
       " 'max_points': '199',\n",
       " 'cheese': {'datatype': '100',\n",
       "  'shape': '0',\n",
       "  'cheese_0_x': '25um',\n",
       "  'cheese_0_y': '25um',\n",
       "  'cheese_1_radius': '200um',\n",
       "  'view_in_file': {'main': {1: True}},\n",
       "  'delta_x': '100um',\n",
       "  'delta_y': '100um',\n",
       "  'edge_nocheese': '300um'},\n",
       " 'no_cheese': {'datatype': '99',\n",
       "  'buffer': '25um',\n",
       "  'cap_style': '2',\n",
       "  'join_style': '2',\n",
       "  'view_in_file': {'main': {1: True}}},\n",
       " 'bounding_box_scale_x': '1.2',\n",
       " 'bounding_box_scale_y': '1.2'}"
      ]
     },
     "execution_count": 15,
     "metadata": {},
     "output_type": "execute_result"
    }
   ],
   "source": [
    "fluxonium_gds = design.renderers.gds\n",
    "fluxonium_gds.options"
   ]
  },
  {
   "cell_type": "code",
   "execution_count": 16,
   "metadata": {},
   "outputs": [],
   "source": [
    "fluxonium_gds.options['path_filename'] = 'fluxonium_JJandArry.gds'"
   ]
  },
  {
   "cell_type": "code",
   "execution_count": 17,
   "metadata": {},
   "outputs": [],
   "source": [
    "fluxonium_gds.options['fabricate'] = True"
   ]
  },
  {
   "cell_type": "code",
   "execution_count": 18,
   "metadata": {},
   "outputs": [
    {
     "name": "stderr",
     "output_type": "stream",
     "text": [
      "12:16PM 28s WARNING [_give_rotation_center_twopads]: In junction table, component=Q1 with name=inductor has width=0.001 smaller than cell dimension=0.013.\n"
     ]
    },
    {
     "data": {
      "text/plain": [
       "1"
      ]
     },
     "execution_count": 18,
     "metadata": {},
     "output_type": "execute_result"
    }
   ],
   "source": [
    "fluxonium_gds.export_to_gds('FluxoniumPocket6QNEW2.gds')"
   ]
  },
  {
   "cell_type": "code",
   "execution_count": null,
   "metadata": {},
   "outputs": [],
   "source": [
    "fluxonium_gds._check_either_cheese(chip='main', layer=3)"
   ]
  },
  {
   "cell_type": "code",
   "execution_count": null,
   "metadata": {},
   "outputs": [],
   "source": [
    "design.chips"
   ]
  },
  {
   "cell_type": "code",
   "execution_count": null,
   "metadata": {},
   "outputs": [],
   "source": []
  }
 ],
 "metadata": {
  "kernelspec": {
   "display_name": "Python 3 (ipykernel)",
   "language": "python",
   "name": "python3"
  },
  "language_info": {
   "codemirror_mode": {
    "name": "ipython",
    "version": 3
   },
   "file_extension": ".py",
   "mimetype": "text/x-python",
   "name": "python",
   "nbconvert_exporter": "python",
   "pygments_lexer": "ipython3",
   "version": "3.9.12"
  }
 },
 "nbformat": 4,
 "nbformat_minor": 4
}
