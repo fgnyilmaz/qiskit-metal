{
 "cells": [
  {
   "cell_type": "markdown",
   "id": "a7778a4c",
   "metadata": {},
   "source": [
    "# Creating the main_cell & JJ and JJ-Array\n",
    "\n",
    "## Positive markers and frame by Qiskit-Metal"
   ]
  },
  {
   "cell_type": "code",
   "execution_count": 53,
   "id": "f3e1e21c",
   "metadata": {},
   "outputs": [
    {
     "name": "stdout",
     "output_type": "stream",
     "text": [
      "2.583673469387755\n"
     ]
    },
    {
     "data": {
      "text/plain": [
       "<gdspy.library.Cell at 0x2a4b7a5bca0>"
      ]
     },
     "execution_count": 53,
     "metadata": {},
     "output_type": "execute_result"
    }
   ],
   "source": [
    "import gdspy\n",
    "from importlib import reload\n",
    "from itertools import product\n",
    "reload(gdspy)\n",
    "lib = gdspy.GdsLibrary()\n",
    "\n",
    "\n",
    "#######################################################################################\n",
    "\n",
    "#create base layer with main ground and markers\n",
    "main_cell = lib.new_cell('main_cell')\n",
    "\n",
    "unground = gdspy.Rectangle((-500,-500), (500, 500), layer=2)\n",
    "main_cell.add(unground)\n",
    "\n",
    "      \n",
    "#logo and the device name\n",
    "#device_name = gdspy.Text(\"FX22-W2-04-V3.2\", 150, (800, -4350), layer=3)\n",
    "#logo = gdspy.Text(\"Andersen Lab/QuTech\", 150, (250, -4500), layer=3)\n",
    "#main_cell.add(logo)\n",
    "#main_cell.add(device_name)\n",
    "\n",
    "#######################################################################################\n",
    "\n",
    "##### N SHOULD BE EVEN!!!!!!!!!!\n",
    "# N is a number of JJ in the array\n",
    "N = 100\n",
    "\n",
    "if int(N / 2) % 2 != 0:\n",
    "    raise ValueError('N / 2 should be even!!!')\n",
    "\n",
    "delta_x = 0.5\n",
    "# delta_x_base = 1.5\n",
    "delta_x_base = 1.5\n",
    "# nanowire_length is  the length between nanowire's pads\n",
    "nanowire_length = 130 + 3\n",
    "real_nanowire_length = nanowire_length - delta_x * 2 - delta_x_base * 2\n",
    "\n",
    "# very important shift at x direction\n",
    "SHIFT = - nanowire_length / 2\n",
    "nanowire_width = 1.3\n",
    "\n",
    "delta = 0.410  # initial width of pad\n",
    "\n",
    "nu_cell = 0\n",
    "\n",
    "start_x = 0\n",
    "start_y = 0\n",
    "\n",
    "stop_x = start_x + nanowire_length\n",
    "stop_y = start_y\n",
    "\n",
    "# for vertical and horizontallines\n",
    "step = 1.2\n",
    "delta_W = (real_nanowire_length - 2 * step) / (N / 2 - 1)\n",
    "delta_H = 3\n",
    "print(delta_W)\n",
    "\n",
    "corr1 = 1.5\n",
    "corr2 = 1\n",
    "\n",
    "u = 1 #undercut length\n",
    "\n",
    "if delta == 0.410:\n",
    "    cell = lib.new_cell('jj_array_and_JJ' + str(nu_cell))\n",
    "    \n",
    "    \n",
    "    # left line\n",
    "    \n",
    "    left_line = gdspy.Rectangle((start_x + delta_x_base + delta_x+SHIFT-1.6-5.5, start_y - delta / 2-3),\n",
    "                                (start_x + delta_x_base + delta_x + step + delta+corr2+SHIFT-4.0, start_y + delta / 2-3), layer=54)\n",
    "    cell.add(left_line)\n",
    "    \n",
    "    undercut_left_line = gdspy.Rectangle((start_x + delta_x_base + delta_x + step + delta+corr2+SHIFT-4.0, start_y - delta / 2-3),\n",
    "                                         (start_x + delta_x_base + delta_x + step + delta+corr2+0.7+SHIFT-4.0, start_y + delta / 2-3),\n",
    "                                         layer=55)\n",
    "    cell.add(undercut_left_line)\n",
    "    \n",
    "    \n",
    "    \n",
    "########################### ADDING JJ ARRAY ########################################################### \n",
    "    array_JJ = None\n",
    "    k = 0 #  center\n",
    "    p = 0 #  down \n",
    "    for i in range(int(N / 2)):\n",
    "        if i<1:\n",
    "            start_y=-3\n",
    "            delta_H = 3.8\n",
    "            start_x = -7\n",
    "            corr2 = 8\n",
    "        elif i<2:\n",
    "            start_y = -3\n",
    "            delta_H = 3\n",
    "            start_x = 0\n",
    "            corr2 = 1\n",
    "        else:\n",
    "            start_y=0\n",
    "            delta_H = 3\n",
    "            start_x = 0\n",
    "            corr2 = 1\n",
    "        if i<N//2-1:\n",
    "            vertical_pad = gdspy.Rectangle(\n",
    "                (start_x + delta_x_base + delta_x + step + delta_W * i+SHIFT,\n",
    "                 start_y - 6),\n",
    "                (start_x + delta_x_base + delta_x + step + delta_W * i + delta+SHIFT,\n",
    "                 start_y + 6),\n",
    "                layer=54)\n",
    "            vertical_circle_1 = gdspy.Round((start_x + delta_x_base + delta_x + step + delta_W * i+SHIFT +delta/2,\n",
    "                                             start_y-5),\n",
    "                                            radius=1.6*delta/2, layer=54, number_of_points=64)\n",
    "            vertical_pad = gdspy.boolean(vertical_pad, vertical_circle_1, 'or', layer=54)\n",
    "            vertical_circle_2 = gdspy.Round((start_x + delta_x_base + delta_x + step + delta_W * i+SHIFT +delta/2,\n",
    "                                             start_y+5),\n",
    "                                            radius=1.6*delta/2, layer=54, number_of_points=64)\n",
    "            vertical_pad = gdspy.boolean(vertical_pad, vertical_circle_2, 'or', layer=54)\n",
    "\n",
    "\n",
    "            undercut_vertical = gdspy.Rectangle(\n",
    "                (start_x + delta_x_base + delta_x + step + delta_W * i+SHIFT,\n",
    "                 start_y + 6),\n",
    "                (start_x + delta_x_base + delta_x + step + delta_W * i + delta+SHIFT,\n",
    "                 start_y + 6 + u*2),\n",
    "\n",
    "                layer=55)\n",
    "\n",
    "            array_JJ = gdspy.boolean(array_JJ, vertical_pad, 'or')\n",
    "\n",
    "            cell.add(vertical_pad)\n",
    "            cell.add(undercut_vertical)\n",
    "        if i==N//2-2:\n",
    "            corr2 = 2.5\n",
    "        if i % 2 != 0 and i<N//2-1: #and i != int(N / 2) - 1:\n",
    "            \n",
    "            if k % 2 == 0:\n",
    "                horizonatal_center = gdspy.Rectangle(\n",
    "                (start_x + delta_x_base + delta_x + step + delta_W * i - corr1+SHIFT,\n",
    "                 start_y - delta / 2+ 3),\n",
    "                (start_x + delta_x_base + delta_x + step + delta_W *\n",
    "                 (i + 1) + corr2+SHIFT, start_y + delta / 2+ 3 ),\n",
    "                layer=54)\n",
    "                \n",
    "                undercut_horizontal_center = gdspy.Rectangle(\n",
    "                (start_x + delta_x_base + delta_x + step + delta_W *\n",
    "                 (i + 1) + corr2+SHIFT, start_y - delta / 2+ 3),\n",
    "                (start_x + delta_x_base + delta_x + step + delta_W *\n",
    "                 (i + 1) + corr2 + u+SHIFT, start_y + delta / 2+ 3),\n",
    "                layer=55)\n",
    "                \n",
    "            else:\n",
    "                horizonatal_center = gdspy.Rectangle(\n",
    "                (start_x + delta_x_base + delta_x + step + delta_W * i - corr1+SHIFT,\n",
    "                 start_y - delta / 2+1 ),\n",
    "                (start_x + delta_x_base + delta_x + step + delta_W *\n",
    "                 (i + 1) + corr2+SHIFT, start_y + delta / 2+1 ),\n",
    "                layer=54)\n",
    "                \n",
    "                undercut_horizontal_center = gdspy.Rectangle(\n",
    "                (start_x + delta_x_base + delta_x + step + delta_W *\n",
    "                 (i + 1) + corr2+SHIFT, start_y - delta / 2 +1),\n",
    "                (start_x + delta_x_base + delta_x + step + delta_W *\n",
    "                 (i + 1) + corr2 + u+SHIFT, start_y + delta / 2+1),\n",
    "                layer=55)\n",
    "                        \n",
    "            k +=1\n",
    "        \n",
    "            array_JJ = gdspy.boolean(array_JJ, horizonatal_center, 'or')\n",
    "\n",
    "            cell.add(horizonatal_center)\n",
    "\n",
    "            cell.add(undercut_horizontal_center)\n",
    "\n",
    "        if i % 2 == 0 and i<N//2-1:\n",
    "            \n",
    "            if p % 2 == 0:\n",
    "                \n",
    "                horizonatal_down = gdspy.Rectangle(\n",
    "                (start_x + delta_x_base + delta_x + step + delta_W * i - corr1+SHIFT,\n",
    "                 start_y - delta_H - delta),\n",
    "                (start_x + delta_x_base + delta_x + step + delta_W *\n",
    "                 (i + 1) + corr2+SHIFT, start_y - delta_H),\n",
    "                layer=54)\n",
    "                \n",
    "                undercut_horizontal_center = gdspy.Rectangle(\n",
    "                (start_x + delta_x_base + delta_x + step + delta_W *\n",
    "                 (i + 1) + corr2+SHIFT, start_y - delta_H),\n",
    "                (start_x + delta_x_base + delta_x + step + delta_W *\n",
    "                 (i + 1) + corr2 +u+SHIFT, start_y - delta_H - delta),\n",
    "                layer=55)\n",
    "                \n",
    "            else:\n",
    "                horizonatal_down = gdspy.Rectangle(\n",
    "                (start_x + delta_x_base + delta_x + step + delta_W * i - corr1+SHIFT,\n",
    "                 start_y - delta_H - delta + 1.5),\n",
    "                (start_x + delta_x_base + delta_x + step + delta_W *\n",
    "                 (i + 1) + corr2+SHIFT, start_y - delta_H + 1.5),\n",
    "                layer=54)\n",
    "                \n",
    "                undercut_horizontal_center = gdspy.Rectangle(\n",
    "                (start_x + delta_x_base + delta_x + step + delta_W *\n",
    "                 (i + 1) + corr2+SHIFT, start_y - delta_H+1.5),\n",
    "                (start_x + delta_x_base + delta_x + step + delta_W *\n",
    "                 (i + 1) + corr2 +u+SHIFT, start_y - delta_H - delta+1.5),\n",
    "                layer=55)\n",
    "                \n",
    "            p += 1\n",
    "\n",
    "        \n",
    "            array_JJ = gdspy.boolean(array_JJ, horizonatal_down, 'or')\n",
    "\n",
    "            cell.add(horizonatal_down)\n",
    "\n",
    "            cell.add(undercut_horizontal_center)\n",
    "            \n",
    "########################### ADDING JJ ###########################################################\n",
    "            \n",
    "deltaJJ = 0.120 # initial width of pad\n",
    "pad_length_left = 2.4\n",
    "pad_length_right = 1.7\n",
    "\n",
    "\n",
    "        # Pads of junctions\n",
    "left_padJJ = gdspy.Rectangle((-1.2, -26), (-1.2 + deltaJJ, -22), layer=54)\n",
    "    \n",
    "right_padJJ = gdspy.Rectangle((-3.0, -25.0), (1.2, -25.0 + deltaJJ), layer=54)\n",
    "    \n",
    "    \n",
    "        # parts for undercuts\n",
    "undercut_left_pad3 = gdspy.Rectangle((-1.2, -22), (-1.2 + deltaJJ, -21), layer=55)\n",
    "    \n",
    "undercut_right_pad4 = gdspy.Rectangle((1.2, -25.0), (2.2, -25.0 + deltaJJ), layer=55)\n",
    "    \n",
    "\n",
    "\n",
    "cell.add(left_padJJ)\n",
    "cell.add(right_padJJ)\n",
    "    \n",
    "cell.add(undercut_left_pad3)\n",
    "cell.add(undercut_right_pad4)\n",
    "           \n",
    "\n"
   ]
  },
  {
   "cell_type": "code",
   "execution_count": 54,
   "id": "497dba3e",
   "metadata": {},
   "outputs": [
    {
     "name": "stderr",
     "output_type": "stream",
     "text": [
      "C:\\Users\\figenyilmaz\\AppData\\Local\\Temp\\ipykernel_20212\\1312026100.py:1: DeprecationWarning: [GDSPY] Use of the global library is deprecated.  Pass LayoutViewer a GdsLibrary instance.\n",
      "  gdspy.LayoutViewer()\n"
     ]
    },
    {
     "data": {
      "text/plain": [
       "<gdspy.viewer.LayoutViewer object .!layoutviewer>"
      ]
     },
     "execution_count": 54,
     "metadata": {},
     "output_type": "execute_result"
    }
   ],
   "source": [
    "gdspy.LayoutViewer()"
   ]
  },
  {
   "cell_type": "code",
   "execution_count": 55,
   "id": "aa6414d7",
   "metadata": {},
   "outputs": [],
   "source": [
    "lib.write_gds('Only-JJandArray_Dose_test_1by1mm.gds')"
   ]
  },
  {
   "cell_type": "markdown",
   "id": "403e4cee",
   "metadata": {},
   "source": [
    "# Let's try the GDS file that we just created. We can only use Q1 and see. \n",
    "# Create geometry of a chip\n"
   ]
  },
  {
   "cell_type": "code",
   "execution_count": 72,
   "id": "58866cc9",
   "metadata": {
    "ExecuteTime": {
     "end_time": "2022-05-25T13:02:03.227218Z",
     "start_time": "2022-05-25T13:02:00.613187Z"
    }
   },
   "outputs": [
    {
     "name": "stdout",
     "output_type": "stream",
     "text": [
      "The autoreload extension is already loaded. To reload it, use:\n",
      "  %reload_ext autoreload\n"
     ]
    }
   ],
   "source": [
    "%load_ext autoreload\n",
    "%autoreload 2\n",
    "\n",
    "import numpy as np\n",
    "from collections import OrderedDict\n",
    "\n",
    "import qiskit_metal as metal\n",
    "from qiskit_metal import designs, draw\n",
    "from qiskit_metal import MetalGUI, Dict, open_docs\n",
    "import matplotlib.pyplot as plt\n",
    "\n",
    "from qiskit_metal.toolbox_metal import math_and_overrides\n",
    "\n",
    "from qiskit_metal.qlibrary.core import QComponent\n",
    "\n",
    "from qiskit_metal.qlibrary.tlines.meandered import RouteMeander\n",
    "from qiskit_metal.qlibrary.tlines.pathfinder import RoutePathfinder\n",
    "from qiskit_metal.qlibrary.tlines.anchored_path import RouteAnchors\n",
    "\n",
    "from qiskit_metal.qlibrary.qubits.fluxoniumEPR import FluxoniumPocket\n",
    "\n",
    "from qiskit_metal.qlibrary.terminations.launchpad_wb import LaunchpadWirebond\n",
    "\n",
    "from itertools import product"
   ]
  },
  {
   "cell_type": "code",
   "execution_count": 73,
   "id": "4f196d0f",
   "metadata": {},
   "outputs": [],
   "source": [
    "# Each time you create a new quantum circuit design,\n",
    "# you start by instantiating a QDesign class.\n",
    "\n",
    "# The design class `DesignPlanar` is best for 2D circuit designs.\n",
    "design = designs.DesignPlanar()\n",
    "design.chips.main.material = 'silicon'\n",
    "design.variables['cpw_width'] = '15 um'\n",
    "design.variables['cpw_gap'] = '8.733 um'\n",
    "design._chips['main']['size']['size_x'] = '1mm'\n",
    "design._chips['main']['size']['size_y'] = '1mm'\n",
    "\n",
    "# If you disable the next line with \"overwrite_enabled\", then you will need to\n",
    "# delete a component [<component>.delete()] before recreating it.\n",
    "design.overwrite_enabled = True\n",
    "\n",
    "gui = MetalGUI(design)"
   ]
  },
  {
   "cell_type": "code",
   "execution_count": 86,
   "id": "3a8bdcdb",
   "metadata": {},
   "outputs": [
    {
     "name": "stderr",
     "output_type": "stream",
     "text": [
      "WARNING:py.warnings:C:\\Users\\figenyilmaz\\Anaconda3\\envs\\qiskit-metal\\lib\\site-packages\\shapely\\geometry\\base.py:250: ShapelyDeprecationWarning: Setting the 'coords' to mutate a Geometry in place is deprecated, and will not be possible any more in Shapely 2.0\n",
      "  super().__setattr__(name, value)\n",
      "\n",
      "WARNING:py.warnings:c:\\users\\figenyilmaz\\documents\\github\\qiskit-metal\\qiskit_metal\\qgeometries\\qgeometries_handler.py:528: FutureWarning: The frame.append method is deprecated and will be removed from pandas in a future version. Use pandas.concat instead.\n",
      "  self.tables[kind] = table.append(df, sort=False, ignore_index=True)\n",
      "\n",
      "WARNING:py.warnings:C:\\Users\\figenyilmaz\\Anaconda3\\envs\\qiskit-metal\\lib\\site-packages\\shapely\\geometry\\base.py:250: ShapelyDeprecationWarning: Setting the 'coords' to mutate a Geometry in place is deprecated, and will not be possible any more in Shapely 2.0\n",
      "  super().__setattr__(name, value)\n",
      "\n",
      "WARNING:py.warnings:c:\\users\\figenyilmaz\\documents\\github\\qiskit-metal\\qiskit_metal\\qgeometries\\qgeometries_handler.py:528: FutureWarning: The frame.append method is deprecated and will be removed from pandas in a future version. Use pandas.concat instead.\n",
      "  self.tables[kind] = table.append(df, sort=False, ignore_index=True)\n",
      "\n",
      "WARNING:py.warnings:C:\\Users\\figenyilmaz\\Anaconda3\\envs\\qiskit-metal\\lib\\site-packages\\shapely\\geometry\\base.py:250: ShapelyDeprecationWarning: Setting the 'coords' to mutate a Geometry in place is deprecated, and will not be possible any more in Shapely 2.0\n",
      "  super().__setattr__(name, value)\n",
      "\n",
      "WARNING:py.warnings:c:\\users\\figenyilmaz\\documents\\github\\qiskit-metal\\qiskit_metal\\qgeometries\\qgeometries_handler.py:528: FutureWarning: The frame.append method is deprecated and will be removed from pandas in a future version. Use pandas.concat instead.\n",
      "  self.tables[kind] = table.append(df, sort=False, ignore_index=True)\n",
      "\n",
      "WARNING:py.warnings:C:\\Users\\figenyilmaz\\Anaconda3\\envs\\qiskit-metal\\lib\\site-packages\\shapely\\geometry\\base.py:250: ShapelyDeprecationWarning: Setting the 'coords' to mutate a Geometry in place is deprecated, and will not be possible any more in Shapely 2.0\n",
      "  super().__setattr__(name, value)\n",
      "\n",
      "WARNING:py.warnings:c:\\users\\figenyilmaz\\documents\\github\\qiskit-metal\\qiskit_metal\\qgeometries\\qgeometries_handler.py:528: FutureWarning: The frame.append method is deprecated and will be removed from pandas in a future version. Use pandas.concat instead.\n",
      "  self.tables[kind] = table.append(df, sort=False, ignore_index=True)\n",
      "\n",
      "WARNING:py.warnings:C:\\Users\\figenyilmaz\\Anaconda3\\envs\\qiskit-metal\\lib\\site-packages\\shapely\\geometry\\base.py:250: ShapelyDeprecationWarning: Setting the 'coords' to mutate a Geometry in place is deprecated, and will not be possible any more in Shapely 2.0\n",
      "  super().__setattr__(name, value)\n",
      "\n",
      "WARNING:py.warnings:c:\\users\\figenyilmaz\\documents\\github\\qiskit-metal\\qiskit_metal\\qgeometries\\qgeometries_handler.py:528: FutureWarning: The frame.append method is deprecated and will be removed from pandas in a future version. Use pandas.concat instead.\n",
      "  self.tables[kind] = table.append(df, sort=False, ignore_index=True)\n",
      "\n",
      "WARNING:py.warnings:C:\\Users\\figenyilmaz\\Anaconda3\\envs\\qiskit-metal\\lib\\site-packages\\shapely\\geometry\\base.py:250: ShapelyDeprecationWarning: Setting the 'coords' to mutate a Geometry in place is deprecated, and will not be possible any more in Shapely 2.0\n",
      "  super().__setattr__(name, value)\n",
      "\n",
      "WARNING:py.warnings:c:\\users\\figenyilmaz\\documents\\github\\qiskit-metal\\qiskit_metal\\qgeometries\\qgeometries_handler.py:528: FutureWarning: The frame.append method is deprecated and will be removed from pandas in a future version. Use pandas.concat instead.\n",
      "  self.tables[kind] = table.append(df, sort=False, ignore_index=True)\n",
      "\n",
      "WARNING:py.warnings:C:\\Users\\figenyilmaz\\Anaconda3\\envs\\qiskit-metal\\lib\\site-packages\\shapely\\geometry\\base.py:250: ShapelyDeprecationWarning: Setting the 'coords' to mutate a Geometry in place is deprecated, and will not be possible any more in Shapely 2.0\n",
      "  super().__setattr__(name, value)\n",
      "\n",
      "WARNING:py.warnings:c:\\users\\figenyilmaz\\documents\\github\\qiskit-metal\\qiskit_metal\\qgeometries\\qgeometries_handler.py:528: FutureWarning: The frame.append method is deprecated and will be removed from pandas in a future version. Use pandas.concat instead.\n",
      "  self.tables[kind] = table.append(df, sort=False, ignore_index=True)\n",
      "\n",
      "WARNING:py.warnings:C:\\Users\\figenyilmaz\\Anaconda3\\envs\\qiskit-metal\\lib\\site-packages\\shapely\\geometry\\base.py:250: ShapelyDeprecationWarning: Setting the 'coords' to mutate a Geometry in place is deprecated, and will not be possible any more in Shapely 2.0\n",
      "  super().__setattr__(name, value)\n",
      "\n",
      "WARNING:py.warnings:c:\\users\\figenyilmaz\\documents\\github\\qiskit-metal\\qiskit_metal\\qgeometries\\qgeometries_handler.py:528: FutureWarning: The frame.append method is deprecated and will be removed from pandas in a future version. Use pandas.concat instead.\n",
      "  self.tables[kind] = table.append(df, sort=False, ignore_index=True)\n",
      "\n",
      "WARNING:py.warnings:C:\\Users\\figenyilmaz\\Anaconda3\\envs\\qiskit-metal\\lib\\site-packages\\descartes\\patch.py:62: ShapelyDeprecationWarning: The array interface is deprecated and will no longer work in Shapely 2.0. Convert the '.coords' to a numpy array instead.\n",
      "  vertices = concatenate([\n",
      "\n",
      "WARNING:py.warnings:C:\\Users\\figenyilmaz\\Anaconda3\\envs\\qiskit-metal\\lib\\site-packages\\descartes\\patch.py:62: ShapelyDeprecationWarning: The array interface is deprecated and will no longer work in Shapely 2.0. Convert the '.coords' to a numpy array instead.\n",
      "  vertices = concatenate([\n",
      "\n",
      "WARNING:py.warnings:C:\\Users\\figenyilmaz\\Anaconda3\\envs\\qiskit-metal\\lib\\site-packages\\descartes\\patch.py:62: ShapelyDeprecationWarning: The array interface is deprecated and will no longer work in Shapely 2.0. Convert the '.coords' to a numpy array instead.\n",
      "  vertices = concatenate([\n",
      "\n"
     ]
    }
   ],
   "source": [
    "from qiskit_metal.qlibrary.qubits.fluxoniumEPR import FluxoniumPocket\n",
    "\n",
    "gds_cell_name_jj = 'junction_0'\n",
    "gds_cell_name_inductor = 'jj_array0'\n",
    "\n",
    "# Q1 details\n",
    "options = dict(chip='main', nanowire = False, \n",
    "            orientation =90, pos_x = '0mm', pos_y = '0mm', pocket_width='900um',\n",
    "            gds_cell_name=gds_cell_name_jj,\n",
    "            gds_cell_inductor=gds_cell_name_inductor ,\n",
    "               inductor_orientation='-1',\n",
    "               \n",
    "    flux_bias_line_options=Dict(make_fbl = False,\n",
    "                               ), \n",
    "               \n",
    "    charge_line_options=Dict(loc_H = +1, make_cl = False,\n",
    "                            ),\n",
    "    readout_line_options=Dict(loc_H = -1, make_rol = False, \n",
    "                           )\n",
    "              )\n",
    "               \n",
    "q1 = FluxoniumPocket(design,'Q1', options = dict(\n",
    "             **options))\n",
    "\n",
    "gui.rebuild()"
   ]
  },
  {
   "cell_type": "markdown",
   "id": "954c1a49",
   "metadata": {},
   "source": [
    "# Creating the GDS file"
   ]
  },
  {
   "cell_type": "code",
   "execution_count": 87,
   "id": "210b169f",
   "metadata": {
    "ExecuteTime": {
     "end_time": "2022-01-22T21:10:13.760140Z",
     "start_time": "2022-01-22T21:10:13.732165Z"
    }
   },
   "outputs": [
    {
     "data": {
      "text/plain": [
       "{'short_segments_to_not_fillet': 'True',\n",
       " 'check_short_segments_by_scaling_fillet': '2.0',\n",
       " 'gds_unit': 0.001,\n",
       " 'ground_plane': 'True',\n",
       " 'negative_mask': {'main': []},\n",
       " 'fabricate': True,\n",
       " 'corners': 'circular bend',\n",
       " 'tolerance': '0.00001',\n",
       " 'precision': '0.000000001',\n",
       " 'width_LineString': '10um',\n",
       " 'path_filename': 'Only-JJandArray_Dose_test_1by1mm.gds',\n",
       " 'junction_pad_overlap': '5um',\n",
       " 'max_points': '199',\n",
       " 'cheese': {'datatype': '100',\n",
       "  'shape': '0',\n",
       "  'cheese_0_x': '25um',\n",
       "  'cheese_0_y': '25um',\n",
       "  'cheese_1_radius': '200um',\n",
       "  'view_in_file': {'main': {1: True}},\n",
       "  'delta_x': '100um',\n",
       "  'delta_y': '100um',\n",
       "  'edge_nocheese': '300um'},\n",
       " 'no_cheese': {'datatype': '99',\n",
       "  'buffer': '25um',\n",
       "  'cap_style': '2',\n",
       "  'join_style': '2',\n",
       "  'view_in_file': {'main': {1: True}}},\n",
       " 'bounding_box_scale_x': '1.2',\n",
       " 'bounding_box_scale_y': '1.2'}"
      ]
     },
     "execution_count": 87,
     "metadata": {},
     "output_type": "execute_result"
    }
   ],
   "source": [
    "fluxonium_gds = design.renderers.gds\n",
    "fluxonium_gds.options"
   ]
  },
  {
   "cell_type": "code",
   "execution_count": 88,
   "id": "a9460b31",
   "metadata": {
    "ExecuteTime": {
     "end_time": "2022-01-22T21:10:46.595493Z",
     "start_time": "2022-01-22T21:10:46.559638Z"
    }
   },
   "outputs": [],
   "source": [
    "# Choose file (with gradual junctions or note)\n",
    "# fluxonium_gds.options['path_filename'] = 'fluxonium_junctions.gds'\n",
    "# fluxonium_gds.options['path_filename'] = 'fluxonium_junctions_gradual.gds'\n",
    "fluxonium_gds.options['path_filename'] = 'Only-JJandArray_Dose_test_1by1mm.gds'"
   ]
  },
  {
   "cell_type": "code",
   "execution_count": 89,
   "id": "75f246d5",
   "metadata": {},
   "outputs": [],
   "source": [
    "fluxonium_gds.options['fabricate'] = True"
   ]
  },
  {
   "cell_type": "code",
   "execution_count": 90,
   "id": "e961f645",
   "metadata": {
    "ExecuteTime": {
     "end_time": "2022-01-22T21:10:56.406510Z",
     "start_time": "2022-01-22T21:10:54.507295Z"
    }
   },
   "outputs": [
    {
     "name": "stderr",
     "output_type": "stream",
     "text": [
      "02:25PM 32s WARNING [_give_rotation_center_twopads]: In junction table, component=Q1 with name=inductor has width=0.001 smaller than cell dimension=0.017.\n",
      "WARNING:py.warnings:c:\\users\\figenyilmaz\\documents\\github\\qiskit-metal\\qiskit_metal\\renderers\\renderer_gds\\gds_renderer.py:2172: ShapelyDeprecationWarning: __len__ for multi-part geometries is deprecated and will be removed in Shapely 2.0. Check the length of the `geoms` property instead to get the  number of parts of a multi-part geometry.\n",
      "  all_polys = list(multi_poly)\n",
      "\n",
      "WARNING:py.warnings:c:\\users\\figenyilmaz\\documents\\github\\qiskit-metal\\qiskit_metal\\renderers\\renderer_gds\\gds_renderer.py:2172: ShapelyDeprecationWarning: Iteration over multi-part geometries is deprecated and will be removed in Shapely 2.0. Use the `geoms` property to access the constituent parts of a multi-part geometry.\n",
      "  all_polys = list(multi_poly)\n",
      "\n"
     ]
    },
    {
     "ename": "TypeError",
     "evalue": "'NoneType' object is not iterable",
     "output_type": "error",
     "traceback": [
      "\u001b[1;31m---------------------------------------------------------------------------\u001b[0m",
      "\u001b[1;31mTypeError\u001b[0m                                 Traceback (most recent call last)",
      "Input \u001b[1;32mIn [90]\u001b[0m, in \u001b[0;36m<cell line: 2>\u001b[1;34m()\u001b[0m\n\u001b[0;32m      1\u001b[0m \u001b[38;5;66;03m# fluxonium_gds.export_to_gds('fluxonium_calibration_structure.gds')\u001b[39;00m\n\u001b[1;32m----> 2\u001b[0m \u001b[43mfluxonium_gds\u001b[49m\u001b[38;5;241;43m.\u001b[39;49m\u001b[43mexport_to_gds\u001b[49m\u001b[43m(\u001b[49m\u001b[38;5;124;43m'\u001b[39;49m\u001b[38;5;124;43mJJDose-test.gds\u001b[39;49m\u001b[38;5;124;43m'\u001b[39;49m\u001b[43m)\u001b[49m\n",
      "File \u001b[1;32mc:\\users\\figenyilmaz\\documents\\github\\qiskit-metal\\qiskit_metal\\renderers\\renderer_gds\\gds_renderer.py:2141\u001b[0m, in \u001b[0;36mQGDSRenderer.export_to_gds\u001b[1;34m(self, file_name, highlight_qcomponents)\u001b[0m\n\u001b[0;32m   2136\u001b[0m \u001b[38;5;28mself\u001b[39m\u001b[38;5;241m.\u001b[39m_populate_no_cheese()\n\u001b[0;32m   2138\u001b[0m \u001b[38;5;66;03m# Use self.options  to decide what to put for export\u001b[39;00m\n\u001b[0;32m   2139\u001b[0m \u001b[38;5;66;03m# into self.chip_info[chip_name][chip_layer]['cheese'].\u001b[39;00m\n\u001b[0;32m   2140\u001b[0m \u001b[38;5;66;03m# Not finished.\u001b[39;00m\n\u001b[1;32m-> 2141\u001b[0m \u001b[38;5;28;43mself\u001b[39;49m\u001b[38;5;241;43m.\u001b[39;49m\u001b[43m_populate_cheese\u001b[49m\u001b[43m(\u001b[49m\u001b[43m)\u001b[49m\n\u001b[0;32m   2143\u001b[0m \u001b[38;5;66;03m# Export the file to disk from self.lib\u001b[39;00m\n\u001b[0;32m   2144\u001b[0m \u001b[38;5;28mself\u001b[39m\u001b[38;5;241m.\u001b[39mlib\u001b[38;5;241m.\u001b[39mwrite_gds(file_name)\n",
      "File \u001b[1;32mc:\\users\\figenyilmaz\\documents\\github\\qiskit-metal\\qiskit_metal\\renderers\\renderer_gds\\gds_renderer.py:1240\u001b[0m, in \u001b[0;36mQGDSRenderer._populate_cheese\u001b[1;34m(self)\u001b[0m\n\u001b[0;32m   1237\u001b[0m \u001b[38;5;28;01mif\u001b[39;00m status \u001b[38;5;241m==\u001b[39m \u001b[38;5;241m0\u001b[39m:\n\u001b[0;32m   1238\u001b[0m     minx, miny, maxx, maxy \u001b[38;5;241m=\u001b[39m chip_box\n\u001b[1;32m-> 1240\u001b[0m     \u001b[38;5;28;43mself\u001b[39;49m\u001b[38;5;241;43m.\u001b[39;49m\u001b[43m_cheese_based_on_shape\u001b[49m\u001b[43m(\u001b[49m\u001b[43mminx\u001b[49m\u001b[43m,\u001b[49m\u001b[43m \u001b[49m\u001b[43mminy\u001b[49m\u001b[43m,\u001b[49m\u001b[43m \u001b[49m\u001b[43mmaxx\u001b[49m\u001b[43m,\u001b[49m\u001b[43m \u001b[49m\u001b[43mmaxy\u001b[49m\u001b[43m,\u001b[49m\n\u001b[0;32m   1241\u001b[0m \u001b[43m                                \u001b[49m\u001b[43mchip_name\u001b[49m\u001b[43m,\u001b[49m\u001b[43m \u001b[49m\u001b[43mchip_layer\u001b[49m\u001b[43m,\u001b[49m\n\u001b[0;32m   1242\u001b[0m \u001b[43m                                \u001b[49m\u001b[43mcheese_sub_layer\u001b[49m\u001b[43m,\u001b[49m\n\u001b[0;32m   1243\u001b[0m \u001b[43m                                \u001b[49m\u001b[43mnocheese_sub_layer\u001b[49m\u001b[43m)\u001b[49m\n",
      "File \u001b[1;32mc:\\users\\figenyilmaz\\documents\\github\\qiskit-metal\\qiskit_metal\\renderers\\renderer_gds\\gds_renderer.py:1333\u001b[0m, in \u001b[0;36mQGDSRenderer._cheese_based_on_shape\u001b[1;34m(self, minx, miny, maxx, maxy, chip_name, chip_layer, cheese_sub_layer, nocheese_sub_layer)\u001b[0m\n\u001b[0;32m   1330\u001b[0m     a_cheese \u001b[38;5;241m=\u001b[39m \u001b[38;5;28;01mNone\u001b[39;00m\n\u001b[0;32m   1332\u001b[0m \u001b[38;5;28;01mif\u001b[39;00m a_cheese \u001b[38;5;129;01mis\u001b[39;00m \u001b[38;5;129;01mnot\u001b[39;00m \u001b[38;5;28;01mNone\u001b[39;00m:\n\u001b[1;32m-> 1333\u001b[0m     dummy_a_lib \u001b[38;5;241m=\u001b[39m \u001b[43ma_cheese\u001b[49m\u001b[38;5;241;43m.\u001b[39;49m\u001b[43mapply_cheesing\u001b[49m\u001b[43m(\u001b[49m\u001b[43m)\u001b[49m\n",
      "File \u001b[1;32mc:\\users\\figenyilmaz\\documents\\github\\qiskit-metal\\qiskit_metal\\renderers\\renderer_gds\\make_cheese.py:180\u001b[0m, in \u001b[0;36mCheesing.apply_cheesing\u001b[1;34m(self)\u001b[0m\n\u001b[0;32m    177\u001b[0m     \u001b[38;5;28mself\u001b[39m\u001b[38;5;241m.\u001b[39m_make_one_hole_at_zero_zero()\n\u001b[0;32m    179\u001b[0m     _ \u001b[38;5;241m=\u001b[39m \u001b[38;5;28mself\u001b[39m\u001b[38;5;241m.\u001b[39m_hole_to_lib()\n\u001b[1;32m--> 180\u001b[0m     \u001b[38;5;28;43mself\u001b[39;49m\u001b[38;5;241;43m.\u001b[39;49m\u001b[43m_cell_with_grid\u001b[49m\u001b[43m(\u001b[49m\u001b[43m)\u001b[49m\n\u001b[0;32m    181\u001b[0m \u001b[38;5;28;01melse\u001b[39;00m:\n\u001b[0;32m    182\u001b[0m     \u001b[38;5;28mself\u001b[39m\u001b[38;5;241m.\u001b[39mlogger\u001b[38;5;241m.\u001b[39mwarning(\u001b[38;5;124m'\u001b[39m\u001b[38;5;124mCheesing not implemented.\u001b[39m\u001b[38;5;124m'\u001b[39m)\n",
      "File \u001b[1;32mc:\\users\\figenyilmaz\\documents\\github\\qiskit-metal\\qiskit_metal\\renderers\\renderer_gds\\make_cheese.py:294\u001b[0m, in \u001b[0;36mCheesing._cell_with_grid\u001b[1;34m(self)\u001b[0m\n\u001b[0;32m    286\u001b[0m \u001b[38;5;124;03m\"\"\"Use the hole at self.one_hole_cell to create a grid.\u001b[39;00m\n\u001b[0;32m    287\u001b[0m \n\u001b[0;32m    288\u001b[0m \u001b[38;5;124;03mThen use the no_cheese cell to remove the holes from grid.  The\u001b[39;00m\n\u001b[0;32m    289\u001b[0m \u001b[38;5;124;03mdifference will be used subtract from the ground layer with\u001b[39;00m\n\u001b[0;32m    290\u001b[0m \u001b[38;5;124;03mgeometry. The cells are added to the Top_<chip_name>.\u001b[39;00m\n\u001b[0;32m    291\u001b[0m \u001b[38;5;124;03m\"\"\"\u001b[39;00m\n\u001b[0;32m    293\u001b[0m gather_holes_cell \u001b[38;5;241m=\u001b[39m \u001b[38;5;28mself\u001b[39m\u001b[38;5;241m.\u001b[39m_get_all_holes()\n\u001b[1;32m--> 294\u001b[0m diff_holes_cell \u001b[38;5;241m=\u001b[39m \u001b[38;5;28;43mself\u001b[39;49m\u001b[38;5;241;43m.\u001b[39;49m\u001b[43m_subtract_keepout_from_hole_grid\u001b[49m\u001b[43m(\u001b[49m\n\u001b[0;32m    295\u001b[0m \u001b[43m    \u001b[49m\u001b[43mgather_holes_cell\u001b[49m\u001b[43m)\u001b[49m\n\u001b[0;32m    296\u001b[0m \u001b[38;5;28mself\u001b[39m\u001b[38;5;241m.\u001b[39mlib\u001b[38;5;241m.\u001b[39mremove(gather_holes_cell)\n\u001b[0;32m    298\u001b[0m cell_name \u001b[38;5;241m=\u001b[39m \u001b[38;5;124mf\u001b[39m\u001b[38;5;124m'\u001b[39m\u001b[38;5;124mTOP_\u001b[39m\u001b[38;5;132;01m{\u001b[39;00m\u001b[38;5;28mself\u001b[39m\u001b[38;5;241m.\u001b[39mchip_name\u001b[38;5;132;01m}\u001b[39;00m\u001b[38;5;124m_\u001b[39m\u001b[38;5;132;01m{\u001b[39;00m\u001b[38;5;28mself\u001b[39m\u001b[38;5;241m.\u001b[39mlayer\u001b[38;5;132;01m}\u001b[39;00m\u001b[38;5;124m'\u001b[39m\n",
      "File \u001b[1;32mc:\\users\\figenyilmaz\\documents\\github\\qiskit-metal\\qiskit_metal\\renderers\\renderer_gds\\make_cheese.py:390\u001b[0m, in \u001b[0;36mCheesing._subtract_keepout_from_hole_grid\u001b[1;34m(self, gather_holes_cell)\u001b[0m\n\u001b[0;32m    387\u001b[0m diff_holes_cell_name \u001b[38;5;241m=\u001b[39m \u001b[38;5;124mf\u001b[39m\u001b[38;5;124m'\u001b[39m\u001b[38;5;124mTOP_\u001b[39m\u001b[38;5;132;01m{\u001b[39;00m\u001b[38;5;28mself\u001b[39m\u001b[38;5;241m.\u001b[39mchip_name\u001b[38;5;132;01m}\u001b[39;00m\u001b[38;5;124m_\u001b[39m\u001b[38;5;132;01m{\u001b[39;00m\u001b[38;5;28mself\u001b[39m\u001b[38;5;241m.\u001b[39mlayer\u001b[38;5;132;01m}\u001b[39;00m\u001b[38;5;124m_Cheese_diff\u001b[39m\u001b[38;5;124m'\u001b[39m\n\u001b[0;32m    388\u001b[0m diff_holes_cell \u001b[38;5;241m=\u001b[39m \u001b[38;5;28mself\u001b[39m\u001b[38;5;241m.\u001b[39mlib\u001b[38;5;241m.\u001b[39mnew_cell(diff_holes_cell_name,\n\u001b[0;32m    389\u001b[0m                                     overwrite_duplicate\u001b[38;5;241m=\u001b[39m\u001b[38;5;28;01mTrue\u001b[39;00m)\n\u001b[1;32m--> 390\u001b[0m \u001b[43mdiff_holes_cell\u001b[49m\u001b[38;5;241;43m.\u001b[39;49m\u001b[43madd\u001b[49m\u001b[43m(\u001b[49m\u001b[43mdiff_holes\u001b[49m\u001b[43m)\u001b[49m\n\u001b[0;32m    392\u001b[0m \u001b[38;5;28mself\u001b[39m\u001b[38;5;241m.\u001b[39mlib\u001b[38;5;241m.\u001b[39mremove(temp_keepout_chip_layer_cell)\n\u001b[0;32m    393\u001b[0m \u001b[38;5;28;01mreturn\u001b[39;00m diff_holes_cell\n",
      "File \u001b[1;32m~\\Anaconda3\\envs\\qiskit-metal\\lib\\site-packages\\gdspy\\library.py:320\u001b[0m, in \u001b[0;36mCell.add\u001b[1;34m(self, element)\u001b[0m\n\u001b[0;32m    318\u001b[0m     \u001b[38;5;28mself\u001b[39m\u001b[38;5;241m.\u001b[39mreferences\u001b[38;5;241m.\u001b[39mappend(element)\n\u001b[0;32m    319\u001b[0m \u001b[38;5;28;01melse\u001b[39;00m:\n\u001b[1;32m--> 320\u001b[0m     \u001b[38;5;28;01mfor\u001b[39;00m e \u001b[38;5;129;01min\u001b[39;00m element:\n\u001b[0;32m    321\u001b[0m         \u001b[38;5;28;01mif\u001b[39;00m \u001b[38;5;28misinstance\u001b[39m(e, PolygonSet):\n\u001b[0;32m    322\u001b[0m             \u001b[38;5;28mself\u001b[39m\u001b[38;5;241m.\u001b[39mpolygons\u001b[38;5;241m.\u001b[39mappend(e)\n",
      "\u001b[1;31mTypeError\u001b[0m: 'NoneType' object is not iterable"
     ]
    }
   ],
   "source": [
    "# fluxonium_gds.export_to_gds('fluxonium_calibration_structure.gds')\n",
    "fluxonium_gds.export_to_gds('JJDose-test.gds')"
   ]
  },
  {
   "cell_type": "code",
   "execution_count": 8,
   "id": "835fdce8",
   "metadata": {
    "ExecuteTime": {
     "end_time": "2022-01-22T18:18:46.224954Z",
     "start_time": "2022-01-22T18:18:42.689483Z"
    }
   },
   "outputs": [
    {
     "data": {
      "text/plain": [
       "True"
      ]
     },
     "execution_count": 8,
     "metadata": {},
     "output_type": "execute_result"
    }
   ],
   "source": [
    "gui.main_window.close()"
   ]
  },
  {
   "cell_type": "code",
   "execution_count": null,
   "id": "eafba2b8",
   "metadata": {},
   "outputs": [],
   "source": []
  }
 ],
 "metadata": {
  "kernelspec": {
   "display_name": "Python 3 (ipykernel)",
   "language": "python",
   "name": "python3"
  },
  "language_info": {
   "codemirror_mode": {
    "name": "ipython",
    "version": 3
   },
   "file_extension": ".py",
   "mimetype": "text/x-python",
   "name": "python",
   "nbconvert_exporter": "python",
   "pygments_lexer": "ipython3",
   "version": "3.9.13"
  },
  "latex_envs": {
   "LaTeX_envs_menu_present": true,
   "autoclose": false,
   "autocomplete": true,
   "bibliofile": "biblio.bib",
   "cite_by": "apalike",
   "current_citInitial": 1,
   "eqLabelWithNumbers": true,
   "eqNumInitial": 1,
   "hotkeys": {
    "equation": "Ctrl-E",
    "itemize": "Ctrl-I"
   },
   "labels_anchors": false,
   "latex_user_defs": false,
   "report_style_numbering": false,
   "user_envs_cfg": false
  },
  "toc": {
   "base_numbering": 1,
   "nav_menu": {},
   "number_sections": true,
   "sideBar": true,
   "skip_h1_title": false,
   "title_cell": "Table of Contents",
   "title_sidebar": "Contents",
   "toc_cell": false,
   "toc_position": {
    "height": "calc(100% - 180px)",
    "left": "10px",
    "top": "150px",
    "width": "165px"
   },
   "toc_section_display": true,
   "toc_window_display": true
  }
 },
 "nbformat": 4,
 "nbformat_minor": 5
}
