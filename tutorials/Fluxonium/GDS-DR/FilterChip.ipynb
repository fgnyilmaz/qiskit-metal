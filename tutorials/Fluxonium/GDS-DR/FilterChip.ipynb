{
 "cells": [
  {
   "cell_type": "code",
   "execution_count": 1,
   "id": "28389b40",
   "metadata": {},
   "outputs": [],
   "source": [
    "%load_ext autoreload\n",
    "%autoreload 2"
   ]
  },
  {
   "cell_type": "code",
   "execution_count": 2,
   "id": "5328fc7e",
   "metadata": {},
   "outputs": [],
   "source": [
    "import qiskit_metal as metal\n",
    "from qiskit_metal import designs, draw\n",
    "from qiskit_metal import MetalGUI, Dict, open_docs"
   ]
  },
  {
   "cell_type": "code",
   "execution_count": 3,
   "id": "ffa59457",
   "metadata": {},
   "outputs": [],
   "source": [
    "import warnings\n",
    "warnings.filterwarnings(\"ignore\")"
   ]
  },
  {
   "cell_type": "code",
   "execution_count": 4,
   "id": "76f04290",
   "metadata": {},
   "outputs": [],
   "source": [
    "design = designs.DesignPlanar({}, True)\n",
    "design.chips.main.size['size_x'] = '9mm'\n",
    "design.chips.main.size['size_y'] = '9mm'"
   ]
  },
  {
   "cell_type": "code",
   "execution_count": 5,
   "id": "b9ac8da5",
   "metadata": {},
   "outputs": [],
   "source": [
    "gui = MetalGUI(design)"
   ]
  },
  {
   "cell_type": "code",
   "execution_count": 6,
   "id": "cfae78cd",
   "metadata": {},
   "outputs": [],
   "source": [
    "design.overwrite_enabled = True"
   ]
  },
  {
   "cell_type": "code",
   "execution_count": 7,
   "id": "fad6e3b5",
   "metadata": {
    "scrolled": true
   },
   "outputs": [
    {
     "data": {
      "text/plain": [
       "{'pos_x': '0.0um',\n",
       " 'pos_y': '0.0um',\n",
       " 'orientation': '0.0',\n",
       " 'chip': 'main',\n",
       " 'layer': '1',\n",
       " 'connection_pads': {},\n",
       " '_default_connection_pads': {'pad_gap': '15um',\n",
       "  'pad_width': '20um',\n",
       "  'pad_height': '150um',\n",
       "  'pad_cpw_shift': '0um',\n",
       "  'pad_cpw_extent': '25um',\n",
       "  'cpw_width': '10um',\n",
       "  'cpw_gap': '6um',\n",
       "  'cpw_extend': '100um',\n",
       "  'pocket_extent': '5um',\n",
       "  'pocket_rise': '0um',\n",
       "  'loc_W': '+1',\n",
       "  'loc_H': '+1'},\n",
       " 'pad_gap': '30um',\n",
       " 'inductor_width': '20um',\n",
       " 'pad_width': '400um',\n",
       " 'pad_height': '90um',\n",
       " 'pocket_width': '650um',\n",
       " 'pocket_height': '650um',\n",
       " 'coupled_pad_height': '150um',\n",
       " 'coupled_pad_width': '20um',\n",
       " 'coupled_pad_gap': '50um',\n",
       " 'flux_bias_line_options': {'make_fbl': False,\n",
       "  'fbl_sep': '85um',\n",
       "  'fbl_height': '50um',\n",
       "  'cpw_width': '10um',\n",
       "  'cpw_gap': '11.233um'},\n",
       " 'hfss_wire_bonds': False,\n",
       " 'q3d_wire_bonds': False,\n",
       " 'hfss_inductance': '10nH',\n",
       " 'hfss_capacitance': 0,\n",
       " 'hfss_resistance': 0,\n",
       " 'hfss_mesh_kw_jj': 7e-06,\n",
       " 'q3d_inductance': '10nH',\n",
       " 'q3d_capacitance': 0,\n",
       " 'q3d_resistance': 0,\n",
       " 'q3d_mesh_kw_jj': 7e-06,\n",
       " 'gds_cell_name': 'my_other_junction'}"
      ]
     },
     "execution_count": 7,
     "metadata": {},
     "output_type": "execute_result"
    }
   ],
   "source": [
    "from qiskit_metal.qlibrary.qubits.transmon_pocket_teeth import TransmonPocketTeeth\n",
    "from qiskit_metal.qlibrary.qubits.transmon_pocket_teeth_flux import TransmonPocketTeethFlux\n",
    "from qiskit_metal.qlibrary.tlines.meandered import RouteMeander\n",
    "from qiskit_metal.qlibrary.tlines.pathfinder import RoutePathfinder\n",
    "from qiskit_metal.qlibrary.terminations.open_to_ground import OpenToGround\n",
    "from qiskit_metal.qlibrary.terminations.launchpad_wb import LaunchpadWirebond\n",
    "TransmonPocketTeethFlux.get_template_options(design)"
   ]
  },
  {
   "cell_type": "code",
   "execution_count": 8,
   "id": "63ba6149",
   "metadata": {},
   "outputs": [
    {
     "data": {
      "text/plain": [
       "{'pos_x': '0.0um',\n",
       " 'pos_y': '0.0um',\n",
       " 'orientation': '0.0',\n",
       " 'chip': 'main',\n",
       " 'layer': '1',\n",
       " 'width': '10um',\n",
       " 'gap': '6um',\n",
       " 'termination_gap': '6um'}"
      ]
     },
     "execution_count": 8,
     "metadata": {},
     "output_type": "execute_result"
    }
   ],
   "source": [
    "OpenToGround.get_template_options(design)"
   ]
  },
  {
   "cell_type": "code",
   "execution_count": 9,
   "id": "13fe4c6f",
   "metadata": {},
   "outputs": [
    {
     "data": {
      "text/plain": [
       "{'chip': 'main',\n",
       " 'layer': '1',\n",
       " 'pin_inputs': {'start_pin': {'component': '', 'pin': ''},\n",
       "  'end_pin': {'component': '', 'pin': ''}},\n",
       " 'fillet': '0',\n",
       " 'lead': {'start_straight': '0mm',\n",
       "  'end_straight': '0mm',\n",
       "  'start_jogged_extension': '',\n",
       "  'end_jogged_extension': ''},\n",
       " 'total_length': '7mm',\n",
       " 'trace_width': 'cpw_width',\n",
       " 'meander': {'spacing': '200um', 'asymmetry': '0um'},\n",
       " 'snap': 'true',\n",
       " 'prevent_short_edges': 'true',\n",
       " 'hfss_wire_bonds': False,\n",
       " 'q3d_wire_bonds': False}"
      ]
     },
     "execution_count": 9,
     "metadata": {},
     "output_type": "execute_result"
    }
   ],
   "source": [
    "RouteMeander.get_template_options(design)"
   ]
  },
  {
   "cell_type": "markdown",
   "id": "08f5e407",
   "metadata": {},
   "source": [
    "## Qubits"
   ]
  },
  {
   "cell_type": "code",
   "execution_count": 111,
   "id": "b8153b52",
   "metadata": {
    "scrolled": true
   },
   "outputs": [],
   "source": [
    "from qiskit_metal.qlibrary.qubits.transmon_pocket_teeth_flux import TransmonPocketTeethFlux\n",
    "#Left side of chip\n",
    "transmon_options = dict(\n",
    "    pos_x = '0mm',\n",
    "    pos_y = '0mm',\n",
    "    orientation = '0',\n",
    "    pad_gap = '70um',\n",
    "    inductor_width = '70um',\n",
    "    pad_width = '850um',\n",
    "    pad_height = '120um',\n",
    "    pocket_width = '1120um',\n",
    "    pocket_height = '800um',\n",
    "    coupled_pad_width = '30um',\n",
    "    coupled_pad_height = '210um',\n",
    "    coupled_pad_gap = '100um',\n",
    "    \n",
    "\n",
    "    connection_pads=dict(\n",
    "        readout = dict(loc_W=0, loc_H=+1, pad_gap = '30um', pad_width = '40um', pad_height = '170um',\n",
    "                       cpw_width = '10um', cpw_gap = '6um', cpw_extend = '50um', pocket_extent = '5um'),\n",
    "    ),\n",
    "\n",
    "    gds_cell_name='FakeJunction_01',\n",
    ")\n",
    "\n",
    "transmon_tune_options = dict(\n",
    "    pos_x = '0mm',\n",
    "    pos_y = '0mm',\n",
    "    orientation = '0',\n",
    "    pad_gap = '70um',\n",
    "    inductor_width = '70um',\n",
    "    pad_width = '850um',\n",
    "    pad_height = '120um',\n",
    "    pocket_width = '1120um',\n",
    "    pocket_height = '800um',\n",
    "    coupled_pad_width = '30um',\n",
    "    coupled_pad_height = '210um',\n",
    "    coupled_pad_gap = '100um',\n",
    "    flux_bias_line_options=Dict(\n",
    "            make_fbl = True,\n",
    "            fbl_sep='85um',\n",
    "            fbl_height ='50um',\n",
    "            cpw_width ='10um',\n",
    "            cpw_gap = '11.233um',\n",
    "    ),\n",
    "\n",
    "    connection_pads=dict(\n",
    "        readout = dict(loc_W=0, loc_H=+1, pad_gap = '30um', pad_width = '40um', pad_height = '170um',\n",
    "                       cpw_width = '10um', cpw_gap = '6um', cpw_extend = '50um', pocket_extent = '5um'),\n",
    "    ),\n",
    "\n",
    "    gds_cell_name='FakeJunction_01',\n",
    ")\n",
    "q1 = TransmonPocketTeeth(design, 'Q1', options=transmon_options)\n",
    "q1.options.orientation = '-90'\n",
    "q1.options.pos_x = '-2.25mm'\n",
    "q1.options.pos_y = '3mm'\n",
    "\n",
    "q2 = TransmonPocketTeethFlux(design, 'Q2', options=transmon_tune_options)\n",
    "q2.options.pos_x = '-2.25mm'\n",
    "q2.options.pos_y = '1mm'\n",
    "q2.options.orientation = '-90'\n",
    "q2.options.flux_bias_line_options.make_fbl = False,\n",
    "# q2.options.flux_bias_line_options.fbl_sep='85um'\n",
    "# q2.options.flux_bias_line_options.fbl_height = '10um'\n",
    "# q2.options.flux_bias_line_options.cpw_width ='10um'\n",
    "# q2.options.flux_bias_line_options.cpw_gap = '12um' \n",
    "\n",
    "q3 = TransmonPocketTeeth(design, 'Q3', options=transmon_options)\n",
    "q3.options.orientation = '-90'\n",
    "q3.options.pos_x = '-2.25mm'\n",
    "q3.options.pos_y = '-1mm'\n",
    "\n",
    "q4 = TransmonPocketTeethFlux(design, 'Q4', options=transmon_options)\n",
    "q4.options.pos_x = '-2.25mm'\n",
    "q4.options.pos_y = '-3mm'\n",
    "q4.options.orientation = '-90'\n",
    "\n",
    "gui.rebuild()"
   ]
  },
  {
   "cell_type": "code",
   "execution_count": 102,
   "id": "be2fcc6d",
   "metadata": {},
   "outputs": [
    {
     "data": {
      "text/plain": [
       "\u001b[95m\u001b[1mname:    \u001b[94m\u001b[1mQ2\u001b[0m\n",
       "\u001b[95m\u001b[1mclass:   \u001b[94m\u001b[1mTransmonPocketTeethFlux\u001b[0m\n",
       "\u001b[95m\u001b[1moptions: \u001b[0m\n",
       "  'pos_x'             : '-2.25mm',                    \n",
       "  'pos_y'             : '1mm',                        \n",
       "  'orientation'       : '-90',                        \n",
       "  'chip'              : 'main',                       \n",
       "  'layer'             : '1',                          \n",
       "  \u001b[1m'connection_pads'   \u001b[0m: {\n",
       "       \u001b[1m'readout'           \u001b[0m: {\n",
       "            'pad_gap'           : '30um',                       \n",
       "            'pad_width'         : '40um',                       \n",
       "            'pad_height'        : '170um',                      \n",
       "            'pad_cpw_shift'     : '0um',                        \n",
       "            'pad_cpw_extent'    : '25um',                       \n",
       "            'cpw_width'         : '10um',                       \n",
       "            'cpw_gap'           : '6um',                        \n",
       "            'cpw_extend'        : '50um',                       \n",
       "            'pocket_extent'     : '5um',                        \n",
       "            'pocket_rise'       : '0um',                        \n",
       "            'loc_W'             : 0,                            \n",
       "            'loc_H'             : 1,                            \n",
       "                             },\n",
       "                        },\n",
       "  'pad_gap'           : '70um',                       \n",
       "  'inductor_width'    : '70um',                       \n",
       "  'pad_width'         : '850um',                      \n",
       "  'pad_height'        : '120um',                      \n",
       "  'pocket_width'      : '1120um',                     \n",
       "  'pocket_height'     : '800um',                      \n",
       "  'coupled_pad_height': '210um',                      \n",
       "  'coupled_pad_width' : '30um',                       \n",
       "  'coupled_pad_gap'   : '100um',                      \n",
       "  \u001b[1m'flux_bias_line_options'\u001b[0m: {\n",
       "       'make_fbl'          : (False,),                     \n",
       "       'fbl_sep'           : '85um',                       \n",
       "       'fbl_height'        : '50um',                       \n",
       "       'cpw_width'         : '10um',                       \n",
       "       'cpw_gap'           : '11.233um',                   \n",
       "                        },\n",
       "  'hfss_wire_bonds'   : False,                        \n",
       "  'q3d_wire_bonds'    : False,                        \n",
       "  'hfss_inductance'   : '10nH',                       \n",
       "  'hfss_capacitance'  : 0,                            \n",
       "  'hfss_resistance'   : 0,                            \n",
       "  'hfss_mesh_kw_jj'   : 7e-06,                        \n",
       "  'q3d_inductance'    : '10nH',                       \n",
       "  'q3d_capacitance'   : 0,                            \n",
       "  'q3d_resistance'    : 0,                            \n",
       "  'q3d_mesh_kw_jj'    : 7e-06,                        \n",
       "  'gds_cell_name'     : 'FakeJunction_01',            \n",
       "\u001b[95m\u001b[1mmodule:  \u001b[94m\u001b[1mqiskit_metal.qlibrary.qubits.transmon_pocket_teeth_flux\u001b[0m\n",
       "\u001b[95m\u001b[1mid:      \u001b[94m\u001b[1m162\u001b[0m"
      ]
     },
     "execution_count": 102,
     "metadata": {},
     "output_type": "execute_result"
    }
   ],
   "source": [
    "q2"
   ]
  },
  {
   "cell_type": "code",
   "execution_count": 50,
   "id": "cd9f5f94",
   "metadata": {},
   "outputs": [],
   "source": [
    "q5 = TransmonPocketTeeth(design, 'Q5', options=transmon_options)\n",
    "q5.options.orientation = '90'\n",
    "q5.options.pos_x = '2.25mm'\n",
    "q5.options.pos_y = '-3mm'\n",
    "\n",
    "q6 = TransmonPocketTeethFlux(design, 'Q6', options=transmon_options)\n",
    "q6.options.pos_x = '2.25mm'\n",
    "q6.options.pos_y = '-1mm'\n",
    "q6.options.orientation = '90'\n",
    "\n",
    "q7 = TransmonPocketTeeth(design, 'Q7', options=transmon_options)\n",
    "q7.options.orientation = '90'\n",
    "q7.options.pos_x = '2.25mm'\n",
    "q7.options.pos_y = '1mm'\n",
    "\n",
    "q8 = TransmonPocketTeethFlux(design, 'Q8', options=transmon_options)\n",
    "q8.options.pos_x = '2.25mm'\n",
    "q8.options.pos_y = '3mm'\n",
    "q8.options.orientation = '90'\n",
    "\n",
    "gui.rebuild()  # rebuild the design and plot"
   ]
  },
  {
   "cell_type": "code",
   "execution_count": 51,
   "id": "a3927b76",
   "metadata": {},
   "outputs": [],
   "source": [
    "# q1.options.orientation = '0'\n",
    "\n",
    "# q1.options.connection_pads.readout.pad_gap = '30um'\n",
    "# q1.options.connection_pads.readout.pad_width = '40um'\n",
    "# q1.options.connection_pads.readout.pad_height = '170um'\n",
    "\n",
    "# q1.options.connection_pads.readout.cpw_width = '10um'\n",
    "# q1.options.connection_pads.readout.cpw_gap = '6um'\n",
    "# q1.options.connection_pads.readout.cpw_extend = '50um'\n",
    "\n",
    "# q1.options.connection_pads.readout.pocket_extent = '5um'\n",
    "\n",
    "# q1.options.pad_gap = '70um'\n",
    "# q1.options.inductor_width = '70um'\n",
    "# q1.options.pad_width = '850um'\n",
    "# q1.options.pad_height = '120um'\n",
    "\n",
    "# q1.options.pocket_width = '1120um'\n",
    "# q1.options.pocket_height = '800um'\n",
    "\n",
    "# q1.options.coupled_pad_width = '30um'\n",
    "# q1.options.coupled_pad_height = '210um'\n",
    "# q1.options.coupled_pad_gap = '100um'"
   ]
  },
  {
   "cell_type": "code",
   "execution_count": 52,
   "id": "c32d8131",
   "metadata": {
    "scrolled": true
   },
   "outputs": [
    {
     "data": {
      "text/plain": [
       "\u001b[95m\u001b[1mname:    \u001b[94m\u001b[1mQ1\u001b[0m\n",
       "\u001b[95m\u001b[1mclass:   \u001b[94m\u001b[1mTransmonPocketTeeth   \u001b[0m\n",
       "\u001b[95m\u001b[1moptions: \u001b[0m\n",
       "  'pos_x'             : '-2.25mm',                    \n",
       "  'pos_y'             : '3mm',                        \n",
       "  'orientation'       : '-90',                        \n",
       "  'chip'              : 'main',                       \n",
       "  'layer'             : '1',                          \n",
       "  \u001b[1m'connection_pads'   \u001b[0m: {\n",
       "       \u001b[1m'readout'           \u001b[0m: {\n",
       "            'pad_gap'           : '30um',                       \n",
       "            'pad_width'         : '40um',                       \n",
       "            'pad_height'        : '170um',                      \n",
       "            'pad_cpw_shift'     : '0um',                        \n",
       "            'pad_cpw_extent'    : '25um',                       \n",
       "            'cpw_width'         : '10um',                       \n",
       "            'cpw_gap'           : '6um',                        \n",
       "            'cpw_extend'        : '50um',                       \n",
       "            'pocket_extent'     : '5um',                        \n",
       "            'pocket_rise'       : '0um',                        \n",
       "            'loc_W'             : 0,                            \n",
       "            'loc_H'             : 1,                            \n",
       "                             },\n",
       "                        },\n",
       "  'pad_gap'           : '70um',                       \n",
       "  'inductor_width'    : '70um',                       \n",
       "  'pad_width'         : '850um',                      \n",
       "  'pad_height'        : '120um',                      \n",
       "  'pocket_width'      : '1120um',                     \n",
       "  'pocket_height'     : '800um',                      \n",
       "  'coupled_pad_height': '210um',                      \n",
       "  'coupled_pad_width' : '30um',                       \n",
       "  'coupled_pad_gap'   : '100um',                      \n",
       "  'hfss_wire_bonds'   : False,                        \n",
       "  'q3d_wire_bonds'    : False,                        \n",
       "  'hfss_inductance'   : '10nH',                       \n",
       "  'hfss_capacitance'  : 0,                            \n",
       "  'hfss_resistance'   : 0,                            \n",
       "  'hfss_mesh_kw_jj'   : 7e-06,                        \n",
       "  'q3d_inductance'    : '10nH',                       \n",
       "  'q3d_capacitance'   : 0,                            \n",
       "  'q3d_resistance'    : 0,                            \n",
       "  'q3d_mesh_kw_jj'    : 7e-06,                        \n",
       "  'gds_cell_name'     : 'FakeJunction_01',            \n",
       "\u001b[95m\u001b[1mmodule:  \u001b[94m\u001b[1mqiskit_metal.qlibrary.qubits.transmon_pocket_teeth\u001b[0m\n",
       "\u001b[95m\u001b[1mid:      \u001b[94m\u001b[1m54\u001b[0m"
      ]
     },
     "execution_count": 52,
     "metadata": {},
     "output_type": "execute_result"
    }
   ],
   "source": [
    "q1"
   ]
  },
  {
   "cell_type": "markdown",
   "id": "930392ec",
   "metadata": {},
   "source": [
    "## Pins for resonators"
   ]
  },
  {
   "cell_type": "code",
   "execution_count": 92,
   "id": "9fab6d7b",
   "metadata": {},
   "outputs": [],
   "source": [
    "otg_options_1 = dict(pos_x='-0.225mm',  pos_y='3.675mm', orientation='90')\n",
    "otg1 = OpenToGround(design, 'open_to_ground', options=otg_options_1)\n",
    "\n",
    "# otg_options_2 = dict(pos_x='-0.225mm',  pos_y='1.675mm', orientation='90')\n",
    "# otg2 = OpenToGround(design, 'open_to_ground', options=otg_options_2)\n",
    "\n",
    "# otg_options_3 = dict(pos_x='-0.225mm',  pos_y='-1.675mm', orientation='90')\n",
    "# otg3 = OpenToGround(design, 'open_to_ground', options=otg_options_3)\n",
    "\n",
    "# otg_options_4 = dict(pos_x='-0.225mm',  pos_y='-3.675mm', orientation='90')\n",
    "# otg4 = OpenToGround(design, 'open_to_ground', options=otg_options_4)\n",
    "\n",
    "# otg_options_5 = dict(pos_x='0.225mm',  pos_y='-3.675mm', orientation='-90')\n",
    "# otg5 = OpenToGround(design, 'open_to_ground', options=otg_options_5)\n",
    "\n",
    "# otg_options_6 = dict(pos_x='0.225mm',  pos_y='-1.675mm', orientation='-90')\n",
    "# otg6 = OpenToGround(design, 'open_to_ground', options=otg_options_6)\n",
    "\n",
    "# otg_options_7 = dict(pos_x='0.225mm',  pos_y='1.675mm', orientation='-90')\n",
    "# otg7 = OpenToGround(design, 'open_to_ground', options=otg_options_7)\n",
    "\n",
    "# otg_options_8 = dict(pos_x='0.225mm',  pos_y='3.675mm', orientation='-90')\n",
    "# otg8 = OpenToGround(design, 'open_to_ground', options=otg_options_8)"
   ]
  },
  {
   "cell_type": "markdown",
   "id": "7949baa9",
   "metadata": {},
   "source": [
    "## Resonators"
   ]
  },
  {
   "cell_type": "code",
   "execution_count": 93,
   "id": "23f09d77",
   "metadata": {},
   "outputs": [],
   "source": [
    "coupler_options1 = Dict(\n",
    "                        pin_inputs=Dict(\n",
    "                                start_pin=Dict(component=q1.name, pin='readout'),\n",
    "                        end_pin=Dict(\n",
    "                                component=otg1.name, pin='open')),\n",
    "                        fillet='100um',\n",
    "                        total_length = '7.9mm',\n",
    "                        lead = Dict(start_straight = '150um'\n",
    "                                    ),\n",
    "                        meander = Dict(spacing = '210um'\n",
    "                                    ))\n",
    "\n",
    "# coupler_options2 = Dict(\n",
    "#                         pin_inputs=Dict(\n",
    "#                                 start_pin=Dict(component=q2.name, pin='readout'),\n",
    "#                         end_pin=Dict(\n",
    "#                                 component=otg2.name, pin='open')),\n",
    "#                         fillet='100um',\n",
    "#                         total_length = '8.2mm',\n",
    "#                         lead = Dict(start_straight = '150um'\n",
    "#                                     ),\n",
    "#                         meander = Dict(spacing = '210um'\n",
    "#                                     ))\n",
    "\n",
    "# coupler_options3 = Dict(\n",
    "#                         pin_inputs=Dict(\n",
    "#                                 start_pin=Dict(component=q3.name, pin='readout'),\n",
    "#                         end_pin=Dict(\n",
    "#                                 component=otg3.name, pin='open')),\n",
    "#                         fillet='100um',\n",
    "#                         total_length = '8.55mm',\n",
    "#                         lead = Dict(start_straight = '150um'\n",
    "#                                     ),\n",
    "#                         meander = Dict(spacing = '210um'\n",
    "#                                     ))\n",
    "\n",
    "# coupler_options4 = Dict(\n",
    "#                         pin_inputs=Dict(\n",
    "#                                 start_pin=Dict(component=q4.name, pin='readout'),\n",
    "#                         end_pin=Dict(\n",
    "#                                 component=otg4.name, pin='open')),\n",
    "#                         fillet='100um',\n",
    "#                         total_length = '8.91mm',\n",
    "#                         lead = Dict(start_straight = '150um'\n",
    "#                                     ),\n",
    "#                         meander = Dict(spacing = '210um'\n",
    "#                                     ))\n",
    "\n",
    "# coupler_options5 = Dict(\n",
    "#                         pin_inputs=Dict(\n",
    "#                                 start_pin=Dict(component=q5.name, pin='readout'),\n",
    "#                         end_pin=Dict(\n",
    "#                                 component=otg5.name, pin='open')),\n",
    "#                         fillet='100um',\n",
    "#                         total_length = '9.3mm',\n",
    "#                         lead = Dict(start_straight = '150um'\n",
    "#                                     ),\n",
    "#                         meander = Dict(spacing = '210um'\n",
    "#                                     ))\n",
    "\n",
    "# coupler_options6 = Dict(\n",
    "#                         pin_inputs=Dict(\n",
    "#                                 start_pin=Dict(component=q6.name, pin='readout'),\n",
    "#                         end_pin=Dict(\n",
    "#                                 component=otg6.name, pin='open')),\n",
    "#                         fillet='100um',\n",
    "#                         total_length = '9.73mm',\n",
    "#                         lead = Dict(start_straight = '150um'\n",
    "#                                     ),\n",
    "#                         meander = Dict(spacing = '210um'\n",
    "#                                     ))\n",
    "\n",
    "# coupler_options7 = Dict(\n",
    "#                         pin_inputs=Dict(\n",
    "#                                 start_pin=Dict(component=q7.name, pin='readout'),\n",
    "#                         end_pin=Dict(\n",
    "#                                 component=otg7.name, pin='open')),\n",
    "#                         fillet='100um',\n",
    "#                         total_length = '10.19mm',\n",
    "#                         lead = Dict(start_straight = '150um'\n",
    "#                                     ),\n",
    "#                         meander = Dict(spacing = '210um'\n",
    "#                                     ))\n",
    "\n",
    "# coupler_options8 = Dict(\n",
    "#                         pin_inputs=Dict(\n",
    "#                                 start_pin=Dict(component=q8.name, pin='readout'),\n",
    "#                         end_pin=Dict(\n",
    "#                                 component=otg8.name, pin='open')),\n",
    "#                         fillet='100um',\n",
    "#                         total_length = '10.7mm',\n",
    "#                         lead = Dict(start_straight = '150um'\n",
    "#                                     ),\n",
    "#                         meander = Dict(spacing = '210um'\n",
    "#                                     ))\n",
    "\n",
    "bus1 = RouteMeander(design, 'coupler', options= coupler_options1)\n",
    "# bus2 = RouteMeander(design, 'coupler', options= coupler_options2)\n",
    "# bus3 = RouteMeander(design, 'coupler', options= coupler_options3)\n",
    "# bus4 = RouteMeander(design, 'coupler', options= coupler_options4)\n",
    "# bus5 = RouteMeander(design, 'coupler', options= coupler_options5)\n",
    "# bus6 = RouteMeander(design, 'coupler', options= coupler_options6)\n",
    "# bus7 = RouteMeander(design, 'coupler', options= coupler_options7)\n",
    "# bus8 = RouteMeander(design, 'coupler', options= coupler_options8)"
   ]
  },
  {
   "cell_type": "code",
   "execution_count": 94,
   "id": "d5cdfe8c",
   "metadata": {},
   "outputs": [],
   "source": [
    "gui.rebuild()"
   ]
  },
  {
   "cell_type": "markdown",
   "id": "7efd8a9c",
   "metadata": {},
   "source": [
    "## Launchpads"
   ]
  },
  {
   "cell_type": "code",
   "execution_count": 95,
   "id": "780f5666",
   "metadata": {},
   "outputs": [],
   "source": [
    "#Setup the launchpad1 location and orientation\n",
    "\n",
    "## Input launch pad\n",
    "launch_options = dict(chip='main', pos_x='-4.0mm', pos_y='4.1mm', orientation='0',\n",
    "        lead_length='30um', pad_width='200um',\n",
    "        pad_height='200um', pad_gap='112um',\n",
    "                    )\n",
    "lp = LaunchpadWirebond(design, 'LPIn', options = launch_options)\n",
    "\n",
    "\n",
    "# Output launch pad\n",
    "launch_options = dict(chip='main', pos_x='4.0mm', pos_y='-4.1mm', orientation='180',\n",
    "                      lead_length='30um', pad_width='200um',\n",
    "        pad_height='200um', pad_gap='112um',\n",
    "                    )\n",
    "lp = LaunchpadWirebond(design, 'LPOut', options = launch_options)\n",
    "\n",
    "# Flux line launch pads\n",
    "# Middle left\n",
    "launch_options = dict(chip='main', pos_x='-4.0mm', pos_y='0mm', orientation='0',\n",
    "                      lead_length='30um', pad_width='200um',\n",
    "        pad_height='200um', pad_gap='112um',\n",
    "                    )\n",
    "lp = LaunchpadWirebond(design, 'LPFL2', options = launch_options)\n",
    "\n",
    "# Bottom left\n",
    "launch_options = dict(chip='main', pos_x='-4.0mm', pos_y='-4.1mm', orientation='0',\n",
    "                      lead_length='30um', pad_width='200um',\n",
    "        pad_height='200um', pad_gap='112um',\n",
    "                    )\n",
    "lp = LaunchpadWirebond(design, 'LPFL4', options = launch_options)\n",
    "\n",
    "\n",
    "# Top right\n",
    "launch_options = dict(chip='main', pos_x='4.0mm', pos_y='4.1mm', orientation='180',\n",
    "                      lead_length='30um', pad_width='200um',\n",
    "        pad_height='200um', pad_gap='112um',\n",
    "                    )\n",
    "lp = LaunchpadWirebond(design, 'LPFL6', options = launch_options)\n",
    "\n",
    "# Middle right\n",
    "launch_options = dict(chip='main', pos_x='4.0mm', pos_y='0mm', orientation='180',\n",
    "                      lead_length='30um', pad_width='200um',\n",
    "        pad_height='200um', pad_gap='112um',\n",
    "                    )\n",
    "lp = LaunchpadWirebond(design, 'LPFL8', options = launch_options)\n",
    "\n",
    "gui.rebuild()"
   ]
  },
  {
   "cell_type": "markdown",
   "id": "827f9a44",
   "metadata": {},
   "source": [
    "## Lines"
   ]
  },
  {
   "cell_type": "code",
   "execution_count": 96,
   "id": "ebf516f6",
   "metadata": {},
   "outputs": [],
   "source": [
    "Transmission_Line = {'pin_inputs':\n",
    "                    {'start_pin': {'component': 'LPIn', 'pin': 'tie'},\n",
    "                     'end_pin': {'component': 'LPOut', 'pin': 'tie'}},\n",
    "                     'lead': {'start_straight': '3970um', 'end_straight': '3970um',\n",
    "                    # 'start_jogged_extension': jogs_in,\n",
    "                    # 'anchors': anchors1,\n",
    "                                                                        }, \n",
    "                     'total_length': '8mm', 'fillet': \"90um\"\n",
    "                    }\n",
    "\n",
    "TransLine = RoutePathfinder(design, 'TL', Transmission_Line)\n",
    "gui.rebuild()"
   ]
  },
  {
   "cell_type": "code",
   "execution_count": 99,
   "id": "55159de0",
   "metadata": {},
   "outputs": [
    {
     "name": "stderr",
     "output_type": "stream",
     "text": [
      "06:20PM 36s WARNING [check_lengths]: For path table, component=FL2, key=trace has short segments that could cause issues with fillet. Values in (1-2)  are index(es) in shapely geometry.\n",
      "06:20PM 36s WARNING [check_lengths]: For path table, component=FL2, key=cut has short segments that could cause issues with fillet. Values in (1-2)  are index(es) in shapely geometry.\n",
      "06:20PM 37s WARNING [check_lengths]: For path table, component=FL2, key=trace has short segments that could cause issues with fillet. Values in (1-2)  are index(es) in shapely geometry.\n",
      "06:20PM 37s WARNING [check_lengths]: For path table, component=FL2, key=cut has short segments that could cause issues with fillet. Values in (1-2)  are index(es) in shapely geometry.\n"
     ]
    }
   ],
   "source": [
    "# Charge Lıne and Flux Bias Line for Q2\n",
    "fl2 = RoutePathfinder(design, 'FL2', options = dict(chip='main',\n",
    "                       fillet='99um',\n",
    "                       lead=dict(start_straight='250um', end_straight='250um'),\n",
    "                       pin_inputs=Dict(start_pin=Dict(component='Q2', pin='flux_bias_line'),\n",
    "                       end_pin=Dict(component='LPFL2',pin='tie')\n",
    "                       )))\n",
    "gui.rebuild()"
   ]
  },
  {
   "cell_type": "code",
   "execution_count": 100,
   "id": "a6ad1319",
   "metadata": {},
   "outputs": [
    {
     "name": "stderr",
     "output_type": "stream",
     "text": [
      "06:20PM 38s WARNING [check_lengths]: For path table, component=FL2, key=trace has short segments that could cause issues with fillet. Values in (1-2)  are index(es) in shapely geometry.\n",
      "06:20PM 38s WARNING [check_lengths]: For path table, component=FL2, key=cut has short segments that could cause issues with fillet. Values in (1-2)  are index(es) in shapely geometry.\n"
     ]
    }
   ],
   "source": [
    "gui.rebuild()"
   ]
  },
  {
   "cell_type": "code",
   "execution_count": null,
   "id": "4c40c1bf",
   "metadata": {},
   "outputs": [],
   "source": []
  }
 ],
 "metadata": {
  "kernelspec": {
   "display_name": "Python 3 (ipykernel)",
   "language": "python",
   "name": "python3"
  },
  "language_info": {
   "codemirror_mode": {
    "name": "ipython",
    "version": 3
   },
   "file_extension": ".py",
   "mimetype": "text/x-python",
   "name": "python",
   "nbconvert_exporter": "python",
   "pygments_lexer": "ipython3",
   "version": "3.9.13"
  }
 },
 "nbformat": 4,
 "nbformat_minor": 5
}
