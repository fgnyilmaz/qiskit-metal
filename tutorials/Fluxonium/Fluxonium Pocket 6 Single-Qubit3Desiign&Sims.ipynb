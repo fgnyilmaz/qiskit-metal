{
 "cells": [
  {
   "cell_type": "markdown",
   "metadata": {},
   "source": [
    "# Fluxonium Design with 6 single qubits v.3 NEW EVEN SIMPLER look\n",
    "\n",
    "### Preparations"
   ]
  },
  {
   "cell_type": "code",
   "execution_count": 1,
   "metadata": {},
   "outputs": [],
   "source": [
    "# For convenience, let's begin by enabling\n",
    "# automatic reloading of modules when they change.\n",
    "%load_ext autoreload\n",
    "%autoreload 2\n",
    "\n",
    "import numpy as np\n",
    "from collections import OrderedDict\n",
    "\n",
    "import warnings\n",
    "warnings.filterwarnings('ignore')\n",
    "\n",
    "import qiskit_metal as metal\n",
    "from qiskit_metal import designs, draw\n",
    "from qiskit_metal import MetalGUI, Dict\n",
    "import matplotlib.pyplot as plt\n",
    "\n",
    "from qiskit_metal.toolbox_metal import math_and_overrides\n",
    "\n",
    "from qiskit_metal.qlibrary.core import QComponent\n",
    "\n",
    "from qiskit_metal.qlibrary.tlines.meandered import RouteMeander\n",
    "from qiskit_metal.qlibrary.tlines.pathfinder import RoutePathfinder\n",
    "from qiskit_metal.qlibrary.tlines.anchored_path import RouteAnchors\n",
    "\n",
    "from qiskit_metal.qlibrary.qubits.fluxoniumEPR import FluxoniumPocket\n",
    "\n",
    "from qiskit_metal.qlibrary.terminations.launchpad_wb import LaunchpadWirebond\n",
    "\n",
    "from qiskit_metal.qlibrary.terminations.open_to_ground_v2 import OpenToGround\n",
    "from qiskit_metal.renderers.renderer_ansys.ansys_renderer import QAnsysRenderer\n",
    "\n",
    "from qiskit_metal.analyses.sweep_and_optimize.sweeping import Sweeping\n",
    "\n",
    "\n",
    "import pyEPR as epr\n",
    "from qiskit_metal.analyses.quantization import EPRanalysis"
   ]
  },
  {
   "cell_type": "code",
   "execution_count": 2,
   "metadata": {},
   "outputs": [],
   "source": [
    "# Each time you create a new quantum circuit design,\n",
    "# you start by instantiating a QDesign class.\n",
    "\n",
    "# The design class `DesignPlanar` is best for 2D circuit designs.\n",
    "design = designs.DesignPlanar()\n",
    "design.chips.main.material = 'silicon'\n",
    "design.variables['cpw_width'] = '15 um'\n",
    "design.variables['cpw_gap'] = '8.733 um'\n",
    "design._chips['main']['size']['size_x'] = '9mm'\n",
    "design._chips['main']['size']['size_y'] = '9mm'\n",
    "\n",
    "# If you disable the next line with \"overwrite_enabled\", then you will need to\n",
    "# delete a component [<component>.delete()] before recreating it.\n",
    "design.overwrite_enabled = True\n",
    "\n",
    "eig_qres = EPRanalysis(design, \"hfss\")\n",
    "hfss = design.renderers.hfss\n",
    "hfss = eig_qres.sim.renderer\n",
    "q3d = design.renderers.q3d\n",
    "\n",
    "gui = MetalGUI(design)"
   ]
  },
  {
   "cell_type": "code",
   "execution_count": 3,
   "metadata": {
    "scrolled": true
   },
   "outputs": [],
   "source": [
    "#Setup the launchpad location and orientation\n",
    "\n",
    "## Read In launch pad\n",
    "launch_options = dict(chip='main', pos_x='-4.1mm', pos_y='-3.99mm', orientation='0',\n",
    "        lead_length='30um', pad_width='150um',\n",
    "        pad_height='150um', pad_gap='58um',\n",
    "        taper_height='122um',\n",
    "                    )\n",
    "lp = LaunchpadWirebond(design, 'LPReadIn', options = launch_options)\n",
    "\n",
    "\n",
    "# Read Out launch pad\n",
    "launch_options = dict(chip='main', pos_x='4.1mm', pos_y='3.99mm', orientation='180',\n",
    "        lead_length='30um', pad_width='150um',\n",
    "        pad_height='150um',\n",
    "                    )\n",
    "lp = LaunchpadWirebond(design, 'LPReadOut', options = launch_options)\n",
    "\n",
    "\n",
    "# Tranmission Line\n",
    "Transmission_Line = {'pin_inputs':\n",
    "           {'start_pin': {'component': 'LPReadIn', 'pin': 'tie'},\n",
    "             'end_pin': {'component': 'LPReadOut', 'pin': 'tie'}},\n",
    "            'lead': {'start_straight': '300um', 'end_straight': '4070um',\n",
    "                    # 'start_jogged_extension': jogs_in,\n",
    "                    # 'anchors': anchors1,\n",
    "                    }, \n",
    "                    'total_length': '8mm', 'fillet': \"90um\"\n",
    "            }\n",
    "\n",
    "TransLine = RoutePathfinder(design, 'TL', Transmission_Line)\n",
    "\n",
    "\n",
    "gui.rebuild()"
   ]
  },
  {
   "cell_type": "code",
   "execution_count": 4,
   "metadata": {
    "scrolled": true
   },
   "outputs": [],
   "source": [
    "## Q1 flux-bias and charge line\n",
    "launch_options = dict(chip='main', pos_x='-4.1mm', pos_y='-2.66mm', orientation='0',\n",
    "                      lead_length='30um', pad_width='150um',\n",
    "        pad_height='150um',\n",
    "                    )\n",
    "lp = LaunchpadWirebond(design, 'LPCL1', options = launch_options)\n",
    "\n",
    "launch_options = dict(chip='main', pos_x='-4.1mm', pos_y='-1.33mm', orientation='0',\n",
    "                     lead_length='30um', pad_width='150um',\n",
    "        pad_height='150um',\n",
    "                    )\n",
    "lp = LaunchpadWirebond(design, 'LPFB1', options = launch_options)\n",
    "\n",
    "\n",
    "## Q2 flux-bias and charge line\n",
    "launch_options = dict(chip='main', pos_x='-4.1mm', pos_y='0.0mm', orientation='0',\n",
    "                      lead_length='30um', pad_width='150um',\n",
    "        pad_height='150um',\n",
    "                    )\n",
    "lp = LaunchpadWirebond(design, 'LPCL2', options = launch_options)\n",
    "\n",
    "launch_options = dict(chip='main', pos_x='-4.1mm', pos_y='+1.33mm', orientation='0',\n",
    "                      lead_length='30um', pad_width='150um',\n",
    "        pad_height='150um',\n",
    "                    )\n",
    "lp = LaunchpadWirebond(design, 'LPFB2', options = launch_options)\n",
    "\n",
    "\n",
    "## Q3 flux-bias and charge line\n",
    "launch_options = dict(chip='main', pos_x='-4.1mm', pos_y='2.66mm', orientation='0',\n",
    "                      lead_length='30um', pad_width='150um',\n",
    "        pad_height='150um',\n",
    "                    )\n",
    "lp = LaunchpadWirebond(design, 'LPCL3', options = launch_options)\n",
    "\n",
    "launch_options = dict(chip='main', pos_x='-4.1mm', pos_y='3.99mm', orientation='0',\n",
    "                      lead_length='30um', pad_width='150um',\n",
    "        pad_height='150um',\n",
    "                    )\n",
    "lp = LaunchpadWirebond(design, 'LPFB3', options = launch_options)\n",
    "\n",
    "\n",
    "## Q4 flux-bias and charge line\n",
    "launch_options = dict(chip='main', pos_x='4.1mm', pos_y='2.66mm', orientation='180',\n",
    "                      lead_length='30um', pad_width='150um',\n",
    "        pad_height='150um',\n",
    "                    )\n",
    "lp = LaunchpadWirebond(design, 'LPFB4', options = launch_options)\n",
    "\n",
    "launch_options = dict(chip='main', pos_x='4.1mm', pos_y='1.33mm', orientation='180',\n",
    "                      lead_length='30um', pad_width='150um',\n",
    "        pad_height='150um',\n",
    "                    )\n",
    "lp = LaunchpadWirebond(design, 'LPCL4', options = launch_options)\n",
    "\n",
    "\n",
    "## Q5 flux-bias and charge line\n",
    "launch_options = dict(chip='main', pos_x='4.1mm', pos_y='0.0mm', orientation='180',\n",
    "                      lead_length='30um', pad_width='150um',\n",
    "        pad_height='150um',\n",
    "                    )\n",
    "lp = LaunchpadWirebond(design, 'LPFB5', options = launch_options)\n",
    "\n",
    "launch_options = dict(chip='main', pos_x='4.1mm', pos_y='-1.33mm', orientation='180',\n",
    "                      lead_length='30um', pad_width='150um',\n",
    "        pad_height='150um',\n",
    "                    )\n",
    "lp = LaunchpadWirebond(design, 'LPCL5', options = launch_options)\n",
    "\n",
    "\n",
    "## Q6 flux-bias and charge line\n",
    "launch_options = dict(chip='main', pos_x='4.1mm', pos_y='-2.66mm', orientation='180',\n",
    "                      lead_length='30um', pad_width='150um',\n",
    "        pad_height='150um',\n",
    "                    )\n",
    "lp = LaunchpadWirebond(design, 'LPFB6', options = launch_options)\n",
    "\n",
    "launch_options = dict(chip='main', pos_x='4.1mm', pos_y='-3.99mm', orientation='180',\n",
    "                      lead_length='30um', pad_width='150um',\n",
    "        pad_height='150um',\n",
    "                    )\n",
    "lp = LaunchpadWirebond(design, 'LPCL6', options = launch_options)\n",
    "\n",
    "\n",
    "gui.rebuild()"
   ]
  },
  {
   "cell_type": "code",
   "execution_count": 5,
   "metadata": {},
   "outputs": [],
   "source": [
    "from qiskit_metal.qlibrary.qubits.fluxoniumEPR import FluxoniumPocket\n",
    "\n",
    "# Q1 details\n",
    "options = dict(chip='main', nanowire = True, \n",
    "            orientation =90, pos_x = '-2.2mm', pos_y = '-2.3mm',\n",
    "               \n",
    "    flux_bias_line_options=Dict(make_fbl = True,\n",
    "                        fbl_sep='150um',), \n",
    "               \n",
    "    charge_line_options=Dict(loc_H = +1, make_cl = True,\n",
    "            cl_sep ='-10um'),\n",
    "    readout_line_options=Dict(loc_H = -1, make_rol = True, \n",
    "            pad_width = '300um', pad_height = '80um',\n",
    "            pad_sep='60um', \n",
    "              ) )\n",
    "               \n",
    "q1 = FluxoniumPocket(design,'Q1', options = dict(\n",
    "             **options))\n",
    "\n",
    "# Q6 details\n",
    "options = dict(chip='main', nanowire = True,\n",
    "    orientation =90, pos_x = '2.2mm', pos_y = '-3.2mm',\n",
    "               \n",
    "    flux_bias_line_options=Dict(make_fbl = True,\n",
    "                        fbl_sep='150um'), \n",
    "               \n",
    "    charge_line_options=Dict(loc_H = -1, make_cl = True,\n",
    "            cl_sep ='-10um',\n",
    "                            ), \n",
    "    readout_line_options=Dict(loc_H = +1, make_rol = True, \n",
    "            pad_width = '300um', pad_height = '80um',\n",
    "            pad_sep='60um', \n",
    "              ) )\n",
    "               \n",
    "q6 = FluxoniumPocket(design,'Q6', options = dict(\n",
    "        **options))\n",
    "\n",
    "\n",
    "# Q2 details\n",
    "options = dict(chip='main', nanowire = True,\n",
    "    orientation =90, pos_x = '-2.2mm', pos_y = '0.2mm',\n",
    "               \n",
    "    flux_bias_line_options=Dict(make_fbl = True,\n",
    "                        fbl_sep='150um'), \n",
    "               \n",
    "    charge_line_options=Dict(loc_H = +1, make_cl = True,\n",
    "            cl_sep ='-10um',\n",
    "                            ),\n",
    "    readout_line_options=Dict(loc_H = -1, make_rol = True, \n",
    "            pad_width = '300um', pad_height = '80um',\n",
    "            pad_sep='60um', \n",
    "              ) )\n",
    "               \n",
    "q2 = FluxoniumPocket(design,'Q2', options = dict(\n",
    "        **options))\n",
    "\n",
    "# Q5 details\n",
    "options = dict(chip='main', nanowire = True,\n",
    "    orientation =90, pos_x = '2.4mm', pos_y = '-0.8mm',\n",
    "               \n",
    "    flux_bias_line_options=Dict(make_fbl = True,\n",
    "                        fbl_sep='150um'), \n",
    "               \n",
    "    charge_line_options=Dict(loc_H = -1, make_cl = True,\n",
    "            cl_sep ='-10um',\n",
    "                            ), \n",
    "    readout_line_options=Dict(loc_H = +1, make_rol = True, \n",
    "            pad_width = '300um', pad_height = '80um',\n",
    "            pad_sep='60um', \n",
    "              ) )\n",
    "               \n",
    "q5 = FluxoniumPocket(design,'Q5', options = dict(\n",
    "        **options))\n",
    "\n",
    "\n",
    "# Q3 details\n",
    "options = dict(chip='main', nanowire = True,\n",
    "    orientation =90, pos_x = '-2.5mm', pos_y = '3.0mm',\n",
    "               \n",
    "    flux_bias_line_options=Dict(make_fbl = True,\n",
    "                        fbl_sep='150um'), \n",
    "               \n",
    "    charge_line_options=Dict(loc_H = +1, make_cl = True,\n",
    "            cl_sep ='-10um',\n",
    "                            ),\n",
    "    readout_line_options=Dict(loc_H = -1, make_rol = True, \n",
    "            pad_width = '300um', pad_height = '80um',\n",
    "            pad_sep='60um', \n",
    "              ) )\n",
    "               \n",
    "q3 = FluxoniumPocket(design,'Q3', options = dict(\n",
    "        **options))\n",
    "\n",
    "# Q4 details\n",
    "options = dict(chip='main', nanowire = True,\n",
    "    orientation =90, pos_x = '2.4mm', pos_y = '2.0mm',\n",
    "               \n",
    "    flux_bias_line_options=Dict(make_fbl = True,\n",
    "                        fbl_sep='150um'), \n",
    "               \n",
    "    charge_line_options=Dict(loc_H = -1, make_cl = True,\n",
    "            cl_sep ='-10um',\n",
    "                            ),\n",
    "    readout_line_options=Dict(loc_H = 1, make_rol = True, \n",
    "            pad_width = '300um', pad_height = '80um',\n",
    "            pad_sep='60um', \n",
    "              ) )\n",
    "               \n",
    "q4 = FluxoniumPocket(design,'Q4', options = dict(\n",
    "        **options))\n",
    "\n",
    "gui.rebuild()"
   ]
  },
  {
   "cell_type": "code",
   "execution_count": 6,
   "metadata": {},
   "outputs": [],
   "source": [
    "otg1 = OpenToGround(design, 'otg1s', options=dict(chip='main', \n",
    "                 pos_x='-37.733um', pos_y='-2.8mm', orientation='270'))\n",
    "rt_meander = RouteMeander(design, 'cavity1',  Dict(meander=Dict(spacing='200um'),\n",
    "        total_length='8.4mm',\n",
    "        hfss_wire_bonds = True,\n",
    "        fillet='99um',\n",
    "        lead = dict(start_straight='250um'),\n",
    "        pin_inputs=Dict(\n",
    "            start_pin=Dict(component='otg1s', pin='open'),\n",
    "            end_pin=Dict(component='Q1', pin='readout_line')), ))\n",
    "\n",
    "gui.rebuild()"
   ]
  },
  {
   "cell_type": "code",
   "execution_count": 11,
   "metadata": {},
   "outputs": [],
   "source": [
    "otg6 = OpenToGround(design, 'otg6s', options=dict(chip='main', pos_x='37.733um',  pos_y='-2.0mm', orientation='90'))\n",
    "rt_meander = RouteMeander(design, 'cavity6',  Dict(meander=Dict(spacing='200um'),\n",
    "        total_length='9.0mm',\n",
    "        hfss_wire_bonds = True,\n",
    "        fillet='99um',\n",
    "        lead = dict(start_straight='250um'),\n",
    "        pin_inputs=Dict(\n",
    "            start_pin=Dict(component='otg6s', pin='open'),\n",
    "            end_pin=Dict(component='Q6', pin='readout_line')), ))\n",
    "\n",
    "gui.rebuild()"
   ]
  },
  {
   "cell_type": "code",
   "execution_count": null,
   "metadata": {
    "scrolled": true
   },
   "outputs": [],
   "source": [
    "otg2 = OpenToGround(design, 'otg2s', options=dict(chip='main', pos_x='-37.733um',  pos_y='-0.2mm', orientation='270'))\n",
    "rt_meander = RouteMeander(design, 'cavity2',  Dict(meander=Dict(spacing='200um'),\n",
    "        total_length='9.6mm',\n",
    "        hfss_wire_bonds = True,\n",
    "        fillet='99um',\n",
    "        lead = dict(start_straight='250um'),\n",
    "        pin_inputs=Dict(\n",
    "            start_pin=Dict(component='otg2s', pin='open'),\n",
    "            end_pin=Dict(component='Q2', pin='readout_line')), ))\n",
    "\n",
    "gui.rebuild()"
   ]
  },
  {
   "cell_type": "code",
   "execution_count": null,
   "metadata": {},
   "outputs": [],
   "source": [
    "otg5 = OpenToGround(design, 'otg5s', options=dict(chip='main', pos_x='37.733um',  pos_y='-0.1mm', orientation='90'))\n",
    "rt_meander = RouteMeander(design, 'cavity5',  Dict(meander=Dict(spacing='200um'),\n",
    "        total_length='10.4mm',\n",
    "        hfss_wire_bonds = True,\n",
    "        fillet='99um',\n",
    "        lead = dict(start_straight='250um'),\n",
    "        pin_inputs=Dict(\n",
    "            start_pin=Dict(component='otg5s', pin='open'),\n",
    "            end_pin=Dict(component='Q5', pin='readout_line')), ))\n",
    "\n",
    "gui.rebuild()"
   ]
  },
  {
   "cell_type": "code",
   "execution_count": null,
   "metadata": {},
   "outputs": [],
   "source": [
    "otg3 = OpenToGround(design, 'otg3s', options=dict(chip='main', pos_x='-37.733um',  pos_y='2.6mm', orientation='270'))\n",
    "rt_meander = RouteMeander(design, 'cavity3',  Dict(meander=Dict(spacing='200um'),\n",
    "        total_length='11.2mm',\n",
    "        hfss_wire_bonds = True,\n",
    "        fillet='99um',\n",
    "        lead = dict(start_straight='250um'),\n",
    "        pin_inputs=Dict(\n",
    "            start_pin=Dict(component='otg3s', pin='open'),\n",
    "            end_pin=Dict(component='Q3', pin='readout_line')), ))\n",
    "\n",
    "gui.rebuild()"
   ]
  },
  {
   "cell_type": "code",
   "execution_count": null,
   "metadata": {
    "scrolled": true
   },
   "outputs": [],
   "source": [
    "otg4 = OpenToGround(design, 'otg4s', options=dict(chip='main', pos_x='37.733um',  pos_y='2.6mm', orientation='90'))\n",
    "rt_meander = RouteMeander(design, 'cavity4',  Dict(meander=Dict(spacing='200um'),\n",
    "        total_length='11.6mm',\n",
    "        hfss_wire_bonds = True,\n",
    "        fillet='99um',\n",
    "        lead = dict(start_straight='250um'),\n",
    "        pin_inputs=Dict(\n",
    "            start_pin=Dict(component='otg4s', pin='open'),\n",
    "            end_pin=Dict(component='Q4', pin='readout_line')), ))\n",
    "\n",
    "\n",
    "gui.rebuild()\n",
    "gui.autoscale()"
   ]
  },
  {
   "cell_type": "code",
   "execution_count": null,
   "metadata": {
    "scrolled": true
   },
   "outputs": [],
   "source": [
    "# Charge Line and Flux Bias Line for Q1\n",
    "XYCharge_LineQ1 = RoutePathfinder(design, 'XY_Gate1', \n",
    "        options = dict(chip='main', fillet='99um',\n",
    "            lead=dict(start_straight='150um', end_straight='600um', \n",
    "                     ),\n",
    "            pin_inputs=Dict(start_pin=Dict(component='Q1', pin='charge_line'),\n",
    "                            end_pin=Dict(component='LPCL1', pin='tie')\n",
    "                                            )))\n",
    "\n",
    "gui.rebuild()"
   ]
  },
  {
   "cell_type": "code",
   "execution_count": null,
   "metadata": {},
   "outputs": [],
   "source": [
    "# Charge Line and Flux Bias Line for Q1\n",
    "ZFluxBias_LineQ1 = RoutePathfinder(design, 'Z_Gate1', \n",
    "        options = dict(chip='main', fillet='99um',\n",
    "            lead=dict(start_straight='200um', \n",
    "        end_straight='400um'),\n",
    "        pin_inputs=Dict(start_pin=Dict(component='Q1', \n",
    "              pin='flux_bias_line'),\n",
    "          end_pin=Dict(component='LPFB1', pin='tie')\n",
    "                                   )))\n",
    "\n",
    "gui.rebuild()"
   ]
  },
  {
   "cell_type": "code",
   "execution_count": null,
   "metadata": {},
   "outputs": [],
   "source": [
    "# Charge Lıne and Flux Bias Line for Q2\n",
    "XYCharge_LineQ2 = RoutePathfinder(design, 'XY_Gate2', options = dict(chip='main',\n",
    "                        fillet='80um',\n",
    "                lead=dict(start_straight='150um', end_straight='850um'),\n",
    "                pin_inputs=Dict(start_pin=Dict(component='Q2', pin='charge_line'),\n",
    "                                    end_pin=Dict(component='LPCL2',pin='tie')\n",
    "                                            )))\n",
    "\n",
    "gui.rebuild()"
   ]
  },
  {
   "cell_type": "code",
   "execution_count": null,
   "metadata": {
    "scrolled": true
   },
   "outputs": [],
   "source": [
    "# Charge Lıne and Flux Bias Line for Q2\n",
    "ZFluxBias_LineQ2 = RoutePathfinder(design, 'Z_Gate2', options = dict(chip='main',\n",
    "             fillet='99um',\n",
    "          lead=dict(start_straight='250um', end_straight='250um'),\n",
    "        pin_inputs=Dict(start_pin=Dict(component='Q2', pin='flux_bias_line'),\n",
    "                            end_pin=Dict(component='LPFB2',pin='tie')\n",
    "                                            )))\n",
    "\n",
    "gui.rebuild()"
   ]
  },
  {
   "cell_type": "code",
   "execution_count": null,
   "metadata": {},
   "outputs": [],
   "source": [
    "# Charge Lıne and Flux Bias Line for Q3\n",
    "XYCharge_LineQ3 = RoutePathfinder(design, 'XY_Gate3', options = dict(chip='main',\n",
    "                         fillet='99um',\n",
    "       lead=dict(start_straight='250um', end_straight='200um'), \n",
    "            pin_inputs=Dict(start_pin=Dict(component='Q3', pin='charge_line'),\n",
    "                    end_pin=Dict(component='LPCL3', pin='tie')\n",
    "                                            )))\n",
    "gui.rebuild()"
   ]
  },
  {
   "cell_type": "code",
   "execution_count": null,
   "metadata": {},
   "outputs": [],
   "source": [
    "# Charge Lıne and Flux Bias Line for Q3\n",
    "ZFluxBias_LineQ3 = RoutePathfinder(design, 'Z_Gate3', options = dict(chip='main',\n",
    "                fillet='99um',\n",
    "           lead=dict(start_straight='100um', end_straight='200um'),\n",
    "            pin_inputs=Dict(start_pin=Dict(component='Q3', pin='flux_bias_line'),\n",
    "                end_pin=Dict(component='LPFB3', pin='tie')\n",
    "                                            )))\n",
    "\n",
    "gui.rebuild()"
   ]
  },
  {
   "cell_type": "code",
   "execution_count": null,
   "metadata": {},
   "outputs": [],
   "source": [
    "# Charge Lıne and Flux Bias Line for Q6\n",
    "XYCharge_LineQ6 = RoutePathfinder(design, 'XY_Gate6', \n",
    "        options = dict(chip='main', fillet='99um',\n",
    "        lead=dict(start_straight='100um', end_straight='250um'),\n",
    "    pin_inputs=Dict(start_pin=Dict(component='Q6', pin='charge_line'),\n",
    "    end_pin=Dict(component='LPCL6', pin='tie')\n",
    "                                            )))\n",
    "\n",
    "gui.rebuild()"
   ]
  },
  {
   "cell_type": "code",
   "execution_count": null,
   "metadata": {},
   "outputs": [],
   "source": [
    "# Charge Lıne and Flux Bias Line for Q6\n",
    "ZFluxBias_LineQ6 = RoutePathfinder(design, 'Z_Gate6', \n",
    "        options = dict(chip='main', fillet='99um',\n",
    "            lead=dict(start_straight='350um', end_straight='350um'),\n",
    "        pin_inputs=Dict(start_pin=Dict(component='Q6', \n",
    "              pin='flux_bias_line'),\n",
    "          end_pin=Dict(component='LPFB6', pin='tie')\n",
    "                                   )))\n",
    "\n",
    "gui.rebuild()"
   ]
  },
  {
   "cell_type": "code",
   "execution_count": null,
   "metadata": {},
   "outputs": [],
   "source": [
    "# Charge Lıne and Flux Bias Line for Q5\n",
    "XYCharge_LineQ5 = RoutePathfinder(design, 'XY_Gate5', options = dict(chip='main',\n",
    "                          fillet='99um',\n",
    "            lead=dict(start_straight='150um', end_straight='850um'),\n",
    "                    pin_inputs=Dict(start_pin=Dict(component='Q5',pin='charge_line'),\n",
    "                    end_pin=Dict(component='LPCL5', pin='tie')\n",
    "                                            )))\n",
    "\n",
    "gui.rebuild()"
   ]
  },
  {
   "cell_type": "code",
   "execution_count": null,
   "metadata": {},
   "outputs": [],
   "source": [
    "# Charge Line and Flux Bias Line for Q5\n",
    "ZFluxBias_LineQ5 = RoutePathfinder(design, 'Z_Gate5', options = dict(chip='main',\n",
    "                        fillet='99um',\n",
    "            lead=dict(start_straight='200um', end_straight='450um'),\n",
    "                pin_inputs=Dict(start_pin=Dict(component='Q5', pin='flux_bias_line'),\n",
    "                            end_pin=Dict(component='LPFB5', pin='tie')\n",
    "                                            )))\n",
    "gui.rebuild()"
   ]
  },
  {
   "cell_type": "code",
   "execution_count": null,
   "metadata": {},
   "outputs": [],
   "source": [
    "# Charge Line and Flux Bias Line for Q4\n",
    "XYCharge_LineQ4 = RoutePathfinder(design, 'XY_Gate4', options = dict(chip='main',\n",
    "                    fillet='99um',\n",
    "                    lead=dict(start_straight='200um', end_straight='550um'),pin_inputs=Dict(\n",
    "                        start_pin=Dict(component='Q4', pin='charge_line'),\n",
    "                            end_pin=Dict(component='LPCL4', pin='tie')\n",
    "                                            )))\n",
    "gui.rebuild()"
   ]
  },
  {
   "cell_type": "code",
   "execution_count": null,
   "metadata": {},
   "outputs": [],
   "source": [
    "# Charge Lıne and Flux Bias Line for Q4\n",
    "ZFluxBias_LineQ4 = RoutePathfinder(design, 'Z_Gate4', options = dict(chip='main',\n",
    "                            fillet='99um',\n",
    "                    lead=dict(start_straight='150um', end_straight='200um'), pin_inputs=Dict(\n",
    "                            start_pin=Dict(component='Q4',\n",
    "                                pin='flux_bias_line'),\n",
    "                                end_pin=Dict(component='LPFB4',\n",
    "                                        pin='tie')\n",
    "                                            )))\n",
    "gui.rebuild()"
   ]
  },
  {
   "cell_type": "code",
   "execution_count": null,
   "metadata": {},
   "outputs": [],
   "source": [
    "q1 #print Q1 information"
   ]
  },
  {
   "cell_type": "code",
   "execution_count": null,
   "metadata": {
    "scrolled": true
   },
   "outputs": [],
   "source": [
    "#Save screenshot as a .png formatted file.\n",
    "gui.screenshot()"
   ]
  },
  {
   "cell_type": "code",
   "execution_count": null,
   "metadata": {},
   "outputs": [],
   "source": [
    "gui.main_window.close()"
   ]
  },
  {
   "cell_type": "markdown",
   "metadata": {},
   "source": [
    "# Finite Element Analysis with EPR\n",
    "# Q2"
   ]
  },
  {
   "cell_type": "code",
   "execution_count": 12,
   "metadata": {},
   "outputs": [],
   "source": [
    "eig_qb = EPRanalysis(design,\"hfss\")"
   ]
  },
  {
   "cell_type": "code",
   "execution_count": 13,
   "metadata": {},
   "outputs": [
    {
     "data": {
      "text/plain": [
       "{'name': 'Setup',\n",
       " 'reuse_selected_design': True,\n",
       " 'reuse_setup': True,\n",
       " 'min_freq_ghz': 1,\n",
       " 'n_modes': 2,\n",
       " 'max_delta_f': 0.1,\n",
       " 'max_passes': 12,\n",
       " 'min_passes': 1,\n",
       " 'min_converged': 1,\n",
       " 'pct_refinement': 30,\n",
       " 'basis_order': 1,\n",
       " 'vars': {'Lj': '32nH', 'Cj': '0 fF', 'Ls': '200nH'}}"
      ]
     },
     "execution_count": 13,
     "metadata": {},
     "output_type": "execute_result"
    }
   ],
   "source": [
    "eig_qb.sim.setup_update(n_modes = 2,\n",
    "                        max_delta_f = 0.1,\n",
    "                        min_freq_ghz = 1,\n",
    "                        max_passes = 12)\n",
    "eig_qb.sim.setup.vars.Lj = '32nH'\n",
    "eig_qb.sim.setup.vars.Ls = q1.options.l_inductance\n",
    "\n",
    "eig_qb.sim.setup"
   ]
  },
  {
   "cell_type": "code",
   "execution_count": 14,
   "metadata": {},
   "outputs": [
    {
     "name": "stderr",
     "output_type": "stream",
     "text": [
      "INFO 02:32PM [connect_project]: Connecting to Ansys Desktop API...\n",
      "INFO 02:32PM [load_ansys_project]: \tOpened Ansys App\n",
      "INFO 02:32PM [load_ansys_project]: \tOpened Ansys Desktop v2020.2.0\n",
      "INFO 02:32PM [load_ansys_project]: \tOpened Ansys Project\n",
      "\tFolder:    C:/Users/figenyilmaz/Documents/Ansoft/\n",
      "\tProject:   Project33\n",
      "INFO 02:32PM [connect_design]: No active design found (or error getting active design).\n",
      "INFO 02:32PM [connect]: \t Connected to project \"Project33\". No design detected\n",
      "INFO 02:32PM [connect_design]: \tOpened active design\n",
      "\tDesign:    FluxoniumEPR_hfss [Solution type: Eigenmode]\n",
      "WARNING 02:32PM [connect_setup]: \tNo design setup detected.\n",
      "WARNING 02:32PM [connect_setup]: \tCreating eigenmode default setup.\n",
      "INFO 02:32PM [get_setup]: \tOpened setup `Setup`  (<class 'pyEPR.ansys.HfssEMSetup'>)\n",
      "INFO 02:32PM [get_setup]: \tOpened setup `Setup`  (<class 'pyEPR.ansys.HfssEMSetup'>)\n",
      "INFO 02:32PM [analyze]: Analyzing setup Setup\n",
      "02:38PM 16s INFO [get_f_convergence]: Saved convergences to C:\\Users\\figenyilmaz\\Desktop\\qiskit-metal\\tutorials_ME\\Figen\\Fluxonium\\hfss_eig_f_convergence.csv\n"
     ]
    }
   ],
   "source": [
    "eig_qb.sim.run(name=\"FluxoniumEPR\", components=['Q1', 'cavity1', 'otg1s'], open_terminations=[], box_plus_buffer = False)"
   ]
  },
  {
   "cell_type": "code",
   "execution_count": 15,
   "metadata": {},
   "outputs": [
    {
     "data": {
      "text/html": [
       "<div>\n",
       "<style scoped>\n",
       "    .dataframe tbody tr th:only-of-type {\n",
       "        vertical-align: middle;\n",
       "    }\n",
       "\n",
       "    .dataframe tbody tr th {\n",
       "        vertical-align: top;\n",
       "    }\n",
       "\n",
       "    .dataframe thead th {\n",
       "        text-align: right;\n",
       "    }\n",
       "</style>\n",
       "<table border=\"1\" class=\"dataframe\">\n",
       "  <thead>\n",
       "    <tr style=\"text-align: right;\">\n",
       "      <th></th>\n",
       "      <th>re(Mode(1)) [g]</th>\n",
       "      <th>re(Mode(2)) [g]</th>\n",
       "    </tr>\n",
       "    <tr>\n",
       "      <th>Pass []</th>\n",
       "      <th></th>\n",
       "      <th></th>\n",
       "    </tr>\n",
       "  </thead>\n",
       "  <tbody>\n",
       "    <tr>\n",
       "      <th>1</th>\n",
       "      <td>3.671441</td>\n",
       "      <td>5.845425</td>\n",
       "    </tr>\n",
       "    <tr>\n",
       "      <th>2</th>\n",
       "      <td>4.661129</td>\n",
       "      <td>7.755758</td>\n",
       "    </tr>\n",
       "    <tr>\n",
       "      <th>3</th>\n",
       "      <td>5.502349</td>\n",
       "      <td>8.817929</td>\n",
       "    </tr>\n",
       "    <tr>\n",
       "      <th>4</th>\n",
       "      <td>6.020297</td>\n",
       "      <td>9.320702</td>\n",
       "    </tr>\n",
       "    <tr>\n",
       "      <th>5</th>\n",
       "      <td>6.215987</td>\n",
       "      <td>9.500582</td>\n",
       "    </tr>\n",
       "    <tr>\n",
       "      <th>6</th>\n",
       "      <td>6.337626</td>\n",
       "      <td>9.653090</td>\n",
       "    </tr>\n",
       "    <tr>\n",
       "      <th>7</th>\n",
       "      <td>6.443790</td>\n",
       "      <td>9.744394</td>\n",
       "    </tr>\n",
       "    <tr>\n",
       "      <th>8</th>\n",
       "      <td>6.482253</td>\n",
       "      <td>9.788284</td>\n",
       "    </tr>\n",
       "    <tr>\n",
       "      <th>9</th>\n",
       "      <td>6.503518</td>\n",
       "      <td>9.827212</td>\n",
       "    </tr>\n",
       "    <tr>\n",
       "      <th>10</th>\n",
       "      <td>6.517010</td>\n",
       "      <td>9.857474</td>\n",
       "    </tr>\n",
       "    <tr>\n",
       "      <th>11</th>\n",
       "      <td>6.525591</td>\n",
       "      <td>9.884966</td>\n",
       "    </tr>\n",
       "    <tr>\n",
       "      <th>12</th>\n",
       "      <td>6.531139</td>\n",
       "      <td>9.916524</td>\n",
       "    </tr>\n",
       "  </tbody>\n",
       "</table>\n",
       "</div>"
      ],
      "text/plain": [
       "         re(Mode(1)) [g]  re(Mode(2)) [g]\n",
       "Pass []                                  \n",
       "1               3.671441         5.845425\n",
       "2               4.661129         7.755758\n",
       "3               5.502349         8.817929\n",
       "4               6.020297         9.320702\n",
       "5               6.215987         9.500582\n",
       "6               6.337626         9.653090\n",
       "7               6.443790         9.744394\n",
       "8               6.482253         9.788284\n",
       "9               6.503518         9.827212\n",
       "10              6.517010         9.857474\n",
       "11              6.525591         9.884966\n",
       "12              6.531139         9.916524"
      ]
     },
     "execution_count": 15,
     "metadata": {},
     "output_type": "execute_result"
    }
   ],
   "source": [
    "eig_qb.sim.convergence_f"
   ]
  },
  {
   "cell_type": "code",
   "execution_count": 16,
   "metadata": {},
   "outputs": [
    {
     "data": {
      "text/plain": [
       "{'junctions': {'jj': {'Lj_variable': 'Lj',\n",
       "   'Cj_variable': 'Cj',\n",
       "   'rect': 'JJ_rect_Lj_Q2_rect_jj',\n",
       "   'line': 'JJ_Lj_Q2_rect_jj_'},\n",
       "  'inductor': {'Lj_variable': 'Ls',\n",
       "   'Cj_variable': 'Cj',\n",
       "   'rect': 'JJ_rect_Lj_Q2_inductor',\n",
       "   'line': 'JJ_Lj_Q2_inductor_'}},\n",
       " 'dissipatives': {'dielectrics_bulk': ['main']},\n",
       " 'cos_trunc': 6,\n",
       " 'fock_trunc': 15,\n",
       " 'sweep_variable': 'Lj',\n",
       " 'flux': 0.0,\n",
       " 'basis': 'HO'}"
      ]
     },
     "execution_count": 16,
     "metadata": {},
     "output_type": "execute_result"
    }
   ],
   "source": [
    "# Add the geometry of the rectangle  and line of the inductor to the list of junctions\n",
    "eig_qb.setup.junctions.jj.rect = 'JJ_rect_Lj_Q2_rect_jj'\n",
    "eig_qb.setup.junctions.jj.line = 'JJ_Lj_Q2_rect_jj_'\n",
    "\n",
    "eig_qb.add_junction(name_junction ='inductor')\n",
    "eig_qb.setup.junctions.inductor.Lj_variable = 'Ls'\n",
    "eig_qb.setup.junctions.inductor.rect = 'JJ_rect_Lj_Q2_inductor'\n",
    "eig_qb.setup.junctions.inductor.line = 'JJ_Lj_Q2_inductor_'\n",
    "# eig_qb.setup.junctions.inductor.is_junction = False\n",
    "\n",
    "# Set up th EPR analysis parameters\n",
    "eig_qb.setup.fock_trunc = 15\n",
    "eig_qb.setup.cos_trunc = 6\n",
    "eig_qb.setup.flux = 0.0\n",
    "\n",
    "eig_qb.setup.basis = 'HO'\n",
    "\n",
    "# eig_qb.setup.sweep_variable = 'flux'   #--- This would be nice to implement to get a sweep over flux bias \n",
    "eig_qb.setup"
   ]
  },
  {
   "cell_type": "code",
   "execution_count": 17,
   "metadata": {},
   "outputs": [
    {
     "ename": "AssertionError",
     "evalue": "pyEPR ProjectInfo user error found 😷:\n                    Seems like for junction `jj` you specified a rect that does not exist\n                    in HFSS by the name: `JJ_rect_Lj_Q2_rect_jj` ",
     "output_type": "error",
     "traceback": [
      "\u001b[1;31m---------------------------------------------------------------------------\u001b[0m",
      "\u001b[1;31mAssertionError\u001b[0m                            Traceback (most recent call last)",
      "Input \u001b[1;32mIn [17]\u001b[0m, in \u001b[0;36m<cell line: 4>\u001b[1;34m()\u001b[0m\n\u001b[0;32m      1\u001b[0m \u001b[38;5;66;03m# eig_qb.run_epr()\u001b[39;00m\n\u001b[0;32m      2\u001b[0m \u001b[38;5;66;03m#### equivalent individual calls\u001b[39;00m\n\u001b[0;32m      3\u001b[0m s \u001b[38;5;241m=\u001b[39m eig_qb\u001b[38;5;241m.\u001b[39msetup\n\u001b[1;32m----> 4\u001b[0m \u001b[43meig_qb\u001b[49m\u001b[38;5;241;43m.\u001b[39;49m\u001b[43mepr_start\u001b[49m\u001b[43m(\u001b[49m\u001b[43m)\u001b[49m\n\u001b[0;32m      5\u001b[0m eig_qb\u001b[38;5;241m.\u001b[39mget_stored_energy()\n\u001b[0;32m      6\u001b[0m eig_qb\u001b[38;5;241m.\u001b[39mrun_analysis()\n",
      "File \u001b[1;32mc:\\users\\figenyilmaz\\documents\\github\\qiskit-metal\\qiskit_metal\\analyses\\quantization\\energy_participation_ratio.py:191\u001b[0m, in \u001b[0;36mEPRanalysis.epr_start\u001b[1;34m(self, no_junctions)\u001b[0m\n\u001b[0;32m    187\u001b[0m system[\u001b[38;5;124m'\u001b[39m\u001b[38;5;124mjunctions\u001b[39m\u001b[38;5;124m'\u001b[39m] \u001b[38;5;241m=\u001b[39m {} \u001b[38;5;28;01mif\u001b[39;00m no_junctions \u001b[38;5;28;01melse\u001b[39;00m {\n\u001b[0;32m    188\u001b[0m     k: \u001b[38;5;28mdict\u001b[39m(v) \u001b[38;5;28;01mfor\u001b[39;00m (k, v) \u001b[38;5;129;01min\u001b[39;00m s\u001b[38;5;241m.\u001b[39mjunctions\u001b[38;5;241m.\u001b[39mitems()\n\u001b[0;32m    189\u001b[0m }\n\u001b[0;32m    190\u001b[0m system[\u001b[38;5;124m'\u001b[39m\u001b[38;5;124mdissipatives\u001b[39m\u001b[38;5;124m'\u001b[39m] \u001b[38;5;241m=\u001b[39m \u001b[38;5;28mdict\u001b[39m(s\u001b[38;5;241m.\u001b[39mdissipatives)\n\u001b[1;32m--> 191\u001b[0m \u001b[38;5;28mself\u001b[39m\u001b[38;5;241m.\u001b[39msim\u001b[38;5;241m.\u001b[39mrenderer\u001b[38;5;241m.\u001b[39mepr_start(\u001b[38;5;241m*\u001b[39m\u001b[38;5;241m*\u001b[39msystem)\n\u001b[0;32m    192\u001b[0m \u001b[38;5;28;01mreturn\u001b[39;00m system\n",
      "File \u001b[1;32mc:\\users\\figenyilmaz\\documents\\github\\qiskit-metal\\qiskit_metal\\renderers\\renderer_ansys\\ansys_renderer.py:1674\u001b[0m, in \u001b[0;36mQAnsysRenderer.epr_start\u001b[1;34m(self, junctions, dissipatives)\u001b[0m\n\u001b[0;32m   1672\u001b[0m         \u001b[38;5;28mself\u001b[39m\u001b[38;5;241m.\u001b[39mpinfo\u001b[38;5;241m.\u001b[39mjunctions[k] \u001b[38;5;241m=\u001b[39m v\n\u001b[0;32m   1673\u001b[0m     \u001b[38;5;66;03m# Check that valid names of variables and objects have been supplied\u001b[39;00m\n\u001b[1;32m-> 1674\u001b[0m     \u001b[38;5;28;43mself\u001b[39;49m\u001b[38;5;241;43m.\u001b[39;49m\u001b[43mpinfo\u001b[49m\u001b[38;5;241;43m.\u001b[39;49m\u001b[43mvalidate_junction_info\u001b[49m\u001b[43m(\u001b[49m\u001b[43m)\u001b[49m\n\u001b[0;32m   1675\u001b[0m \u001b[38;5;28;01mif\u001b[39;00m dissipatives:\n\u001b[0;32m   1676\u001b[0m     \u001b[38;5;28;01mfor\u001b[39;00m k, v \u001b[38;5;129;01min\u001b[39;00m dissipatives\u001b[38;5;241m.\u001b[39mitems():\n",
      "File \u001b[1;32m~\\Anaconda3\\envs\\qiskit-metal\\lib\\site-packages\\pyEPR\\project_info.py:481\u001b[0m, in \u001b[0;36mProjectInfo.validate_junction_info\u001b[1;34m(self)\u001b[0m\n\u001b[0;32m    473\u001b[0m \u001b[38;5;28;01massert\u001b[39;00m jj[\u001b[38;5;124m'\u001b[39m\u001b[38;5;124mLj_variable\u001b[39m\u001b[38;5;124m'\u001b[39m] \u001b[38;5;129;01min\u001b[39;00m all_variables_names,\\\n\u001b[0;32m    474\u001b[0m     \u001b[38;5;124;03m\"\"\"pyEPR ProjectInfo user error found \\N{face with medical mask}:\u001b[39;00m\n\u001b[0;32m    475\u001b[0m \u001b[38;5;124;03m    Seems like for junction `%s` you specified a design or project\u001b[39;00m\n\u001b[0;32m    476\u001b[0m \u001b[38;5;124;03m    variable for `Lj_variable` that does not exist in HFSS by the name:\u001b[39;00m\n\u001b[0;32m    477\u001b[0m \u001b[38;5;124;03m     `%s` \"\"\"\u001b[39;00m \u001b[38;5;241m%\u001b[39m (jjnm, jj[\u001b[38;5;124m'\u001b[39m\u001b[38;5;124mLj_variable\u001b[39m\u001b[38;5;124m'\u001b[39m])\n\u001b[0;32m    479\u001b[0m \u001b[38;5;28;01mfor\u001b[39;00m name \u001b[38;5;129;01min\u001b[39;00m [\u001b[38;5;124m'\u001b[39m\u001b[38;5;124mrect\u001b[39m\u001b[38;5;124m'\u001b[39m, \u001b[38;5;124m'\u001b[39m\u001b[38;5;124mline\u001b[39m\u001b[38;5;124m'\u001b[39m]:\n\u001b[1;32m--> 481\u001b[0m     \u001b[38;5;28;01massert\u001b[39;00m jj[name] \u001b[38;5;129;01min\u001b[39;00m all_object_names, \\\n\u001b[0;32m    482\u001b[0m         \u001b[38;5;124;03m\"\"\"pyEPR ProjectInfo user error found \\N{face with medical mask}:\u001b[39;00m\n\u001b[0;32m    483\u001b[0m \u001b[38;5;124;03m        Seems like for junction `%s` you specified a %s that does not exist\u001b[39;00m\n\u001b[0;32m    484\u001b[0m \u001b[38;5;124;03m        in HFSS by the name: `%s` \"\"\"\u001b[39;00m \u001b[38;5;241m%\u001b[39m (jjnm, name, jj[name])\n",
      "\u001b[1;31mAssertionError\u001b[0m: pyEPR ProjectInfo user error found 😷:\n                    Seems like for junction `jj` you specified a rect that does not exist\n                    in HFSS by the name: `JJ_rect_Lj_Q2_rect_jj` "
     ]
    }
   ],
   "source": [
    "# eig_qb.run_epr()\n",
    "#### equivalent individual calls\n",
    "s = eig_qb.setup\n",
    "eig_qb.epr_start()\n",
    "eig_qb.get_stored_energy()\n",
    "eig_qb.run_analysis()"
   ]
  },
  {
   "cell_type": "code",
   "execution_count": null,
   "metadata": {},
   "outputs": [],
   "source": [
    "eig_qb.spectrum_analysis(s.cos_trunc, s.fock_trunc, basis=s.basis, flux=s.flux, junctions=[0])\n",
    "eig_qb.report_hamiltonian(s.sweep_variable)"
   ]
  },
  {
   "cell_type": "markdown",
   "metadata": {},
   "source": [
    "# Loop over flux Q2"
   ]
  },
  {
   "cell_type": "code",
   "execution_count": null,
   "metadata": {},
   "outputs": [],
   "source": [
    "from IPython.display import clear_output\n",
    "chis = []\n",
    "freq_q = []\n",
    "freq_r = []\n",
    "phis = np.linspace(0,1,301)\n",
    "for phi in phis:\n",
    "    eig_qb.setup.flux = phi\n",
    "    s = eig_qb.setup\n",
    "    eig_qb.spectrum_analysis(s.cos_trunc, s.fock_trunc, basis=s.basis, flux=s.flux, junctions=[0])\n",
    "    a = eig_qb.sim.renderer.epr_quantum_analysis.get_frequencies()\n",
    "    freq_q.append(a['0'][1])\n",
    "    freq_r.append(a['0'][0])\n",
    "    b = eig_qb.sim.renderer.epr_quantum_analysis.get_chis()\n",
    "    chi = -b[0][1]\n",
    "    chis.append(chi)\n",
    "    clear_output()"
   ]
  },
  {
   "cell_type": "code",
   "execution_count": null,
   "metadata": {},
   "outputs": [],
   "source": [
    "%matplotlib inline"
   ]
  },
  {
   "cell_type": "code",
   "execution_count": null,
   "metadata": {},
   "outputs": [],
   "source": [
    "plt.plot(phis,np.array(freq_r)/1000)\n",
    "plt.plot(phis,np.array(freq_q)/1000)\n",
    "plt.xlabel(r'Flux, $\\phi/\\pi$')\n",
    "plt.ylabel('frequencies, f (GHz)')\n",
    "plt.ylim(0,10)"
   ]
  },
  {
   "cell_type": "code",
   "execution_count": null,
   "metadata": {},
   "outputs": [],
   "source": [
    "plt.plot(phis,chis)\n",
    "plt.xlabel(r'Flux, $\\phi/\\pi$')\n",
    "plt.ylabel(r'Dispersive shift, $\\chi$ (MHz)')"
   ]
  },
  {
   "cell_type": "code",
   "execution_count": null,
   "metadata": {},
   "outputs": [],
   "source": [
    "# Finite Element Analysis with EPR\n",
    "# Q3"
   ]
  },
  {
   "cell_type": "code",
   "execution_count": null,
   "metadata": {},
   "outputs": [],
   "source": [
    "eig_qb.sim.setup_update(n_modes = 2,\n",
    "                        max_delta_f = 0.1,\n",
    "                        min_freq_ghz = 1,\n",
    "                        max_passes = 12)\n",
    "eig_qb.sim.setup.vars.Lj = '32nH'\n",
    "eig_qb.sim.setup.vars.Ls = q1.options.l_inductance\n",
    "\n",
    "eig_qb.sim.setup"
   ]
  },
  {
   "cell_type": "code",
   "execution_count": null,
   "metadata": {},
   "outputs": [],
   "source": [
    "eig_qb.sim.run(name=\"FluxoniumEPR\", components=['Q3', 'cavity3', 'otg3s'], open_terminations=[], box_plus_buffer = False)"
   ]
  },
  {
   "cell_type": "code",
   "execution_count": null,
   "metadata": {},
   "outputs": [],
   "source": [
    "eig_qb.sim.convergence_f"
   ]
  },
  {
   "cell_type": "code",
   "execution_count": null,
   "metadata": {},
   "outputs": [],
   "source": [
    "# Add the geometry of the rectangle  and line of the inductor to the list of junctions\n",
    "eig_qb.setup.junctions.jj.rect = 'JJ_rect_Lj_Q3_rect_jj'\n",
    "eig_qb.setup.junctions.jj.line = 'JJ_Lj_Q3_rect_jj_'\n",
    "\n",
    "eig_qb.add_junction(name_junction ='inductor')\n",
    "eig_qb.setup.junctions.inductor.Lj_variable = 'Ls'\n",
    "eig_qb.setup.junctions.inductor.rect = 'JJ_rect_Lj_Q3_inductor'\n",
    "eig_qb.setup.junctions.inductor.line = 'JJ_Lj_Q3_inductor_'\n",
    "# eig_qb.setup.junctions.inductor.is_junction = False\n",
    "\n",
    "# Set up th EPR analysis parameters\n",
    "eig_qb.setup.fock_trunc = 15\n",
    "eig_qb.setup.cos_trunc = 6\n",
    "eig_qb.setup.flux = 0.0\n",
    "\n",
    "eig_qb.setup.basis = 'HO'\n",
    "\n",
    "# eig_qb.setup.sweep_variable = 'flux'   #--- This would be nice to implement to get a sweep over flux bias \n",
    "eig_qb.setup"
   ]
  },
  {
   "cell_type": "code",
   "execution_count": null,
   "metadata": {},
   "outputs": [],
   "source": [
    "# eig_qb.run_epr()\n",
    "#### equivalent individual calls\n",
    "s = eig_qb.setup\n",
    "eig_qb.epr_start()\n",
    "eig_qb.get_stored_energy()\n",
    "eig_qb.run_analysis()"
   ]
  },
  {
   "cell_type": "code",
   "execution_count": null,
   "metadata": {},
   "outputs": [],
   "source": [
    "eig_qb.spectrum_analysis(s.cos_trunc, s.fock_trunc, basis=s.basis, flux=s.flux, junctions=[0])\n",
    "eig_qb.report_hamiltonian(s.sweep_variable)"
   ]
  },
  {
   "cell_type": "markdown",
   "metadata": {},
   "source": [
    "# Loop over flux Q3"
   ]
  },
  {
   "cell_type": "code",
   "execution_count": null,
   "metadata": {},
   "outputs": [],
   "source": [
    "from IPython.display import clear_output\n",
    "chis = []\n",
    "freq_q = []\n",
    "freq_r = []\n",
    "phis = np.linspace(0,1,301)\n",
    "for phi in phis:\n",
    "    eig_qb.setup.flux = phi\n",
    "    s = eig_qb.setup\n",
    "    eig_qb.spectrum_analysis(s.cos_trunc, s.fock_trunc, basis=s.basis, flux=s.flux, junctions=[0])\n",
    "    a = eig_qb.sim.renderer.epr_quantum_analysis.get_frequencies()\n",
    "    freq_q.append(a['0'][1])\n",
    "    freq_r.append(a['0'][0])\n",
    "    b = eig_qb.sim.renderer.epr_quantum_analysis.get_chis()\n",
    "    chi = -b[0][1]\n",
    "    chis.append(chi)\n",
    "    clear_output()"
   ]
  },
  {
   "cell_type": "code",
   "execution_count": null,
   "metadata": {},
   "outputs": [],
   "source": [
    "%matplotlib inline"
   ]
  },
  {
   "cell_type": "code",
   "execution_count": null,
   "metadata": {},
   "outputs": [],
   "source": [
    "plt.plot(phis,np.array(freq_r)/1000)\n",
    "plt.plot(phis,np.array(freq_q)/1000)\n",
    "plt.xlabel(r'Flux, $\\phi/\\pi$')\n",
    "plt.ylabel('frequencies, f (GHz)')\n",
    "plt.ylim(0,10)"
   ]
  },
  {
   "cell_type": "code",
   "execution_count": null,
   "metadata": {},
   "outputs": [],
   "source": [
    "plt.plot(phis,chis)\n",
    "plt.xlabel(r'Flux, $\\phi/\\pi$')\n",
    "plt.ylabel(r'Dispersive shift, $\\chi$ (MHz)')"
   ]
  },
  {
   "cell_type": "code",
   "execution_count": null,
   "metadata": {},
   "outputs": [],
   "source": [
    "gui.screenshot()"
   ]
  },
  {
   "cell_type": "markdown",
   "metadata": {},
   "source": [
    "# Finite Element Analysis with EPR\n",
    "# Q4"
   ]
  },
  {
   "cell_type": "code",
   "execution_count": null,
   "metadata": {},
   "outputs": [],
   "source": [
    "eig_qb.sim.setup_update(n_modes = 2,\n",
    "                        max_delta_f = 0.1,\n",
    "                        min_freq_ghz = 1,\n",
    "                        max_passes = 12)\n",
    "eig_qb.sim.setup.vars.Lj = '32nH'\n",
    "eig_qb.sim.setup.vars.Ls = q1.options.l_inductance\n",
    "\n",
    "eig_qb.sim.setup"
   ]
  },
  {
   "cell_type": "code",
   "execution_count": null,
   "metadata": {},
   "outputs": [],
   "source": [
    "eig_qb.sim.run(name=\"FluxoniumEPR\", components=['Q4', 'cavity4', 'otg4s'], open_terminations=[], box_plus_buffer = False)"
   ]
  },
  {
   "cell_type": "code",
   "execution_count": null,
   "metadata": {},
   "outputs": [],
   "source": [
    "eig_qb.sim.convergence_f"
   ]
  },
  {
   "cell_type": "code",
   "execution_count": null,
   "metadata": {},
   "outputs": [],
   "source": [
    "# Add the geometry of the rectangle  and line of the inductor to the list of junctions\n",
    "eig_qb.setup.junctions.jj.rect = 'JJ_rect_Lj_Q4_rect_jj'\n",
    "eig_qb.setup.junctions.jj.line = 'JJ_Lj_Q4_rect_jj_'\n",
    "\n",
    "eig_qb.add_junction(name_junction ='inductor')\n",
    "eig_qb.setup.junctions.inductor.Lj_variable = 'Ls'\n",
    "eig_qb.setup.junctions.inductor.rect = 'JJ_rect_Lj_Q4_inductor'\n",
    "eig_qb.setup.junctions.inductor.line = 'JJ_Lj_Q4_inductor_'\n",
    "# eig_qb.setup.junctions.inductor.is_junction = False\n",
    "\n",
    "# Set up th EPR analysis parameters\n",
    "eig_qb.setup.fock_trunc = 15\n",
    "eig_qb.setup.cos_trunc = 6\n",
    "eig_qb.setup.flux = 0.0\n",
    "\n",
    "eig_qb.setup.basis = 'HO'\n",
    "\n",
    "# eig_qb.setup.sweep_variable = 'flux'   #--- This would be nice to implement to get a sweep over flux bias \n",
    "eig_qb.setup"
   ]
  },
  {
   "cell_type": "code",
   "execution_count": null,
   "metadata": {},
   "outputs": [],
   "source": [
    "# eig_qb.run_epr()\n",
    "#### equivalent individual calls\n",
    "s = eig_qb.setup\n",
    "eig_qb.epr_start()\n",
    "eig_qb.get_stored_energy()\n",
    "eig_qb.run_analysis()"
   ]
  },
  {
   "cell_type": "code",
   "execution_count": null,
   "metadata": {},
   "outputs": [],
   "source": [
    "eig_qb.spectrum_analysis(s.cos_trunc, s.fock_trunc, basis=s.basis, flux=s.flux, junctions=[0])\n",
    "eig_qb.report_hamiltonian(s.sweep_variable)"
   ]
  },
  {
   "cell_type": "markdown",
   "metadata": {},
   "source": [
    "# Loop over flux Q4"
   ]
  },
  {
   "cell_type": "code",
   "execution_count": null,
   "metadata": {},
   "outputs": [],
   "source": [
    "from IPython.display import clear_output\n",
    "chis = []\n",
    "freq_q = []\n",
    "freq_r = []\n",
    "phis = np.linspace(0,1,301)\n",
    "for phi in phis:\n",
    "    eig_qb.setup.flux = phi\n",
    "    s = eig_qb.setup\n",
    "    eig_qb.spectrum_analysis(s.cos_trunc, s.fock_trunc, basis=s.basis, flux=s.flux, junctions=[0])\n",
    "    a = eig_qb.sim.renderer.epr_quantum_analysis.get_frequencies()\n",
    "    freq_q.append(a['0'][1])\n",
    "    freq_r.append(a['0'][0])\n",
    "    b = eig_qb.sim.renderer.epr_quantum_analysis.get_chis()\n",
    "    chi = -b[0][1]\n",
    "    chis.append(chi)\n",
    "    clear_output()"
   ]
  },
  {
   "cell_type": "code",
   "execution_count": null,
   "metadata": {},
   "outputs": [],
   "source": [
    "%matplotlib inline"
   ]
  },
  {
   "cell_type": "code",
   "execution_count": null,
   "metadata": {},
   "outputs": [],
   "source": [
    "plt.plot(phis,np.array(freq_r)/1000)\n",
    "plt.plot(phis,np.array(freq_q)/1000)\n",
    "plt.xlabel(r'Flux, $\\phi/\\pi$')\n",
    "plt.ylabel('frequencies, f (GHz)')\n",
    "plt.ylim(0,10)"
   ]
  },
  {
   "cell_type": "code",
   "execution_count": null,
   "metadata": {},
   "outputs": [],
   "source": [
    "plt.plot(phis,chis)\n",
    "plt.xlabel(r'Flux, $\\phi/\\pi$')\n",
    "plt.ylabel(r'Dispersive shift, $\\chi$ (MHz)')"
   ]
  },
  {
   "cell_type": "code",
   "execution_count": null,
   "metadata": {},
   "outputs": [],
   "source": [
    "#Save screenshot as a .png formatted file.\n",
    "gui.screenshot()"
   ]
  },
  {
   "cell_type": "markdown",
   "metadata": {},
   "source": [
    "# Finite Element Analysis with EPR\n",
    "# Q5"
   ]
  },
  {
   "cell_type": "code",
   "execution_count": null,
   "metadata": {},
   "outputs": [],
   "source": [
    "eig_qb.sim.setup_update(n_modes = 2,\n",
    "                        max_delta_f = 0.1,\n",
    "                        min_freq_ghz = 1,\n",
    "                        max_passes = 12)\n",
    "eig_qb.sim.setup.vars.Lj = '32nH'\n",
    "eig_qb.sim.setup.vars.Ls = q1.options.l_inductance\n",
    "\n",
    "eig_qb.sim.setup"
   ]
  },
  {
   "cell_type": "code",
   "execution_count": null,
   "metadata": {},
   "outputs": [],
   "source": [
    "eig_qb.sim.run(name=\"FluxoniumEPR\", components=['Q5', 'cavity5', 'otg5s'], open_terminations=[], box_plus_buffer = False)"
   ]
  },
  {
   "cell_type": "code",
   "execution_count": null,
   "metadata": {},
   "outputs": [],
   "source": [
    "eig_qb.sim.convergence_f"
   ]
  },
  {
   "cell_type": "code",
   "execution_count": null,
   "metadata": {},
   "outputs": [],
   "source": [
    "# Add the geometry of the rectangle  and line of the inductor to the list of junctions\n",
    "eig_qb.setup.junctions.jj.rect = 'JJ_rect_Lj_Q5_rect_jj'\n",
    "eig_qb.setup.junctions.jj.line = 'JJ_Lj_Q5_rect_jj_'\n",
    "\n",
    "eig_qb.add_junction(name_junction ='inductor')\n",
    "eig_qb.setup.junctions.inductor.Lj_variable = 'Ls'\n",
    "eig_qb.setup.junctions.inductor.rect = 'JJ_rect_Lj_Q5_inductor'\n",
    "eig_qb.setup.junctions.inductor.line = 'JJ_Lj_Q5_inductor_'\n",
    "# eig_qb.setup.junctions.inductor.is_junction = False\n",
    "\n",
    "# Set up th EPR analysis parameters\n",
    "eig_qb.setup.fock_trunc = 15\n",
    "eig_qb.setup.cos_trunc = 6\n",
    "eig_qb.setup.flux = 0.0\n",
    "\n",
    "eig_qb.setup.basis = 'HO'\n",
    "\n",
    "# eig_qb.setup.sweep_variable = 'flux'   #--- This would be nice to implement to get a sweep over flux bias \n",
    "eig_qb.setup"
   ]
  },
  {
   "cell_type": "code",
   "execution_count": null,
   "metadata": {},
   "outputs": [],
   "source": [
    "# eig_qb.run_epr()\n",
    "#### equivalent individual calls\n",
    "s = eig_qb.setup\n",
    "eig_qb.epr_start()\n",
    "eig_qb.get_stored_energy()\n",
    "eig_qb.run_analysis()"
   ]
  },
  {
   "cell_type": "code",
   "execution_count": null,
   "metadata": {},
   "outputs": [],
   "source": [
    "eig_qb.spectrum_analysis(s.cos_trunc, s.fock_trunc, basis=s.basis, flux=s.flux, junctions=[0])\n",
    "eig_qb.report_hamiltonian(s.sweep_variable)"
   ]
  },
  {
   "cell_type": "markdown",
   "metadata": {},
   "source": [
    "# Loop over flux Q5"
   ]
  },
  {
   "cell_type": "code",
   "execution_count": null,
   "metadata": {},
   "outputs": [],
   "source": [
    "from IPython.display import clear_output\n",
    "chis = []\n",
    "freq_q = []\n",
    "freq_r = []\n",
    "phis = np.linspace(0,1,301)\n",
    "for phi in phis:\n",
    "    eig_qb.setup.flux = phi\n",
    "    s = eig_qb.setup\n",
    "    eig_qb.spectrum_analysis(s.cos_trunc, s.fock_trunc, basis=s.basis, flux=s.flux, junctions=[0])\n",
    "    a = eig_qb.sim.renderer.epr_quantum_analysis.get_frequencies()\n",
    "    freq_q.append(a['0'][1])\n",
    "    freq_r.append(a['0'][0])\n",
    "    b = eig_qb.sim.renderer.epr_quantum_analysis.get_chis()\n",
    "    chi = -b[0][1]\n",
    "    chis.append(chi)\n",
    "    clear_output()"
   ]
  },
  {
   "cell_type": "code",
   "execution_count": null,
   "metadata": {},
   "outputs": [],
   "source": [
    "%matplotlib inline"
   ]
  },
  {
   "cell_type": "code",
   "execution_count": null,
   "metadata": {},
   "outputs": [],
   "source": [
    "plt.plot(phis,np.array(freq_r)/1000)\n",
    "plt.plot(phis,np.array(freq_q)/1000)\n",
    "plt.xlabel(r'Flux, $\\phi/\\pi$')\n",
    "plt.ylabel('frequencies, f (GHz)')\n",
    "plt.ylim(0,10)"
   ]
  },
  {
   "cell_type": "code",
   "execution_count": null,
   "metadata": {},
   "outputs": [],
   "source": [
    "plt.plot(phis,chis)\n",
    "plt.xlabel(r'Flux, $\\phi/\\pi$')\n",
    "plt.ylabel(r'Dispersive shift, $\\chi$ (MHz)')"
   ]
  },
  {
   "cell_type": "code",
   "execution_count": null,
   "metadata": {},
   "outputs": [],
   "source": [
    "#Save screenshot as a .png formatted file.\n",
    "gui.screenshot()"
   ]
  },
  {
   "cell_type": "markdown",
   "metadata": {},
   "source": [
    "# Finite Element Analysis with EPR\n",
    "# Q6"
   ]
  },
  {
   "cell_type": "code",
   "execution_count": null,
   "metadata": {},
   "outputs": [],
   "source": [
    "eig_qb.sim.setup_update(n_modes = 2,\n",
    "                        max_delta_f = 0.1,\n",
    "                        min_freq_ghz = 1,\n",
    "                        max_passes = 12)\n",
    "eig_qb.sim.setup.vars.Lj = '32nH'\n",
    "eig_qb.sim.setup.vars.Ls = q1.options.l_inductance\n",
    "\n",
    "eig_qb.sim.setup"
   ]
  },
  {
   "cell_type": "code",
   "execution_count": null,
   "metadata": {},
   "outputs": [],
   "source": [
    "eig_qb.sim.run(name=\"FluxoniumEPR\", components=['Q6', 'cavity6', 'otg6s'], open_terminations=[], box_plus_buffer = False)"
   ]
  },
  {
   "cell_type": "code",
   "execution_count": null,
   "metadata": {},
   "outputs": [],
   "source": [
    "eig_qb.sim.convergence_f"
   ]
  },
  {
   "cell_type": "code",
   "execution_count": null,
   "metadata": {},
   "outputs": [],
   "source": [
    "# Add the geometry of the rectangle  and line of the inductor to the list of junctions\n",
    "eig_qb.setup.junctions.jj.rect = 'JJ_rect_Lj_Q6_rect_jj'\n",
    "eig_qb.setup.junctions.jj.line = 'JJ_Lj_Q6_rect_jj_'\n",
    "\n",
    "eig_qb.add_junction(name_junction ='inductor')\n",
    "eig_qb.setup.junctions.inductor.Lj_variable = 'Ls'\n",
    "eig_qb.setup.junctions.inductor.rect = 'JJ_rect_Lj_Q6_inductor'\n",
    "eig_qb.setup.junctions.inductor.line = 'JJ_Lj_Q6_inductor_'\n",
    "# eig_qb.setup.junctions.inductor.is_junction = False\n",
    "\n",
    "# Set up th EPR analysis parameters\n",
    "eig_qb.setup.fock_trunc = 15\n",
    "eig_qb.setup.cos_trunc = 6\n",
    "eig_qb.setup.flux = 0.0\n",
    "\n",
    "eig_qb.setup.basis = 'HO'\n",
    "\n",
    "# eig_qb.setup.sweep_variable = 'flux'   #--- This would be nice to implement to get a sweep over flux bias \n",
    "eig_qb.setup"
   ]
  },
  {
   "cell_type": "code",
   "execution_count": null,
   "metadata": {},
   "outputs": [],
   "source": [
    "# eig_qb.run_epr()\n",
    "#### equivalent individual calls\n",
    "s = eig_qb.setup\n",
    "eig_qb.epr_start()\n",
    "eig_qb.get_stored_energy()\n",
    "eig_qb.run_analysis()"
   ]
  },
  {
   "cell_type": "code",
   "execution_count": null,
   "metadata": {},
   "outputs": [],
   "source": [
    "eig_qb.spectrum_analysis(s.cos_trunc, s.fock_trunc, basis=s.basis, flux=s.flux, junctions=[0])\n",
    "eig_qb.report_hamiltonian(s.sweep_variable)"
   ]
  },
  {
   "cell_type": "markdown",
   "metadata": {},
   "source": [
    "# Loop over flux Q6"
   ]
  },
  {
   "cell_type": "code",
   "execution_count": null,
   "metadata": {},
   "outputs": [],
   "source": [
    "from IPython.display import clear_output\n",
    "chis = []\n",
    "freq_q = []\n",
    "freq_r = []\n",
    "phis = np.linspace(0,1,301)\n",
    "for phi in phis:\n",
    "    eig_qb.setup.flux = phi\n",
    "    s = eig_qb.setup\n",
    "    eig_qb.spectrum_analysis(s.cos_trunc, s.fock_trunc, basis=s.basis, flux=s.flux, junctions=[0])\n",
    "    a = eig_qb.sim.renderer.epr_quantum_analysis.get_frequencies()\n",
    "    freq_q.append(a['0'][1])\n",
    "    freq_r.append(a['0'][0])\n",
    "    b = eig_qb.sim.renderer.epr_quantum_analysis.get_chis()\n",
    "    chi = -b[0][1]\n",
    "    chis.append(chi)\n",
    "    clear_output()"
   ]
  },
  {
   "cell_type": "code",
   "execution_count": null,
   "metadata": {},
   "outputs": [],
   "source": [
    "%matplotlib inline"
   ]
  },
  {
   "cell_type": "code",
   "execution_count": null,
   "metadata": {},
   "outputs": [],
   "source": [
    "plt.plot(phis,np.array(freq_r)/1000)\n",
    "plt.plot(phis,np.array(freq_q)/1000)\n",
    "plt.xlabel(r'Flux, $\\phi/\\pi$')\n",
    "plt.ylabel('frequencies, f (GHz)')\n",
    "plt.ylim(0,10)"
   ]
  },
  {
   "cell_type": "code",
   "execution_count": null,
   "metadata": {},
   "outputs": [],
   "source": [
    "plt.plot(phis,chis)\n",
    "plt.xlabel(r'Flux, $\\phi/\\pi$')\n",
    "plt.ylabel(r'Dispersive shift, $\\chi$ (MHz)')"
   ]
  },
  {
   "cell_type": "code",
   "execution_count": null,
   "metadata": {},
   "outputs": [],
   "source": [
    "#Save screenshot as a .png formatted file.\n",
    "gui.screenshot()"
   ]
  },
  {
   "cell_type": "code",
   "execution_count": null,
   "metadata": {},
   "outputs": [],
   "source": [
    "gui.main_window.close()"
   ]
  },
  {
   "cell_type": "code",
   "execution_count": null,
   "metadata": {},
   "outputs": [],
   "source": [
    "hfss.disconnect_ansys()"
   ]
  }
 ],
 "metadata": {
  "kernelspec": {
   "display_name": "Python 3 (ipykernel)",
   "language": "python",
   "name": "python3"
  },
  "language_info": {
   "codemirror_mode": {
    "name": "ipython",
    "version": 3
   },
   "file_extension": ".py",
   "mimetype": "text/x-python",
   "name": "python",
   "nbconvert_exporter": "python",
   "pygments_lexer": "ipython3",
   "version": "3.9.13"
  }
 },
 "nbformat": 4,
 "nbformat_minor": 4
}
