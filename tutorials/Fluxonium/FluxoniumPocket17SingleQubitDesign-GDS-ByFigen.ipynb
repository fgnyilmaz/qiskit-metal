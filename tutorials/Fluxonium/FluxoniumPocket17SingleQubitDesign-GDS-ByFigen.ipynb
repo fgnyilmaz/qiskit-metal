{
 "cells": [
  {
   "cell_type": "markdown",
   "metadata": {},
   "source": [
    "# Fluxonium Design with 17 single qubits GDS \n",
    "\n",
    "### Import Qiskit Metal"
   ]
  },
  {
   "cell_type": "code",
   "execution_count": 1,
   "metadata": {},
   "outputs": [],
   "source": [
    "# For convenience, let's begin by enabling\n",
    "# automatic reloading of modules when they change.\n",
    "%load_ext autoreload\n",
    "%autoreload 2\n",
    "\n",
    "import numpy as np\n",
    "from collections import OrderedDict\n",
    "\n",
    "import qiskit_metal as metal\n",
    "from qiskit_metal import designs, draw\n",
    "from qiskit_metal import MetalGUI, Dict, open_docs\n",
    "import matplotlib.pyplot as plt\n",
    "\n",
    "from qiskit_metal.toolbox_metal import math_and_overrides\n",
    "\n",
    "from qiskit_metal.qlibrary.core import QComponent\n",
    "\n",
    "#from qiskit_metal.qlibrary.tlines.meandered import RouteMeander\n",
    "#from qiskit_metal.qlibrary.tlines.pathfinder import RoutePathfinder\n",
    "#from qiskit_metal.qlibrary.tlines.anchored_path import RouteAnchors\n",
    "\n",
    "from qiskit_metal.qlibrary.qubits.fluxoniumEPR import FluxoniumPocket\n",
    "\n",
    "#from qiskit_metal.qlibrary.terminations.launchpad_wb import LaunchpadWirebond\n",
    "\n",
    "#from qiskit_metal.qlibrary.terminations.open_to_ground_v2 import OpenToGround\n",
    "\n",
    "\n",
    "# from qiskit_metal.qlibrary.qubits.fluxtryH import FluxoniumPocket\n",
    "from qiskit_metal.qlibrary.qubits.fluxoniumEPR import FluxoniumPocket"
   ]
  },
  {
   "cell_type": "markdown",
   "metadata": {},
   "source": [
    "### Create a design (planar) "
   ]
  },
  {
   "cell_type": "code",
   "execution_count": 2,
   "metadata": {},
   "outputs": [],
   "source": [
    "# Each time you create a new quantum circuit design,\n",
    "# you start by instantiating a QDesign class.\n",
    "\n",
    "# The design class `DesignPlanar` is best for 2D circuit designs.\n",
    "design = designs.DesignPlanar()\n",
    "design.chips.main.material = 'silicon'\n",
    "design.variables['cpw_width'] = '15 um'\n",
    "design.variables['cpw_gap'] = '8.733 um'\n",
    "design._chips['main']['size']['size_x'] = '9mm'\n",
    "design._chips['main']['size']['size_y'] = '9mm'\n",
    "\n",
    "# If you disable the next line with \"overwrite_enabled\", then you will need to\n",
    "# delete a component [<component>.delete()] before recreating it.\n",
    "design.overwrite_enabled = True\n",
    "\n",
    "gui = MetalGUI(design)"
   ]
  },
  {
   "cell_type": "markdown",
   "metadata": {},
   "source": [
    "### Create fluxoniunm qubits"
   ]
  },
  {
   "cell_type": "code",
   "execution_count": 22,
   "metadata": {},
   "outputs": [
    {
     "name": "stderr",
     "output_type": "stream",
     "text": [
      "WARNING:py.warnings:C:\\Users\\figenyilmaz\\Anaconda3\\envs\\qiskit-metal\\lib\\site-packages\\shapely\\geometry\\base.py:250: ShapelyDeprecationWarning: Setting the 'coords' to mutate a Geometry in place is deprecated, and will not be possible any more in Shapely 2.0\n",
      "  super().__setattr__(name, value)\n",
      "\n",
      "WARNING:py.warnings:c:\\users\\figenyilmaz\\documents\\github\\qiskit-metal\\qiskit_metal\\qgeometries\\qgeometries_handler.py:528: FutureWarning: The frame.append method is deprecated and will be removed from pandas in a future version. Use pandas.concat instead.\n",
      "  self.tables[kind] = table.append(df, sort=False, ignore_index=True)\n",
      "\n",
      "WARNING:py.warnings:C:\\Users\\figenyilmaz\\Anaconda3\\envs\\qiskit-metal\\lib\\site-packages\\shapely\\geometry\\base.py:250: ShapelyDeprecationWarning: Setting the 'coords' to mutate a Geometry in place is deprecated, and will not be possible any more in Shapely 2.0\n",
      "  super().__setattr__(name, value)\n",
      "\n",
      "WARNING:py.warnings:c:\\users\\figenyilmaz\\documents\\github\\qiskit-metal\\qiskit_metal\\qgeometries\\qgeometries_handler.py:528: FutureWarning: The frame.append method is deprecated and will be removed from pandas in a future version. Use pandas.concat instead.\n",
      "  self.tables[kind] = table.append(df, sort=False, ignore_index=True)\n",
      "\n",
      "WARNING:py.warnings:C:\\Users\\figenyilmaz\\Anaconda3\\envs\\qiskit-metal\\lib\\site-packages\\shapely\\geometry\\base.py:250: ShapelyDeprecationWarning: Setting the 'coords' to mutate a Geometry in place is deprecated, and will not be possible any more in Shapely 2.0\n",
      "  super().__setattr__(name, value)\n",
      "\n",
      "WARNING:py.warnings:c:\\users\\figenyilmaz\\documents\\github\\qiskit-metal\\qiskit_metal\\qgeometries\\qgeometries_handler.py:528: FutureWarning: The frame.append method is deprecated and will be removed from pandas in a future version. Use pandas.concat instead.\n",
      "  self.tables[kind] = table.append(df, sort=False, ignore_index=True)\n",
      "\n",
      "WARNING:py.warnings:C:\\Users\\figenyilmaz\\Anaconda3\\envs\\qiskit-metal\\lib\\site-packages\\shapely\\geometry\\base.py:250: ShapelyDeprecationWarning: Setting the 'coords' to mutate a Geometry in place is deprecated, and will not be possible any more in Shapely 2.0\n",
      "  super().__setattr__(name, value)\n",
      "\n",
      "WARNING:py.warnings:c:\\users\\figenyilmaz\\documents\\github\\qiskit-metal\\qiskit_metal\\qgeometries\\qgeometries_handler.py:528: FutureWarning: The frame.append method is deprecated and will be removed from pandas in a future version. Use pandas.concat instead.\n",
      "  self.tables[kind] = table.append(df, sort=False, ignore_index=True)\n",
      "\n",
      "WARNING:py.warnings:C:\\Users\\figenyilmaz\\Anaconda3\\envs\\qiskit-metal\\lib\\site-packages\\shapely\\geometry\\base.py:250: ShapelyDeprecationWarning: Setting the 'coords' to mutate a Geometry in place is deprecated, and will not be possible any more in Shapely 2.0\n",
      "  super().__setattr__(name, value)\n",
      "\n",
      "WARNING:py.warnings:c:\\users\\figenyilmaz\\documents\\github\\qiskit-metal\\qiskit_metal\\qgeometries\\qgeometries_handler.py:528: FutureWarning: The frame.append method is deprecated and will be removed from pandas in a future version. Use pandas.concat instead.\n",
      "  self.tables[kind] = table.append(df, sort=False, ignore_index=True)\n",
      "\n",
      "WARNING:py.warnings:C:\\Users\\figenyilmaz\\Anaconda3\\envs\\qiskit-metal\\lib\\site-packages\\shapely\\geometry\\base.py:250: ShapelyDeprecationWarning: Setting the 'coords' to mutate a Geometry in place is deprecated, and will not be possible any more in Shapely 2.0\n",
      "  super().__setattr__(name, value)\n",
      "\n",
      "WARNING:py.warnings:c:\\users\\figenyilmaz\\documents\\github\\qiskit-metal\\qiskit_metal\\qgeometries\\qgeometries_handler.py:528: FutureWarning: The frame.append method is deprecated and will be removed from pandas in a future version. Use pandas.concat instead.\n",
      "  self.tables[kind] = table.append(df, sort=False, ignore_index=True)\n",
      "\n",
      "WARNING:py.warnings:C:\\Users\\figenyilmaz\\Anaconda3\\envs\\qiskit-metal\\lib\\site-packages\\shapely\\geometry\\base.py:250: ShapelyDeprecationWarning: Setting the 'coords' to mutate a Geometry in place is deprecated, and will not be possible any more in Shapely 2.0\n",
      "  super().__setattr__(name, value)\n",
      "\n",
      "WARNING:py.warnings:c:\\users\\figenyilmaz\\documents\\github\\qiskit-metal\\qiskit_metal\\qgeometries\\qgeometries_handler.py:528: FutureWarning: The frame.append method is deprecated and will be removed from pandas in a future version. Use pandas.concat instead.\n",
      "  self.tables[kind] = table.append(df, sort=False, ignore_index=True)\n",
      "\n",
      "WARNING:py.warnings:C:\\Users\\figenyilmaz\\Anaconda3\\envs\\qiskit-metal\\lib\\site-packages\\shapely\\geometry\\base.py:250: ShapelyDeprecationWarning: Setting the 'coords' to mutate a Geometry in place is deprecated, and will not be possible any more in Shapely 2.0\n",
      "  super().__setattr__(name, value)\n",
      "\n",
      "WARNING:py.warnings:c:\\users\\figenyilmaz\\documents\\github\\qiskit-metal\\qiskit_metal\\qgeometries\\qgeometries_handler.py:528: FutureWarning: The frame.append method is deprecated and will be removed from pandas in a future version. Use pandas.concat instead.\n",
      "  self.tables[kind] = table.append(df, sort=False, ignore_index=True)\n",
      "\n",
      "WARNING:py.warnings:C:\\Users\\figenyilmaz\\Anaconda3\\envs\\qiskit-metal\\lib\\site-packages\\shapely\\geometry\\base.py:250: ShapelyDeprecationWarning: Setting the 'coords' to mutate a Geometry in place is deprecated, and will not be possible any more in Shapely 2.0\n",
      "  super().__setattr__(name, value)\n",
      "\n",
      "WARNING:py.warnings:c:\\users\\figenyilmaz\\documents\\github\\qiskit-metal\\qiskit_metal\\qgeometries\\qgeometries_handler.py:528: FutureWarning: The frame.append method is deprecated and will be removed from pandas in a future version. Use pandas.concat instead.\n",
      "  self.tables[kind] = table.append(df, sort=False, ignore_index=True)\n",
      "\n",
      "WARNING:py.warnings:C:\\Users\\figenyilmaz\\Anaconda3\\envs\\qiskit-metal\\lib\\site-packages\\shapely\\geometry\\base.py:250: ShapelyDeprecationWarning: Setting the 'coords' to mutate a Geometry in place is deprecated, and will not be possible any more in Shapely 2.0\n",
      "  super().__setattr__(name, value)\n",
      "\n",
      "WARNING:py.warnings:c:\\users\\figenyilmaz\\documents\\github\\qiskit-metal\\qiskit_metal\\qgeometries\\qgeometries_handler.py:528: FutureWarning: The frame.append method is deprecated and will be removed from pandas in a future version. Use pandas.concat instead.\n",
      "  self.tables[kind] = table.append(df, sort=False, ignore_index=True)\n",
      "\n",
      "WARNING:py.warnings:C:\\Users\\figenyilmaz\\Anaconda3\\envs\\qiskit-metal\\lib\\site-packages\\shapely\\geometry\\base.py:250: ShapelyDeprecationWarning: Setting the 'coords' to mutate a Geometry in place is deprecated, and will not be possible any more in Shapely 2.0\n",
      "  super().__setattr__(name, value)\n",
      "\n",
      "WARNING:py.warnings:c:\\users\\figenyilmaz\\documents\\github\\qiskit-metal\\qiskit_metal\\qgeometries\\qgeometries_handler.py:528: FutureWarning: The frame.append method is deprecated and will be removed from pandas in a future version. Use pandas.concat instead.\n",
      "  self.tables[kind] = table.append(df, sort=False, ignore_index=True)\n",
      "\n",
      "WARNING:py.warnings:C:\\Users\\figenyilmaz\\Anaconda3\\envs\\qiskit-metal\\lib\\site-packages\\shapely\\geometry\\base.py:250: ShapelyDeprecationWarning: Setting the 'coords' to mutate a Geometry in place is deprecated, and will not be possible any more in Shapely 2.0\n",
      "  super().__setattr__(name, value)\n",
      "\n",
      "WARNING:py.warnings:c:\\users\\figenyilmaz\\documents\\github\\qiskit-metal\\qiskit_metal\\qgeometries\\qgeometries_handler.py:528: FutureWarning: The frame.append method is deprecated and will be removed from pandas in a future version. Use pandas.concat instead.\n",
      "  self.tables[kind] = table.append(df, sort=False, ignore_index=True)\n",
      "\n",
      "WARNING:py.warnings:C:\\Users\\figenyilmaz\\Anaconda3\\envs\\qiskit-metal\\lib\\site-packages\\shapely\\geometry\\base.py:250: ShapelyDeprecationWarning: Setting the 'coords' to mutate a Geometry in place is deprecated, and will not be possible any more in Shapely 2.0\n",
      "  super().__setattr__(name, value)\n",
      "\n",
      "WARNING:py.warnings:c:\\users\\figenyilmaz\\documents\\github\\qiskit-metal\\qiskit_metal\\qgeometries\\qgeometries_handler.py:528: FutureWarning: The frame.append method is deprecated and will be removed from pandas in a future version. Use pandas.concat instead.\n",
      "  self.tables[kind] = table.append(df, sort=False, ignore_index=True)\n",
      "\n",
      "WARNING:py.warnings:C:\\Users\\figenyilmaz\\Anaconda3\\envs\\qiskit-metal\\lib\\site-packages\\shapely\\geometry\\base.py:250: ShapelyDeprecationWarning: Setting the 'coords' to mutate a Geometry in place is deprecated, and will not be possible any more in Shapely 2.0\n",
      "  super().__setattr__(name, value)\n",
      "\n"
     ]
    },
    {
     "name": "stderr",
     "output_type": "stream",
     "text": [
      "WARNING:py.warnings:c:\\users\\figenyilmaz\\documents\\github\\qiskit-metal\\qiskit_metal\\qgeometries\\qgeometries_handler.py:528: FutureWarning: The frame.append method is deprecated and will be removed from pandas in a future version. Use pandas.concat instead.\n",
      "  self.tables[kind] = table.append(df, sort=False, ignore_index=True)\n",
      "\n",
      "WARNING:py.warnings:C:\\Users\\figenyilmaz\\Anaconda3\\envs\\qiskit-metal\\lib\\site-packages\\shapely\\geometry\\base.py:250: ShapelyDeprecationWarning: Setting the 'coords' to mutate a Geometry in place is deprecated, and will not be possible any more in Shapely 2.0\n",
      "  super().__setattr__(name, value)\n",
      "\n",
      "WARNING:py.warnings:c:\\users\\figenyilmaz\\documents\\github\\qiskit-metal\\qiskit_metal\\qgeometries\\qgeometries_handler.py:528: FutureWarning: The frame.append method is deprecated and will be removed from pandas in a future version. Use pandas.concat instead.\n",
      "  self.tables[kind] = table.append(df, sort=False, ignore_index=True)\n",
      "\n",
      "WARNING:py.warnings:C:\\Users\\figenyilmaz\\Anaconda3\\envs\\qiskit-metal\\lib\\site-packages\\shapely\\geometry\\base.py:250: ShapelyDeprecationWarning: Setting the 'coords' to mutate a Geometry in place is deprecated, and will not be possible any more in Shapely 2.0\n",
      "  super().__setattr__(name, value)\n",
      "\n",
      "WARNING:py.warnings:c:\\users\\figenyilmaz\\documents\\github\\qiskit-metal\\qiskit_metal\\qgeometries\\qgeometries_handler.py:528: FutureWarning: The frame.append method is deprecated and will be removed from pandas in a future version. Use pandas.concat instead.\n",
      "  self.tables[kind] = table.append(df, sort=False, ignore_index=True)\n",
      "\n",
      "WARNING:py.warnings:C:\\Users\\figenyilmaz\\Anaconda3\\envs\\qiskit-metal\\lib\\site-packages\\shapely\\geometry\\base.py:250: ShapelyDeprecationWarning: Setting the 'coords' to mutate a Geometry in place is deprecated, and will not be possible any more in Shapely 2.0\n",
      "  super().__setattr__(name, value)\n",
      "\n",
      "WARNING:py.warnings:c:\\users\\figenyilmaz\\documents\\github\\qiskit-metal\\qiskit_metal\\qgeometries\\qgeometries_handler.py:528: FutureWarning: The frame.append method is deprecated and will be removed from pandas in a future version. Use pandas.concat instead.\n",
      "  self.tables[kind] = table.append(df, sort=False, ignore_index=True)\n",
      "\n",
      "WARNING:py.warnings:C:\\Users\\figenyilmaz\\Anaconda3\\envs\\qiskit-metal\\lib\\site-packages\\shapely\\geometry\\base.py:250: ShapelyDeprecationWarning: Setting the 'coords' to mutate a Geometry in place is deprecated, and will not be possible any more in Shapely 2.0\n",
      "  super().__setattr__(name, value)\n",
      "\n",
      "WARNING:py.warnings:c:\\users\\figenyilmaz\\documents\\github\\qiskit-metal\\qiskit_metal\\qgeometries\\qgeometries_handler.py:528: FutureWarning: The frame.append method is deprecated and will be removed from pandas in a future version. Use pandas.concat instead.\n",
      "  self.tables[kind] = table.append(df, sort=False, ignore_index=True)\n",
      "\n",
      "WARNING:py.warnings:C:\\Users\\figenyilmaz\\Anaconda3\\envs\\qiskit-metal\\lib\\site-packages\\shapely\\geometry\\base.py:250: ShapelyDeprecationWarning: Setting the 'coords' to mutate a Geometry in place is deprecated, and will not be possible any more in Shapely 2.0\n",
      "  super().__setattr__(name, value)\n",
      "\n",
      "WARNING:py.warnings:c:\\users\\figenyilmaz\\documents\\github\\qiskit-metal\\qiskit_metal\\qgeometries\\qgeometries_handler.py:528: FutureWarning: The frame.append method is deprecated and will be removed from pandas in a future version. Use pandas.concat instead.\n",
      "  self.tables[kind] = table.append(df, sort=False, ignore_index=True)\n",
      "\n",
      "WARNING:py.warnings:C:\\Users\\figenyilmaz\\Anaconda3\\envs\\qiskit-metal\\lib\\site-packages\\shapely\\geometry\\base.py:250: ShapelyDeprecationWarning: Setting the 'coords' to mutate a Geometry in place is deprecated, and will not be possible any more in Shapely 2.0\n",
      "  super().__setattr__(name, value)\n",
      "\n",
      "WARNING:py.warnings:c:\\users\\figenyilmaz\\documents\\github\\qiskit-metal\\qiskit_metal\\qgeometries\\qgeometries_handler.py:528: FutureWarning: The frame.append method is deprecated and will be removed from pandas in a future version. Use pandas.concat instead.\n",
      "  self.tables[kind] = table.append(df, sort=False, ignore_index=True)\n",
      "\n",
      "WARNING:py.warnings:C:\\Users\\figenyilmaz\\Anaconda3\\envs\\qiskit-metal\\lib\\site-packages\\shapely\\geometry\\base.py:250: ShapelyDeprecationWarning: Setting the 'coords' to mutate a Geometry in place is deprecated, and will not be possible any more in Shapely 2.0\n",
      "  super().__setattr__(name, value)\n",
      "\n",
      "WARNING:py.warnings:c:\\users\\figenyilmaz\\documents\\github\\qiskit-metal\\qiskit_metal\\qgeometries\\qgeometries_handler.py:528: FutureWarning: The frame.append method is deprecated and will be removed from pandas in a future version. Use pandas.concat instead.\n",
      "  self.tables[kind] = table.append(df, sort=False, ignore_index=True)\n",
      "\n",
      "WARNING:py.warnings:C:\\Users\\figenyilmaz\\Anaconda3\\envs\\qiskit-metal\\lib\\site-packages\\shapely\\geometry\\base.py:250: ShapelyDeprecationWarning: Setting the 'coords' to mutate a Geometry in place is deprecated, and will not be possible any more in Shapely 2.0\n",
      "  super().__setattr__(name, value)\n",
      "\n",
      "WARNING:py.warnings:c:\\users\\figenyilmaz\\documents\\github\\qiskit-metal\\qiskit_metal\\qgeometries\\qgeometries_handler.py:528: FutureWarning: The frame.append method is deprecated and will be removed from pandas in a future version. Use pandas.concat instead.\n",
      "  self.tables[kind] = table.append(df, sort=False, ignore_index=True)\n",
      "\n",
      "WARNING:py.warnings:C:\\Users\\figenyilmaz\\Anaconda3\\envs\\qiskit-metal\\lib\\site-packages\\shapely\\geometry\\base.py:250: ShapelyDeprecationWarning: Setting the 'coords' to mutate a Geometry in place is deprecated, and will not be possible any more in Shapely 2.0\n",
      "  super().__setattr__(name, value)\n",
      "\n",
      "WARNING:py.warnings:c:\\users\\figenyilmaz\\documents\\github\\qiskit-metal\\qiskit_metal\\qgeometries\\qgeometries_handler.py:528: FutureWarning: The frame.append method is deprecated and will be removed from pandas in a future version. Use pandas.concat instead.\n",
      "  self.tables[kind] = table.append(df, sort=False, ignore_index=True)\n",
      "\n",
      "WARNING:py.warnings:C:\\Users\\figenyilmaz\\Anaconda3\\envs\\qiskit-metal\\lib\\site-packages\\shapely\\geometry\\base.py:250: ShapelyDeprecationWarning: Setting the 'coords' to mutate a Geometry in place is deprecated, and will not be possible any more in Shapely 2.0\n",
      "  super().__setattr__(name, value)\n",
      "\n",
      "WARNING:py.warnings:c:\\users\\figenyilmaz\\documents\\github\\qiskit-metal\\qiskit_metal\\qgeometries\\qgeometries_handler.py:528: FutureWarning: The frame.append method is deprecated and will be removed from pandas in a future version. Use pandas.concat instead.\n",
      "  self.tables[kind] = table.append(df, sort=False, ignore_index=True)\n",
      "\n",
      "WARNING:py.warnings:C:\\Users\\figenyilmaz\\Anaconda3\\envs\\qiskit-metal\\lib\\site-packages\\shapely\\geometry\\base.py:250: ShapelyDeprecationWarning: Setting the 'coords' to mutate a Geometry in place is deprecated, and will not be possible any more in Shapely 2.0\n",
      "  super().__setattr__(name, value)\n",
      "\n",
      "WARNING:py.warnings:c:\\users\\figenyilmaz\\documents\\github\\qiskit-metal\\qiskit_metal\\qgeometries\\qgeometries_handler.py:528: FutureWarning: The frame.append method is deprecated and will be removed from pandas in a future version. Use pandas.concat instead.\n",
      "  self.tables[kind] = table.append(df, sort=False, ignore_index=True)\n",
      "\n",
      "WARNING:py.warnings:C:\\Users\\figenyilmaz\\Anaconda3\\envs\\qiskit-metal\\lib\\site-packages\\shapely\\geometry\\base.py:250: ShapelyDeprecationWarning: Setting the 'coords' to mutate a Geometry in place is deprecated, and will not be possible any more in Shapely 2.0\n",
      "  super().__setattr__(name, value)\n",
      "\n",
      "WARNING:py.warnings:c:\\users\\figenyilmaz\\documents\\github\\qiskit-metal\\qiskit_metal\\qgeometries\\qgeometries_handler.py:528: FutureWarning: The frame.append method is deprecated and will be removed from pandas in a future version. Use pandas.concat instead.\n",
      "  self.tables[kind] = table.append(df, sort=False, ignore_index=True)\n",
      "\n",
      "WARNING:py.warnings:C:\\Users\\figenyilmaz\\Anaconda3\\envs\\qiskit-metal\\lib\\site-packages\\shapely\\geometry\\base.py:250: ShapelyDeprecationWarning: Setting the 'coords' to mutate a Geometry in place is deprecated, and will not be possible any more in Shapely 2.0\n",
      "  super().__setattr__(name, value)\n",
      "\n",
      "WARNING:py.warnings:c:\\users\\figenyilmaz\\documents\\github\\qiskit-metal\\qiskit_metal\\qgeometries\\qgeometries_handler.py:528: FutureWarning: The frame.append method is deprecated and will be removed from pandas in a future version. Use pandas.concat instead.\n",
      "  self.tables[kind] = table.append(df, sort=False, ignore_index=True)\n",
      "\n"
     ]
    },
    {
     "name": "stderr",
     "output_type": "stream",
     "text": [
      "WARNING:py.warnings:C:\\Users\\figenyilmaz\\Anaconda3\\envs\\qiskit-metal\\lib\\site-packages\\shapely\\geometry\\base.py:250: ShapelyDeprecationWarning: Setting the 'coords' to mutate a Geometry in place is deprecated, and will not be possible any more in Shapely 2.0\n",
      "  super().__setattr__(name, value)\n",
      "\n",
      "WARNING:py.warnings:c:\\users\\figenyilmaz\\documents\\github\\qiskit-metal\\qiskit_metal\\qgeometries\\qgeometries_handler.py:528: FutureWarning: The frame.append method is deprecated and will be removed from pandas in a future version. Use pandas.concat instead.\n",
      "  self.tables[kind] = table.append(df, sort=False, ignore_index=True)\n",
      "\n",
      "WARNING:py.warnings:C:\\Users\\figenyilmaz\\Anaconda3\\envs\\qiskit-metal\\lib\\site-packages\\shapely\\geometry\\base.py:250: ShapelyDeprecationWarning: Setting the 'coords' to mutate a Geometry in place is deprecated, and will not be possible any more in Shapely 2.0\n",
      "  super().__setattr__(name, value)\n",
      "\n",
      "WARNING:py.warnings:c:\\users\\figenyilmaz\\documents\\github\\qiskit-metal\\qiskit_metal\\qgeometries\\qgeometries_handler.py:528: FutureWarning: The frame.append method is deprecated and will be removed from pandas in a future version. Use pandas.concat instead.\n",
      "  self.tables[kind] = table.append(df, sort=False, ignore_index=True)\n",
      "\n",
      "WARNING:py.warnings:C:\\Users\\figenyilmaz\\Anaconda3\\envs\\qiskit-metal\\lib\\site-packages\\shapely\\geometry\\base.py:250: ShapelyDeprecationWarning: Setting the 'coords' to mutate a Geometry in place is deprecated, and will not be possible any more in Shapely 2.0\n",
      "  super().__setattr__(name, value)\n",
      "\n",
      "WARNING:py.warnings:c:\\users\\figenyilmaz\\documents\\github\\qiskit-metal\\qiskit_metal\\qgeometries\\qgeometries_handler.py:528: FutureWarning: The frame.append method is deprecated and will be removed from pandas in a future version. Use pandas.concat instead.\n",
      "  self.tables[kind] = table.append(df, sort=False, ignore_index=True)\n",
      "\n",
      "WARNING:py.warnings:C:\\Users\\figenyilmaz\\Anaconda3\\envs\\qiskit-metal\\lib\\site-packages\\shapely\\geometry\\base.py:250: ShapelyDeprecationWarning: Setting the 'coords' to mutate a Geometry in place is deprecated, and will not be possible any more in Shapely 2.0\n",
      "  super().__setattr__(name, value)\n",
      "\n",
      "WARNING:py.warnings:c:\\users\\figenyilmaz\\documents\\github\\qiskit-metal\\qiskit_metal\\qgeometries\\qgeometries_handler.py:528: FutureWarning: The frame.append method is deprecated and will be removed from pandas in a future version. Use pandas.concat instead.\n",
      "  self.tables[kind] = table.append(df, sort=False, ignore_index=True)\n",
      "\n",
      "WARNING:py.warnings:C:\\Users\\figenyilmaz\\Anaconda3\\envs\\qiskit-metal\\lib\\site-packages\\shapely\\geometry\\base.py:250: ShapelyDeprecationWarning: Setting the 'coords' to mutate a Geometry in place is deprecated, and will not be possible any more in Shapely 2.0\n",
      "  super().__setattr__(name, value)\n",
      "\n",
      "WARNING:py.warnings:c:\\users\\figenyilmaz\\documents\\github\\qiskit-metal\\qiskit_metal\\qgeometries\\qgeometries_handler.py:528: FutureWarning: The frame.append method is deprecated and will be removed from pandas in a future version. Use pandas.concat instead.\n",
      "  self.tables[kind] = table.append(df, sort=False, ignore_index=True)\n",
      "\n",
      "WARNING:py.warnings:C:\\Users\\figenyilmaz\\Anaconda3\\envs\\qiskit-metal\\lib\\site-packages\\shapely\\geometry\\base.py:250: ShapelyDeprecationWarning: Setting the 'coords' to mutate a Geometry in place is deprecated, and will not be possible any more in Shapely 2.0\n",
      "  super().__setattr__(name, value)\n",
      "\n",
      "WARNING:py.warnings:c:\\users\\figenyilmaz\\documents\\github\\qiskit-metal\\qiskit_metal\\qgeometries\\qgeometries_handler.py:528: FutureWarning: The frame.append method is deprecated and will be removed from pandas in a future version. Use pandas.concat instead.\n",
      "  self.tables[kind] = table.append(df, sort=False, ignore_index=True)\n",
      "\n",
      "WARNING:py.warnings:C:\\Users\\figenyilmaz\\Anaconda3\\envs\\qiskit-metal\\lib\\site-packages\\shapely\\geometry\\base.py:250: ShapelyDeprecationWarning: Setting the 'coords' to mutate a Geometry in place is deprecated, and will not be possible any more in Shapely 2.0\n",
      "  super().__setattr__(name, value)\n",
      "\n",
      "WARNING:py.warnings:c:\\users\\figenyilmaz\\documents\\github\\qiskit-metal\\qiskit_metal\\qgeometries\\qgeometries_handler.py:528: FutureWarning: The frame.append method is deprecated and will be removed from pandas in a future version. Use pandas.concat instead.\n",
      "  self.tables[kind] = table.append(df, sort=False, ignore_index=True)\n",
      "\n",
      "WARNING:py.warnings:C:\\Users\\figenyilmaz\\Anaconda3\\envs\\qiskit-metal\\lib\\site-packages\\shapely\\geometry\\base.py:250: ShapelyDeprecationWarning: Setting the 'coords' to mutate a Geometry in place is deprecated, and will not be possible any more in Shapely 2.0\n",
      "  super().__setattr__(name, value)\n",
      "\n",
      "WARNING:py.warnings:c:\\users\\figenyilmaz\\documents\\github\\qiskit-metal\\qiskit_metal\\qgeometries\\qgeometries_handler.py:528: FutureWarning: The frame.append method is deprecated and will be removed from pandas in a future version. Use pandas.concat instead.\n",
      "  self.tables[kind] = table.append(df, sort=False, ignore_index=True)\n",
      "\n",
      "WARNING:py.warnings:C:\\Users\\figenyilmaz\\Anaconda3\\envs\\qiskit-metal\\lib\\site-packages\\shapely\\geometry\\base.py:250: ShapelyDeprecationWarning: Setting the 'coords' to mutate a Geometry in place is deprecated, and will not be possible any more in Shapely 2.0\n",
      "  super().__setattr__(name, value)\n",
      "\n",
      "WARNING:py.warnings:c:\\users\\figenyilmaz\\documents\\github\\qiskit-metal\\qiskit_metal\\qgeometries\\qgeometries_handler.py:528: FutureWarning: The frame.append method is deprecated and will be removed from pandas in a future version. Use pandas.concat instead.\n",
      "  self.tables[kind] = table.append(df, sort=False, ignore_index=True)\n",
      "\n",
      "WARNING:py.warnings:C:\\Users\\figenyilmaz\\Anaconda3\\envs\\qiskit-metal\\lib\\site-packages\\shapely\\geometry\\base.py:250: ShapelyDeprecationWarning: Setting the 'coords' to mutate a Geometry in place is deprecated, and will not be possible any more in Shapely 2.0\n",
      "  super().__setattr__(name, value)\n",
      "\n",
      "WARNING:py.warnings:c:\\users\\figenyilmaz\\documents\\github\\qiskit-metal\\qiskit_metal\\qgeometries\\qgeometries_handler.py:528: FutureWarning: The frame.append method is deprecated and will be removed from pandas in a future version. Use pandas.concat instead.\n",
      "  self.tables[kind] = table.append(df, sort=False, ignore_index=True)\n",
      "\n",
      "WARNING:py.warnings:C:\\Users\\figenyilmaz\\Anaconda3\\envs\\qiskit-metal\\lib\\site-packages\\shapely\\geometry\\base.py:250: ShapelyDeprecationWarning: Setting the 'coords' to mutate a Geometry in place is deprecated, and will not be possible any more in Shapely 2.0\n",
      "  super().__setattr__(name, value)\n",
      "\n",
      "WARNING:py.warnings:c:\\users\\figenyilmaz\\documents\\github\\qiskit-metal\\qiskit_metal\\qgeometries\\qgeometries_handler.py:528: FutureWarning: The frame.append method is deprecated and will be removed from pandas in a future version. Use pandas.concat instead.\n",
      "  self.tables[kind] = table.append(df, sort=False, ignore_index=True)\n",
      "\n",
      "WARNING:py.warnings:C:\\Users\\figenyilmaz\\Anaconda3\\envs\\qiskit-metal\\lib\\site-packages\\shapely\\geometry\\base.py:250: ShapelyDeprecationWarning: Setting the 'coords' to mutate a Geometry in place is deprecated, and will not be possible any more in Shapely 2.0\n",
      "  super().__setattr__(name, value)\n",
      "\n",
      "WARNING:py.warnings:c:\\users\\figenyilmaz\\documents\\github\\qiskit-metal\\qiskit_metal\\qgeometries\\qgeometries_handler.py:528: FutureWarning: The frame.append method is deprecated and will be removed from pandas in a future version. Use pandas.concat instead.\n",
      "  self.tables[kind] = table.append(df, sort=False, ignore_index=True)\n",
      "\n",
      "WARNING:py.warnings:C:\\Users\\figenyilmaz\\Anaconda3\\envs\\qiskit-metal\\lib\\site-packages\\shapely\\geometry\\base.py:250: ShapelyDeprecationWarning: Setting the 'coords' to mutate a Geometry in place is deprecated, and will not be possible any more in Shapely 2.0\n",
      "  super().__setattr__(name, value)\n",
      "\n",
      "WARNING:py.warnings:c:\\users\\figenyilmaz\\documents\\github\\qiskit-metal\\qiskit_metal\\qgeometries\\qgeometries_handler.py:528: FutureWarning: The frame.append method is deprecated and will be removed from pandas in a future version. Use pandas.concat instead.\n",
      "  self.tables[kind] = table.append(df, sort=False, ignore_index=True)\n",
      "\n",
      "WARNING:py.warnings:C:\\Users\\figenyilmaz\\Anaconda3\\envs\\qiskit-metal\\lib\\site-packages\\shapely\\geometry\\base.py:250: ShapelyDeprecationWarning: Setting the 'coords' to mutate a Geometry in place is deprecated, and will not be possible any more in Shapely 2.0\n",
      "  super().__setattr__(name, value)\n",
      "\n"
     ]
    },
    {
     "name": "stderr",
     "output_type": "stream",
     "text": [
      "WARNING:py.warnings:c:\\users\\figenyilmaz\\documents\\github\\qiskit-metal\\qiskit_metal\\qgeometries\\qgeometries_handler.py:528: FutureWarning: The frame.append method is deprecated and will be removed from pandas in a future version. Use pandas.concat instead.\n",
      "  self.tables[kind] = table.append(df, sort=False, ignore_index=True)\n",
      "\n",
      "WARNING:py.warnings:C:\\Users\\figenyilmaz\\Anaconda3\\envs\\qiskit-metal\\lib\\site-packages\\shapely\\geometry\\base.py:250: ShapelyDeprecationWarning: Setting the 'coords' to mutate a Geometry in place is deprecated, and will not be possible any more in Shapely 2.0\n",
      "  super().__setattr__(name, value)\n",
      "\n",
      "WARNING:py.warnings:c:\\users\\figenyilmaz\\documents\\github\\qiskit-metal\\qiskit_metal\\qgeometries\\qgeometries_handler.py:528: FutureWarning: The frame.append method is deprecated and will be removed from pandas in a future version. Use pandas.concat instead.\n",
      "  self.tables[kind] = table.append(df, sort=False, ignore_index=True)\n",
      "\n",
      "WARNING:py.warnings:C:\\Users\\figenyilmaz\\Anaconda3\\envs\\qiskit-metal\\lib\\site-packages\\shapely\\geometry\\base.py:250: ShapelyDeprecationWarning: Setting the 'coords' to mutate a Geometry in place is deprecated, and will not be possible any more in Shapely 2.0\n",
      "  super().__setattr__(name, value)\n",
      "\n",
      "WARNING:py.warnings:c:\\users\\figenyilmaz\\documents\\github\\qiskit-metal\\qiskit_metal\\qgeometries\\qgeometries_handler.py:528: FutureWarning: The frame.append method is deprecated and will be removed from pandas in a future version. Use pandas.concat instead.\n",
      "  self.tables[kind] = table.append(df, sort=False, ignore_index=True)\n",
      "\n",
      "WARNING:py.warnings:C:\\Users\\figenyilmaz\\Anaconda3\\envs\\qiskit-metal\\lib\\site-packages\\shapely\\geometry\\base.py:250: ShapelyDeprecationWarning: Setting the 'coords' to mutate a Geometry in place is deprecated, and will not be possible any more in Shapely 2.0\n",
      "  super().__setattr__(name, value)\n",
      "\n",
      "WARNING:py.warnings:c:\\users\\figenyilmaz\\documents\\github\\qiskit-metal\\qiskit_metal\\qgeometries\\qgeometries_handler.py:528: FutureWarning: The frame.append method is deprecated and will be removed from pandas in a future version. Use pandas.concat instead.\n",
      "  self.tables[kind] = table.append(df, sort=False, ignore_index=True)\n",
      "\n",
      "WARNING:py.warnings:C:\\Users\\figenyilmaz\\Anaconda3\\envs\\qiskit-metal\\lib\\site-packages\\shapely\\geometry\\base.py:250: ShapelyDeprecationWarning: Setting the 'coords' to mutate a Geometry in place is deprecated, and will not be possible any more in Shapely 2.0\n",
      "  super().__setattr__(name, value)\n",
      "\n",
      "WARNING:py.warnings:c:\\users\\figenyilmaz\\documents\\github\\qiskit-metal\\qiskit_metal\\qgeometries\\qgeometries_handler.py:528: FutureWarning: The frame.append method is deprecated and will be removed from pandas in a future version. Use pandas.concat instead.\n",
      "  self.tables[kind] = table.append(df, sort=False, ignore_index=True)\n",
      "\n",
      "WARNING:py.warnings:C:\\Users\\figenyilmaz\\Anaconda3\\envs\\qiskit-metal\\lib\\site-packages\\shapely\\geometry\\base.py:250: ShapelyDeprecationWarning: Setting the 'coords' to mutate a Geometry in place is deprecated, and will not be possible any more in Shapely 2.0\n",
      "  super().__setattr__(name, value)\n",
      "\n",
      "WARNING:py.warnings:c:\\users\\figenyilmaz\\documents\\github\\qiskit-metal\\qiskit_metal\\qgeometries\\qgeometries_handler.py:528: FutureWarning: The frame.append method is deprecated and will be removed from pandas in a future version. Use pandas.concat instead.\n",
      "  self.tables[kind] = table.append(df, sort=False, ignore_index=True)\n",
      "\n",
      "WARNING:py.warnings:C:\\Users\\figenyilmaz\\Anaconda3\\envs\\qiskit-metal\\lib\\site-packages\\shapely\\geometry\\base.py:250: ShapelyDeprecationWarning: Setting the 'coords' to mutate a Geometry in place is deprecated, and will not be possible any more in Shapely 2.0\n",
      "  super().__setattr__(name, value)\n",
      "\n",
      "WARNING:py.warnings:c:\\users\\figenyilmaz\\documents\\github\\qiskit-metal\\qiskit_metal\\qgeometries\\qgeometries_handler.py:528: FutureWarning: The frame.append method is deprecated and will be removed from pandas in a future version. Use pandas.concat instead.\n",
      "  self.tables[kind] = table.append(df, sort=False, ignore_index=True)\n",
      "\n",
      "WARNING:py.warnings:C:\\Users\\figenyilmaz\\Anaconda3\\envs\\qiskit-metal\\lib\\site-packages\\shapely\\geometry\\base.py:250: ShapelyDeprecationWarning: Setting the 'coords' to mutate a Geometry in place is deprecated, and will not be possible any more in Shapely 2.0\n",
      "  super().__setattr__(name, value)\n",
      "\n",
      "WARNING:py.warnings:c:\\users\\figenyilmaz\\documents\\github\\qiskit-metal\\qiskit_metal\\qgeometries\\qgeometries_handler.py:528: FutureWarning: The frame.append method is deprecated and will be removed from pandas in a future version. Use pandas.concat instead.\n",
      "  self.tables[kind] = table.append(df, sort=False, ignore_index=True)\n",
      "\n",
      "WARNING:py.warnings:C:\\Users\\figenyilmaz\\Anaconda3\\envs\\qiskit-metal\\lib\\site-packages\\descartes\\patch.py:62: ShapelyDeprecationWarning: The array interface is deprecated and will no longer work in Shapely 2.0. Convert the '.coords' to a numpy array instead.\n",
      "  vertices = concatenate([\n",
      "\n",
      "WARNING:py.warnings:C:\\Users\\figenyilmaz\\Anaconda3\\envs\\qiskit-metal\\lib\\site-packages\\descartes\\patch.py:62: ShapelyDeprecationWarning: The array interface is deprecated and will no longer work in Shapely 2.0. Convert the '.coords' to a numpy array instead.\n",
      "  vertices = concatenate([\n",
      "\n",
      "WARNING:py.warnings:C:\\Users\\figenyilmaz\\Anaconda3\\envs\\qiskit-metal\\lib\\site-packages\\descartes\\patch.py:62: ShapelyDeprecationWarning: The array interface is deprecated and will no longer work in Shapely 2.0. Convert the '.coords' to a numpy array instead.\n",
      "  vertices = concatenate([\n",
      "\n",
      "WARNING:py.warnings:C:\\Users\\figenyilmaz\\Anaconda3\\envs\\qiskit-metal\\lib\\site-packages\\descartes\\patch.py:62: ShapelyDeprecationWarning: The array interface is deprecated and will no longer work in Shapely 2.0. Convert the '.coords' to a numpy array instead.\n",
      "  vertices = concatenate([\n",
      "\n"
     ]
    }
   ],
   "source": [
    "from qiskit_metal.qlibrary.qubits.fluxoniumEPR import FluxoniumPocket\n",
    "\n",
    "# Q1 details\n",
    "junction_cell_name = 'junction_1'\n",
    "options = dict(chip='main', nanowire = True,\n",
    "    orientation =90, pos_x = '-1.8mm', pos_y = '-1.8mm',\n",
    "               gds_cell_name=junction_cell_name,\n",
    "            )\n",
    "               \n",
    "q1 = FluxoniumPocket(design,'Q1', options = dict(\n",
    "      #  hfss_inductance = '10nH',\n",
    "      #  q3d_inductance = '10nH',\n",
    "        **options))\n",
    "\n",
    "# Q6 details\n",
    "junction_cell_name = 'junction_6'\n",
    "options = dict(chip='main', nanowire = True,\n",
    "    orientation =90, pos_x = '1.8mm', pos_y = '-1.8mm',\n",
    "        gds_cell_name=junction_cell_name,\n",
    "                )\n",
    "               \n",
    "q6 = FluxoniumPocket(design,'Q6', options = dict(\n",
    "      #  hfss_inductance = '10nH',\n",
    "      #  q3d_inductance = '10nH',\n",
    "        **options))\n",
    "\n",
    "\n",
    "# Q2 details\n",
    "junction_cell_name = 'junction_2'\n",
    "options = dict(chip='main', nanowire = True,\n",
    "    orientation =90, pos_x = '-2.0mm', pos_y = '0.7mm',\n",
    "        \n",
    "        gds_cell_name=junction_cell_name,\n",
    "                )\n",
    "               \n",
    "q2 = FluxoniumPocket(design,'Q2', options = dict(\n",
    "      #  hfss_inductance = '10nH',\n",
    "      #  q3d_inductance = '10nH',\n",
    "        **options))\n",
    "\n",
    "# Q5 details\n",
    "junction_cell_name = 'junction_5'\n",
    "options = dict(chip='main', nanowire = True,\n",
    "    orientation =90, pos_x = '2.0mm', pos_y = '0.8mm',\n",
    "        \n",
    "        gds_cell_name=junction_cell_name,\n",
    ")\n",
    "               \n",
    "q5 = FluxoniumPocket(design,'Q5', options = dict(\n",
    "      #  hfss_inductance = '10nH',\n",
    "      #  q3d_inductance = '10nH',\n",
    "        **options))\n",
    "\n",
    "\n",
    "# Q3 details\n",
    "junction_cell_name = 'junction_3'\n",
    "options = dict(chip='main', nanowire = True,\n",
    "    orientation =90, pos_x = '-2.3mm', pos_y = '3.2mm',\n",
    "       \n",
    "            gds_cell_name=junction_cell_name,\n",
    "             )\n",
    "               \n",
    "q3 = FluxoniumPocket(design,'Q3', options = dict(\n",
    "      #  hfss_inductance = '10nH',\n",
    "      #  q3d_inductance = '10nH',\n",
    "        **options))\n",
    "\n",
    "# Q4 details\n",
    "junction_cell_name = 'junction_4'\n",
    "options = dict(chip='main', nanowire = True,\n",
    "    orientation =90, pos_x = '2.4mm', pos_y = '3.2mm',\n",
    "        \n",
    "        gds_cell_name=junction_cell_name,\n",
    "                )\n",
    "               \n",
    "q4 = FluxoniumPocket(design,'Q4', options = dict(\n",
    "      #  hfss_inductance = '10nH',\n",
    "      #  q3d_inductance = '10nH',\n",
    "        **options))\n",
    "\n",
    "gui.rebuild()"
   ]
  },
  {
   "cell_type": "code",
   "execution_count": 23,
   "metadata": {},
   "outputs": [],
   "source": [
    "qubits = [q1, q2, q3, q4, q5, q6]"
   ]
  },
  {
   "cell_type": "code",
   "execution_count": 6,
   "metadata": {
    "scrolled": true
   },
   "outputs": [
    {
     "data": {
      "image/png": "[encoded data removed]",
      "text/plain": [
       "<IPython.core.display.Image object>"
      ]
     },
     "metadata": {
      "image/png": {
       "width": 500
      }
     },
     "output_type": "display_data"
    }
   ],
   "source": [
    "#Save screenshot as a .png formatted file.\n",
    "gui.screenshot()"
   ]
  },
  {
   "cell_type": "code",
   "execution_count": 24,
   "metadata": {},
   "outputs": [
    {
     "data": {
      "text/plain": [
       "\u001b[95m\u001b[1mname:    \u001b[94m\u001b[1mQ1\u001b[0m\n",
       "\u001b[95m\u001b[1mclass:   \u001b[94m\u001b[1mFluxoniumPocket       \u001b[0m\n",
       "\u001b[95m\u001b[1moptions: \u001b[0m\n",
       "  'pos_x'             : '-1.8mm',                     \n",
       "  'pos_y'             : '-1.8mm',                     \n",
       "  'orientation'       : 90,                           \n",
       "  'chip'              : 'main',                       \n",
       "  'layer'             : '1',                          \n",
       "  \u001b[1m'connection_pads'   \u001b[0m: {\n",
       "                        },\n",
       "  'pad_gap'           : '30um',                       \n",
       "  'inductor_width'    : '10um',                       \n",
       "  'pad_width'         : '15um',                       \n",
       "  'pad_height'        : '140um',                      \n",
       "  'pad_radius'        : '80um',                       \n",
       "  'l_width'           : '1um',                        \n",
       "  'array_length'      : '100um',                      \n",
       "  'l_arm_width'       : '2um',                        \n",
       "  'l_arm_length'      : '50um',                       \n",
       "  'l_inductance'      : '200nH',                      \n",
       "  'l_ind_per_square'  : '2nH',                        \n",
       "  'L_j'               : '16.35nH',                    \n",
       "  'pocket_width'      : '800um',                      \n",
       "  'pocket_height'     : '800um',                      \n",
       "  'nanowire_inductor' : 'True',                       \n",
       "  \u001b[1m'flux_bias_line_options'\u001b[0m: {\n",
       "       'make_fbl'          : False,                        \n",
       "       'fbl_sep'           : '100um',                      \n",
       "       'fbl_height'        : '50um',                       \n",
       "       'cpw_width'         : 'cpw_width',                  \n",
       "       'cpw_gap'           : 'cpw_gap',                    \n",
       "                        },\n",
       "  \u001b[1m'charge_line_options'\u001b[0m: {\n",
       "       'make_cl'           : False,                        \n",
       "       'cl_length'         : '100um',                      \n",
       "       'cl_sep'            : '15um',                       \n",
       "       'cpw_width'         : 'cpw_width',                  \n",
       "       'cpw_gap'           : 'cpw_gap',                    \n",
       "       'loc_W'             : '0',                          \n",
       "       'loc_H'             : '+1',                         \n",
       "                        },\n",
       "  \u001b[1m'readout_line_options'\u001b[0m: {\n",
       "       'make_rol'          : False,                        \n",
       "       'pad_sep'           : '100um',                      \n",
       "       'pad_width'         : '150um',                      \n",
       "       'pad_height'        : '50um',                       \n",
       "       'cpw_width'         : 'cpw_width',                  \n",
       "       'cpw_gap'           : 'cpw_gap',                    \n",
       "       'loc_W'             : '0',                          \n",
       "       'loc_H'             : '-1',                         \n",
       "                        },\n",
       "  'hfss_wire_bonds'   : False,                        \n",
       "  'q3d_wire_bonds'    : False,                        \n",
       "  'hfss_inductance'   : '10nH',                       \n",
       "  'hfss_capacitance'  : 0,                            \n",
       "  'hfss_resistance'   : 0,                            \n",
       "  'hfss_mesh_kw_jj'   : 7e-06,                        \n",
       "  'q3d_inductance'    : '10nH',                       \n",
       "  'q3d_capacitance'   : 0,                            \n",
       "  'q3d_resistance'    : 0,                            \n",
       "  'q3d_mesh_kw_jj'    : 7e-06,                        \n",
       "  'gds_cell_name'     : 'junction_1',                 \n",
       "  'nanowire'          : True,                         \n",
       "\u001b[95m\u001b[1mmodule:  \u001b[94m\u001b[1mqiskit_metal.qlibrary.qubits.fluxoniumEPR\u001b[0m\n",
       "\u001b[95m\u001b[1mid:      \u001b[94m\u001b[1m31\u001b[0m"
      ]
     },
     "execution_count": 24,
     "metadata": {},
     "output_type": "execute_result"
    }
   ],
   "source": [
    "q1"
   ]
  },
  {
   "cell_type": "code",
   "execution_count": 76,
   "metadata": {},
   "outputs": [
    {
     "data": {
      "text/plain": [
       "True"
      ]
     },
     "execution_count": 76,
     "metadata": {},
     "output_type": "execute_result"
    }
   ],
   "source": [
    "gui.main_window.close()"
   ]
  },
  {
   "cell_type": "markdown",
   "metadata": {},
   "source": [
    "# GDS"
   ]
  },
  {
   "cell_type": "code",
   "execution_count": 25,
   "metadata": {},
   "outputs": [
    {
     "data": {
      "text/plain": [
       "{'short_segments_to_not_fillet': 'True',\n",
       " 'check_short_segments_by_scaling_fillet': '2.0',\n",
       " 'gds_unit': 0.001,\n",
       " 'ground_plane': 'True',\n",
       " 'negative_mask': {'main': []},\n",
       " 'fabricate': 'False',\n",
       " 'corners': 'circular bend',\n",
       " 'tolerance': '0.00001',\n",
       " 'precision': '0.000000001',\n",
       " 'width_LineString': '10um',\n",
       " 'path_filename': 'fluxonium_junctions.gds',\n",
       " 'junction_pad_overlap': '5um',\n",
       " 'max_points': '199',\n",
       " 'cheese': {'datatype': '100',\n",
       "  'shape': '0',\n",
       "  'cheese_0_x': '25um',\n",
       "  'cheese_0_y': '25um',\n",
       "  'cheese_1_radius': '100um',\n",
       "  'view_in_file': {'main': {1: True}},\n",
       "  'delta_x': '100um',\n",
       "  'delta_y': '100um',\n",
       "  'edge_nocheese': '200um'},\n",
       " 'no_cheese': {'datatype': '99',\n",
       "  'buffer': '25um',\n",
       "  'cap_style': '2',\n",
       "  'join_style': '2',\n",
       "  'view_in_file': {'main': {1: True}}},\n",
       " 'bounding_box_scale_x': '1.2',\n",
       " 'bounding_box_scale_y': '1.2'}"
      ]
     },
     "execution_count": 25,
     "metadata": {},
     "output_type": "execute_result"
    }
   ],
   "source": [
    "fluxonium_gds = design.renderers.gds\n",
    "fluxonium_gds.options"
   ]
  },
  {
   "cell_type": "code",
   "execution_count": 26,
   "metadata": {},
   "outputs": [],
   "source": [
    "fluxonium_gds.options['path_filename'] = 'fluxonium_junctions.gds'\n",
    "fluxonium_gds.options['cheese']['view_in_file'] = {'main': {1: True}}"
   ]
  },
  {
   "cell_type": "code",
   "execution_count": 27,
   "metadata": {},
   "outputs": [
    {
     "name": "stderr",
     "output_type": "stream",
     "text": [
      "WARNING:py.warnings:c:\\users\\figenyilmaz\\documents\\github\\qiskit-metal\\qiskit_metal\\renderers\\renderer_gds\\gds_renderer.py:2172: ShapelyDeprecationWarning: __len__ for multi-part geometries is deprecated and will be removed in Shapely 2.0. Check the length of the `geoms` property instead to get the  number of parts of a multi-part geometry.\n",
      "  all_polys = list(multi_poly)\n",
      "\n",
      "WARNING:py.warnings:c:\\users\\figenyilmaz\\documents\\github\\qiskit-metal\\qiskit_metal\\renderers\\renderer_gds\\gds_renderer.py:2172: ShapelyDeprecationWarning: Iteration over multi-part geometries is deprecated and will be removed in Shapely 2.0. Use the `geoms` property to access the constituent parts of a multi-part geometry.\n",
      "  all_polys = list(multi_poly)\n",
      "\n"
     ]
    },
    {
     "data": {
      "text/plain": [
       "1"
      ]
     },
     "execution_count": 27,
     "metadata": {},
     "output_type": "execute_result"
    }
   ],
   "source": [
    "fluxonium_gds.export_to_gds('FluxoniumPocket17-3.gds')"
   ]
  },
  {
   "cell_type": "code",
   "execution_count": 10,
   "metadata": {},
   "outputs": [
    {
     "data": {
      "text/plain": [
       "{'short_segments_to_not_fillet': 'True',\n",
       " 'check_short_segments_by_scaling_fillet': '2.0',\n",
       " 'gds_unit': 0.001,\n",
       " 'ground_plane': 'True',\n",
       " 'negative_mask': {'main': []},\n",
       " 'fabricate': 'False',\n",
       " 'corners': 'circular bend',\n",
       " 'tolerance': '0.00001',\n",
       " 'precision': '0.000000001',\n",
       " 'width_LineString': '10um',\n",
       " 'path_filename': 'fluxonium_junctions.gds',\n",
       " 'junction_pad_overlap': '5um',\n",
       " 'max_points': '199',\n",
       " 'cheese': {'datatype': '100',\n",
       "  'shape': '0',\n",
       "  'cheese_0_x': '25um',\n",
       "  'cheese_0_y': '25um',\n",
       "  'cheese_1_radius': '100um',\n",
       "  'view_in_file': {'main': {1: True}},\n",
       "  'delta_x': '100um',\n",
       "  'delta_y': '100um',\n",
       "  'edge_nocheese': '200um'},\n",
       " 'no_cheese': {'datatype': '99',\n",
       "  'buffer': '25um',\n",
       "  'cap_style': '2',\n",
       "  'join_style': '2',\n",
       "  'view_in_file': {'main': {1: True}}},\n",
       " 'bounding_box_scale_x': '1.2',\n",
       " 'bounding_box_scale_y': '1.2'}"
      ]
     },
     "execution_count": 10,
     "metadata": {},
     "output_type": "execute_result"
    }
   ],
   "source": [
    "fluxonium_gds.options"
   ]
  },
  {
   "cell_type": "code",
   "execution_count": 11,
   "metadata": {},
   "outputs": [
    {
     "name": "stderr",
     "output_type": "stream",
     "text": [
      "04:56PM 17s WARNING [_check_either_cheese]: layer=3 is not in chip=main either in no_cheese_view_in_file or cheese_view_in_file from self.options.\n"
     ]
    },
    {
     "data": {
      "text/plain": [
       "6"
      ]
     },
     "execution_count": 11,
     "metadata": {},
     "output_type": "execute_result"
    }
   ],
   "source": [
    "fluxonium_gds._check_either_cheese(chip='main', layer=3)"
   ]
  },
  {
   "cell_type": "code",
   "execution_count": 12,
   "metadata": {},
   "outputs": [
    {
     "data": {
      "text/plain": [
       "{'short_segments_to_not_fillet': 'True',\n",
       " 'check_short_segments_by_scaling_fillet': '2.0',\n",
       " 'gds_unit': 0.001,\n",
       " 'ground_plane': 'True',\n",
       " 'negative_mask': {'main': []},\n",
       " 'fabricate': 'False',\n",
       " 'corners': 'circular bend',\n",
       " 'tolerance': '0.00001',\n",
       " 'precision': '0.000000001',\n",
       " 'width_LineString': '10um',\n",
       " 'path_filename': 'fluxonium_junctions.gds',\n",
       " 'junction_pad_overlap': '5um',\n",
       " 'max_points': '199',\n",
       " 'cheese': {'datatype': '100',\n",
       "  'shape': '0',\n",
       "  'cheese_0_x': '25um',\n",
       "  'cheese_0_y': '25um',\n",
       "  'cheese_1_radius': '100um',\n",
       "  'view_in_file': {'main': {1: True}},\n",
       "  'delta_x': '100um',\n",
       "  'delta_y': '100um',\n",
       "  'edge_nocheese': '200um'},\n",
       " 'no_cheese': {'datatype': '99',\n",
       "  'buffer': '25um',\n",
       "  'cap_style': '2',\n",
       "  'join_style': '2',\n",
       "  'view_in_file': {'main': {1: True}}},\n",
       " 'bounding_box_scale_x': '1.2',\n",
       " 'bounding_box_scale_y': '1.2'}"
      ]
     },
     "execution_count": 12,
     "metadata": {},
     "output_type": "execute_result"
    }
   ],
   "source": [
    "fluxonium_gds.options"
   ]
  },
  {
   "cell_type": "code",
   "execution_count": 13,
   "metadata": {},
   "outputs": [
    {
     "data": {
      "text/plain": [
       "{'main': {'material': 'silicon',\n",
       "  'layer_start': '0',\n",
       "  'layer_end': '2048',\n",
       "  'size': {'center_x': '0.0mm',\n",
       "   'center_y': '0.0mm',\n",
       "   'center_z': '0.0mm',\n",
       "   'size_x': '9mm',\n",
       "   'size_y': '9mm',\n",
       "   'size_z': '-750um',\n",
       "   'sample_holder_top': '890um',\n",
       "   'sample_holder_bottom': '1650um'}}}"
      ]
     },
     "execution_count": 13,
     "metadata": {},
     "output_type": "execute_result"
    }
   ],
   "source": [
    "design.chips"
   ]
  },
  {
   "cell_type": "code",
   "execution_count": null,
   "metadata": {},
   "outputs": [],
   "source": []
  }
 ],
 "metadata": {
  "kernelspec": {
   "display_name": "Python 3 (ipykernel)",
   "language": "python",
   "name": "python3"
  },
  "language_info": {
   "codemirror_mode": {
    "name": "ipython",
    "version": 3
   },
   "file_extension": ".py",
   "mimetype": "text/x-python",
   "name": "python",
   "nbconvert_exporter": "python",
   "pygments_lexer": "ipython3",
   "version": "3.9.12"
  }
 },
 "nbformat": 4,
 "nbformat_minor": 4
}
